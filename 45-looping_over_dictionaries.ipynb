{
 "cells": [
  {
   "cell_type": "markdown",
   "metadata": {},
   "source": [
    "# Looping over dictionary keys\n",
    "\n",
    "We can use the 'keys()' function to loop over dictionary keys:"
   ]
  },
  {
   "cell_type": "code",
   "execution_count": 2,
   "metadata": {},
   "outputs": [
    {
     "name": "stdout",
     "output_type": "stream",
     "text": [
      "name\n",
      "age\n",
      "city\n",
      "country\n"
     ]
    }
   ],
   "source": [
    "my_dict = {\n",
    "    \"name\": \"Leen\",\n",
    "    \"age\": 30,\n",
    "    \"city\": \"Montreal\",\n",
    "    \"country\": \"Canada\"\n",
    "}\n",
    "\n",
    "for i in my_dict.keys():\n",
    "    print(i)"
   ]
  },
  {
   "cell_type": "markdown",
   "metadata": {},
   "source": [
    "We can also loop over dictionary values using the 'value()' function:"
   ]
  },
  {
   "cell_type": "code",
   "execution_count": 4,
   "metadata": {},
   "outputs": [
    {
     "name": "stdout",
     "output_type": "stream",
     "text": [
      "Leen\n",
      "30\n",
      "Montreal\n",
      "Canada\n"
     ]
    }
   ],
   "source": [
    "my_dict = {\n",
    "    \"name\": \"Leen\",\n",
    "    \"age\": 30,\n",
    "    \"city\": \"Montreal\",\n",
    "    \"country\": \"Canada\"\n",
    "}\n",
    "\n",
    "for i in my_dict.values():\n",
    "    print(i)"
   ]
  },
  {
   "cell_type": "markdown",
   "metadata": {},
   "source": [
    "We can also loop over the key-value pairs using the 'items()' method:"
   ]
  },
  {
   "cell_type": "code",
   "execution_count": 6,
   "metadata": {},
   "outputs": [
    {
     "name": "stdout",
     "output_type": "stream",
     "text": [
      "('name', 'Leen')\n",
      "('age', 30)\n",
      "('city', 'Montreal')\n",
      "('country', 'Canada')\n"
     ]
    }
   ],
   "source": [
    "my_dict = {\n",
    "    \"name\": \"Leen\",\n",
    "    \"age\": 30,\n",
    "    \"city\": \"Montreal\",\n",
    "    \"country\": \"Canada\"\n",
    "}\n",
    "\n",
    "for i in my_dict.items():\n",
    "    print(i)"
   ]
  },
  {
   "cell_type": "markdown",
   "metadata": {},
   "source": [
    "Notice that when we loop over the items, we get tuples. The first item is the key, the second is the value. We can unpack the tuple into two variables:"
   ]
  },
  {
   "cell_type": "code",
   "execution_count": 7,
   "metadata": {},
   "outputs": [
    {
     "name": "stdout",
     "output_type": "stream",
     "text": [
      "name Leen\n",
      "age 30\n",
      "city Montreal\n",
      "country Canada\n"
     ]
    }
   ],
   "source": [
    "my_dict = {\n",
    "    \"name\": \"Leen\",\n",
    "    \"age\": 30,\n",
    "    \"city\": \"Montreal\",\n",
    "    \"country\": \"Canada\"\n",
    "}\n",
    "\n",
    "for i, j in my_dict.items():\n",
    "    print(i, j)"
   ]
  }
 ],
 "metadata": {
  "kernelspec": {
   "display_name": "McGill",
   "language": "python",
   "name": "python3"
  },
  "language_info": {
   "codemirror_mode": {
    "name": "ipython",
    "version": 3
   },
   "file_extension": ".py",
   "mimetype": "text/x-python",
   "name": "python",
   "nbconvert_exporter": "python",
   "pygments_lexer": "ipython3",
   "version": "3.12.4"
  }
 },
 "nbformat": 4,
 "nbformat_minor": 2
}
