{
 "cells": [
  {
   "cell_type": "markdown",
   "metadata": {},
   "source": [
    "# The finally block\n",
    "\n",
    "In addition to `try` and `except`, Python has a `finally` clause which always executes after the `try` and `except` blocks. Code that is entered in the `finally` block will always be executed, regardless of whether an exception was raised or not.\n",
    "\n",
    "Why would we want this? It is useful when you want to make sure that some code is executed no matter what happens in the `try` and `except` blocks. For example, assume that I want the program to print an ID number no matter what happens:"
   ]
  },
  {
   "cell_type": "code",
   "execution_count": 1,
   "metadata": {},
   "outputs": [
    {
     "name": "stdout",
     "output_type": "stream",
     "text": [
      "Invalid input. Please enter a valid number.\n"
     ]
    }
   ],
   "source": [
    "import random\n",
    "\n",
    "id = random.randint(100000, 999999)\n",
    "try:\n",
    "    num1 = int(input(\"Enter a number: \"))\n",
    "    print(\"Your ID is: \", id)\n",
    "except ValueError:\n",
    "    print(\"Invalid input. Please enter a valid number.\")\n",
    "except:\n",
    "    print(\"Something went wrong.\")"
   ]
  },
  {
   "cell_type": "markdown",
   "metadata": {},
   "source": [
    "If the user enters a letter instead of a number, the `int` function will raise an error. In this case, the `print(\"Your ID is: \", id)` is never executed because the program will exit the `try` block where the error happened, and go to the `except` block. The result is that due to thsi error, the program will not print the ID.\n",
    "\n",
    "We can ensure that the program will always print the ID by using the `finally` block:"
   ]
  },
  {
   "cell_type": "code",
   "execution_count": 3,
   "metadata": {},
   "outputs": [
    {
     "name": "stdout",
     "output_type": "stream",
     "text": [
      "Invalid input. Please enter a valid number.\n",
      "Your ID is:  305450\n"
     ]
    }
   ],
   "source": [
    "import random\n",
    "id = random.randint(100000, 999999)\n",
    "try:\n",
    "    num1 = int(input(\"Enter a number: \"))\n",
    "except ValueError:\n",
    "    print(\"Invalid input. Please enter a valid number.\")\n",
    "except:\n",
    "    print(\"Something went wrong.\")\n",
    "finally:\n",
    "    print(\"Your ID is: \", id)"
   ]
  },
  {
   "cell_type": "markdown",
   "metadata": {},
   "source": [
    "In the code above, we have moved the print ID statement command into the `finally` block. Now, the ID will always be printed no matter what. As you can see above, if we enter a string, the `except` block will be executed. However, the `finally` block will still be executed.\n",
    "\n",
    "What if there was no error? In this case, the `except` block will not be executed. However, the `finally` block will still be executed:"
   ]
  },
  {
   "cell_type": "code",
   "execution_count": 3,
   "metadata": {},
   "outputs": [
    {
     "name": "stdout",
     "output_type": "stream",
     "text": [
      "Your ID is:  246757\n"
     ]
    }
   ],
   "source": [
    "import random\n",
    "id = random.randint(100000, 999999)\n",
    "try:\n",
    "    num1 = int(input(\"Enter a number: \"))\n",
    "except ValueError:\n",
    "    print(\"Invalid input. Please enter a valid number.\")\n",
    "except:\n",
    "    print(\"Something went wrong.\")\n",
    "finally:\n",
    "    print(\"Your ID is: \", id)"
   ]
  },
  {
   "cell_type": "markdown",
   "metadata": {},
   "source": [
    "In the above example, we entered a number, so no error was raised. The code executed normally, including the `finally` block. In short,  the `finally` block is executed regardless of whether an error occurred or not."
   ]
  }
 ],
 "metadata": {
  "kernelspec": {
   "display_name": "McGill",
   "language": "python",
   "name": "python3"
  },
  "language_info": {
   "codemirror_mode": {
    "name": "ipython",
    "version": 3
   },
   "file_extension": ".py",
   "mimetype": "text/x-python",
   "name": "python",
   "nbconvert_exporter": "python",
   "pygments_lexer": "ipython3",
   "version": "3.12.4"
  }
 },
 "nbformat": 4,
 "nbformat_minor": 2
}
