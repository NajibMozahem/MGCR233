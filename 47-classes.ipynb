{
 "cells": [
  {
   "cell_type": "markdown",
   "metadata": {},
   "source": [
    "# Classes\n",
    "\n",
    "In all the code that we have been writing so fsar, we have been using the built-in Python data types, such as `int`, `float`, `str`, `list`, `dict`, etc. These data types are all implemented as classes. In this notebook, we will learn how to create our own classes. \n",
    "\n",
    "Why would we want to create our own classes? Sometimes, we want to create our own data types that are more specific to our problem. For example, we might want to create a class called `Person` that has attributes such as `name`, `age`, `gender`, etc. We might also want to create a class called `Car` that has attributes such as `make`, `model`, `year`, etc.\n",
    "\n",
    "Let us create a class called `Person`. We will use the `class` keyword to create a class. The syntax is as follows:"
   ]
  },
  {
   "cell_type": "code",
   "execution_count": 1,
   "metadata": {},
   "outputs": [],
   "source": [
    "class Person:\n",
    "\n",
    "    def __init__(self):\n",
    "        print(\"This is the constructor\")\n",
    "        self.name = \"\"\n",
    "        self.age = 0\n",
    "        self.address = \"\"\n",
    "        self.phone = \"\"\n",
    "        self.email = \"\""
   ]
  },
  {
   "cell_type": "markdown",
   "metadata": {},
   "source": [
    "In the above code, we used the `class` command to tell Python that we are defining a new class. The name of the class is `Person`. The name of a class is just like the name of a variable. We get to pick the name that we want. Standard practice is to use a capital letter for the first letter of the name.\n",
    "\n",
    "Next, we use the `def` command to tell Python that we are defining a new function. The name of the function is `__init__`. This function is a special function that is called when a new object of this class is created. The `self` argument is a reference to the object that is being created. This function is called the constructor. It creates the object and initializes the attributes of the object.\n",
    "\n",
    "What the constructor is doing is that when we create a new object of this class, the constructor will create the attributes of the object. The attributes are the variables that are associated with the object. In this case, we are creating the attributes `name`, `age`, `address`, `phone`, and `email`. \n",
    "\n",
    "Let us now create an object of this class:"
   ]
  },
  {
   "cell_type": "code",
   "execution_count": 2,
   "metadata": {},
   "outputs": [
    {
     "name": "stdout",
     "output_type": "stream",
     "text": [
      "This is the constructor\n"
     ]
    }
   ],
   "source": [
    "var1 = Person()"
   ]
  },
  {
   "cell_type": "markdown",
   "metadata": {},
   "source": [
    "Notice that to create an object, we specify the name of the class, followed by parentheses. When we execute the code, the __init__ method is called automatically. This is illustrated by the fact that the print statement inside the __init__ method is executed.\n",
    "\n",
    "We can now access the attributes of the object using the dot notation. For example, we can access the name attribute of the object using the following code:"
   ]
  },
  {
   "cell_type": "code",
   "execution_count": 4,
   "metadata": {},
   "outputs": [
    {
     "name": "stdout",
     "output_type": "stream",
     "text": [
      "\n",
      "0\n",
      "\n",
      "\n",
      "\n"
     ]
    }
   ],
   "source": [
    "print(var1.name)\n",
    "print(var1.age)\n",
    "print(var1.address)\n",
    "print(var1.phone)\n",
    "print(var1.email)\n"
   ]
  },
  {
   "cell_type": "markdown",
   "metadata": {},
   "source": [
    "Notice that only age was printed. This is because it was initialized to 0 while all other attributes were initialized to empty strings. We can modify the values of the attributes by assigning new values to them:"
   ]
  },
  {
   "cell_type": "code",
   "execution_count": 5,
   "metadata": {},
   "outputs": [
    {
     "name": "stdout",
     "output_type": "stream",
     "text": [
      "John\n",
      "30\n",
      "123 Main St\n",
      "555-1212\n",
      "john@email.com\n"
     ]
    }
   ],
   "source": [
    "var1.name = \"John\"\n",
    "var1.age = 30\n",
    "var1.address = \"123 Main St\"\n",
    "var1.phone = \"555-1212\"\n",
    "var1.email = \"john@email.com\"\n",
    "\n",
    "print(var1.name)\n",
    "print(var1.age)\n",
    "print(var1.address)\n",
    "print(var1.phone)\n",
    "print(var1.email)"
   ]
  },
  {
   "cell_type": "markdown",
   "metadata": {},
   "source": [
    "We can now create another object and assign different values to its attributes:"
   ]
  },
  {
   "cell_type": "code",
   "execution_count": 6,
   "metadata": {},
   "outputs": [
    {
     "name": "stdout",
     "output_type": "stream",
     "text": [
      "This is the constructor\n",
      "Sara\n",
      "35\n",
      "1010 Sherbrook St\n",
      "514-1234-567\n",
      "sara@email.com\n"
     ]
    }
   ],
   "source": [
    "var2 = Person()\n",
    "\n",
    "var2.name = \"Sara\"\n",
    "var2.age = 35\n",
    "var2.address = \"1010 Sherbrook St\"\n",
    "var2.phone = \"514-1234-567\"\n",
    "var2.email = \"sara@email.com\"\n",
    "\n",
    "print(var2.name)\n",
    "print(var2.age)\n",
    "print(var2.address)\n",
    "print(var2.phone)\n",
    "print(var2.email)"
   ]
  },
  {
   "cell_type": "markdown",
   "metadata": {},
   "source": [
    "Again, the constructor is called in order to create an instance of the class. We now have two different objects each with it's own attributes:"
   ]
  },
  {
   "cell_type": "code",
   "execution_count": 7,
   "metadata": {},
   "outputs": [
    {
     "name": "stdout",
     "output_type": "stream",
     "text": [
      "John\n",
      "Sara\n"
     ]
    }
   ],
   "source": [
    "print(var1.name)\n",
    "print(var2.name)"
   ]
  },
  {
   "cell_type": "markdown",
   "metadata": {},
   "source": [
    "In the code above, each time we created an object, the values of the attributes were initialized to the default values that were specified in the constructor. What if we want to initialize the attributes to different values? We can do this by passing arguments to the constructor. The constructor is like other functions, it can take arguments:"
   ]
  },
  {
   "cell_type": "code",
   "execution_count": 8,
   "metadata": {},
   "outputs": [],
   "source": [
    "class Person:\n",
    "\n",
    "    def __init__(self, name1=\"\", age1=0, address1=\"\", phone1=\"\", email1=\"\"):\n",
    "        print(\"This is the constructor\")\n",
    "        self.name = name1\n",
    "        self.age = age1\n",
    "        self.address = address1\n",
    "        self.phone = phone1\n",
    "        self.email = email1"
   ]
  },
  {
   "cell_type": "markdown",
   "metadata": {},
   "source": [
    "We modified the definition of the constructor so that it now receives parameters. These parameters are then used to initialize the attributes of the object. We also set default values for the parameters so that we can create objects without passing any arguments. We can now create objects of the class `Person` by passing parameters to the constructor or we can use the default values:"
   ]
  },
  {
   "cell_type": "code",
   "execution_count": 10,
   "metadata": {},
   "outputs": [
    {
     "name": "stdout",
     "output_type": "stream",
     "text": [
      "This is the constructor\n",
      "This is the constructor\n",
      "This is the first person: \n",
      "\n",
      "0\n",
      "\n",
      "\n",
      "\n",
      "This is the second person: \n",
      "John\n",
      "30\n",
      "123 Main St\n",
      "555-1212\n",
      "john@email.com\n"
     ]
    }
   ],
   "source": [
    "var1 = Person()\n",
    "var2 = Person(\"John\", 30, \"123 Main St\", \"555-1212\",\"john@email.com\")\n",
    "\n",
    "print(\"This is the first person: \")\n",
    "print(var1.name)\n",
    "print(var1.age)\n",
    "print(var1.address)\n",
    "print(var1.phone)\n",
    "print(var1.email)\n",
    "\n",
    "print(\"This is the second person: \")\n",
    "print(var2.name)\n",
    "print(var2.age)\n",
    "print(var2.address)\n",
    "print(var2.phone)\n",
    "print(var2.email)"
   ]
  },
  {
   "cell_type": "markdown",
   "metadata": {},
   "source": [
    "We see that the attributes of var1 are the default values while the attributes of var2 are the values that we have passed to the constructor. "
   ]
  }
 ],
 "metadata": {
  "kernelspec": {
   "display_name": "McGill",
   "language": "python",
   "name": "python3"
  },
  "language_info": {
   "codemirror_mode": {
    "name": "ipython",
    "version": 3
   },
   "file_extension": ".py",
   "mimetype": "text/x-python",
   "name": "python",
   "nbconvert_exporter": "python",
   "pygments_lexer": "ipython3",
   "version": "3.12.4"
  }
 },
 "nbformat": 4,
 "nbformat_minor": 2
}
