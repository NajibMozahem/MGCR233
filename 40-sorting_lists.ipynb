{
 "cells": [
  {
   "cell_type": "markdown",
   "metadata": {},
   "source": [
    "## Sorting lists\n",
    "\n",
    "One specially important function is the sort function:"
   ]
  },
  {
   "cell_type": "code",
   "execution_count": 2,
   "metadata": {},
   "outputs": [
    {
     "name": "stdout",
     "output_type": "stream",
     "text": [
      "Before sorting: [10, 0, 2, 3, -3, -100, 3, 7]\n",
      "After sorting: [-100, -3, 0, 2, 3, 3, 7, 10]\n"
     ]
    }
   ],
   "source": [
    "list1 = [10, 0, 2, 3, -3, -100, 3, 7]\n",
    "\n",
    "print(\"Before sorting:\", list1)\n",
    "\n",
    "list1.sort()\n",
    "\n",
    "print(\"After sorting:\", list1)"
   ]
  },
  {
   "cell_type": "markdown",
   "metadata": {},
   "source": [
    "Notice that the sort function modifies the list. The elements are now sorted.\n",
    "\n",
    "It is also possible to sort the elements in reverse order:"
   ]
  },
  {
   "cell_type": "code",
   "execution_count": 3,
   "metadata": {},
   "outputs": [
    {
     "name": "stdout",
     "output_type": "stream",
     "text": [
      "Before sorting: [10, 0, 2, 3, -3, -100, 3, 7]\n",
      "After sorting: [10, 7, 3, 3, 2, 0, -3, -100]\n"
     ]
    }
   ],
   "source": [
    "list1 = [10, 0, 2, 3, -3, -100, 3, 7]\n",
    "\n",
    "print(\"Before sorting:\", list1)\n",
    "\n",
    "list1.sort(reverse=True)\n",
    "\n",
    "print(\"After sorting:\", list1)"
   ]
  },
  {
   "cell_type": "markdown",
   "metadata": {},
   "source": [
    "A similar function that does the same thing but without modifying the list is the `sorted()` function:"
   ]
  },
  {
   "cell_type": "code",
   "execution_count": 5,
   "metadata": {},
   "outputs": [
    {
     "name": "stdout",
     "output_type": "stream",
     "text": [
      "Before sorting: [10, 0, 2, 3, -3, -100, 3, 7]\n",
      "The sorted list: [-100, -3, 0, 2, 3, 3, 7, 10]\n",
      "After the sorted() function: [10, 0, 2, 3, -3, -100, 3, 7]\n"
     ]
    }
   ],
   "source": [
    "list1 = [10, 0, 2, 3, -3, -100, 3, 7]\n",
    "\n",
    "print(\"Before sorting:\", list1)\n",
    "\n",
    "print(\"The sorted list:\", sorted(list1))\n",
    "\n",
    "print(\"After the sorted() function:\", list1)"
   ]
  },
  {
   "cell_type": "markdown",
   "metadata": {},
   "source": [
    "# Sorting a list of strings\n",
    "\n",
    "Lists that contain strings can also be sorted:"
   ]
  },
  {
   "cell_type": "code",
   "execution_count": 6,
   "metadata": {},
   "outputs": [
    {
     "name": "stdout",
     "output_type": "stream",
     "text": [
      "['Alberta', 'Canada', 'Ontario', 'Quebec']\n"
     ]
    }
   ],
   "source": [
    "list1 = [\"Quebec\", \"Canada\", \"Ontario\", \"Alberta\"]\n",
    "list1.sort()\n",
    "print(list1)"
   ]
  },
  {
   "cell_type": "markdown",
   "metadata": {},
   "source": [
    "# The 'key' parameter\n",
    "\n",
    "Sometimes we may wish to sort a list but using a custom definition. Take the following for example:"
   ]
  },
  {
   "cell_type": "code",
   "execution_count": 9,
   "metadata": {},
   "outputs": [
    {
     "name": "stdout",
     "output_type": "stream",
     "text": [
      "['Alberta', 'Canada', 'Ontario', 'Quebec', 'canada']\n"
     ]
    }
   ],
   "source": [
    "list1 = [\"Quebec\", \"Canada\", \"Ontario\", \"canada\", \"Alberta\"]\n",
    "list1.sort()\n",
    "print(list1)"
   ]
  },
  {
   "cell_type": "markdown",
   "metadata": {},
   "source": [
    "We notice that \"canada\" is at the very end. This is because the code used for lower case letters is larger than the code used for upper case letters:"
   ]
  },
  {
   "cell_type": "code",
   "execution_count": 11,
   "metadata": {},
   "outputs": [
    {
     "name": "stdout",
     "output_type": "stream",
     "text": [
      "Code for 'A' 65\n",
      "Code for 'Z' 90\n",
      "Code for 'a' 97\n"
     ]
    }
   ],
   "source": [
    "print(\"Code for 'A'\", ord('A'))\n",
    "print(\"Code for 'Z'\", ord('Z'))\n",
    "print(\"Code for 'a'\", ord('a'))"
   ]
  },
  {
   "cell_type": "markdown",
   "metadata": {},
   "source": [
    "We can use the 'key' parameter to tell the 'sort' function that instead of the default behavior, it should sort based on a key that is returned by some function. For example, what if we wanted to sort the strings in a list disregarding whether the letter is an uppercase letter or a lowercase letter? We can do that using the following:"
   ]
  },
  {
   "cell_type": "code",
   "execution_count": 12,
   "metadata": {},
   "outputs": [
    {
     "name": "stdout",
     "output_type": "stream",
     "text": [
      "['Alberta', 'Canada', 'canada', 'Ontario', 'Quebec']\n"
     ]
    }
   ],
   "source": [
    "list1 = [\"Quebec\", \"Canada\", \"Ontario\", \"canada\", \"Alberta\"]\n",
    "list1.sort(key=str.lower)\n",
    "print(list1)"
   ]
  },
  {
   "cell_type": "markdown",
   "metadata": {},
   "source": [
    "Notice that both \"canada\" and \"Canada\" are where we expect them to be. In the 'key' parameter, we specified that the 'sort' function should use the 'lower()' function which is part of string objects:"
   ]
  },
  {
   "cell_type": "code",
   "execution_count": 13,
   "metadata": {},
   "outputs": [
    {
     "data": {
      "text/plain": [
       "'hello'"
      ]
     },
     "execution_count": 13,
     "metadata": {},
     "output_type": "execute_result"
    }
   ],
   "source": [
    "str1 = \"Hello\"\n",
    "\n",
    "str1.lower()"
   ]
  },
  {
   "cell_type": "markdown",
   "metadata": {},
   "source": [
    "As you can see, this function converts the letters to lower case. When we use it to specify the `key` parameter in the `sort` function, we are basically telling the `sort` function that it should sort the elements of the list based on the lowercase version of the elements.\n",
    "\n",
    "As another example, consider the following:"
   ]
  },
  {
   "cell_type": "code",
   "execution_count": 14,
   "metadata": {},
   "outputs": [
    {
     "name": "stdout",
     "output_type": "stream",
     "text": [
      "['USA', 'Japan', 'Mexico', \"People's Republic of China\"]\n"
     ]
    }
   ],
   "source": [
    "list1 = [\"Mexico\", \"USA\", \"People's Republic of China\", \"Japan\"]\n",
    "list1.sort(key=len)\n",
    "print(list1)"
   ]
  },
  {
   "cell_type": "markdown",
   "metadata": {},
   "source": [
    "By specifying the `len()` function as the `key` parameters, we sort the list based on the length of the strings in the list."
   ]
  }
 ],
 "metadata": {
  "kernelspec": {
   "display_name": "McGill",
   "language": "python",
   "name": "python3"
  },
  "language_info": {
   "codemirror_mode": {
    "name": "ipython",
    "version": 3
   },
   "file_extension": ".py",
   "mimetype": "text/x-python",
   "name": "python",
   "nbconvert_exporter": "python",
   "pygments_lexer": "ipython3",
   "version": "3.12.4"
  }
 },
 "nbformat": 4,
 "nbformat_minor": 2
}
