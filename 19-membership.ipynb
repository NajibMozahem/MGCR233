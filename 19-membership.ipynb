{
 "cells": [
  {
   "cell_type": "markdown",
   "metadata": {},
   "source": [
    "# Membership\n",
    "\n",
    "The boolean operators we have been using so far check whether values are equal or not equal. The <i>in<i> and <i> not in</i> boolean operators check for membership:"
   ]
  },
  {
   "cell_type": "code",
   "execution_count": 1,
   "metadata": {},
   "outputs": [
    {
     "name": "stdout",
     "output_type": "stream",
     "text": [
      "True\n",
      "False\n"
     ]
    }
   ],
   "source": [
    "#lists\n",
    "list1 = [1, 2, 3, 4, 5]\n",
    "print(1 in list1)\n",
    "print(6 in list1)"
   ]
  },
  {
   "cell_type": "code",
   "execution_count": 2,
   "metadata": {},
   "outputs": [
    {
     "name": "stdout",
     "output_type": "stream",
     "text": [
      "True\n",
      "False\n"
     ]
    }
   ],
   "source": [
    "#sets\n",
    "set1 = {1, 2, 3, 4, 5}\n",
    "print(1 in set1)\n",
    "print(6 in set1)"
   ]
  },
  {
   "cell_type": "code",
   "execution_count": 3,
   "metadata": {},
   "outputs": [
    {
     "name": "stdout",
     "output_type": "stream",
     "text": [
      "True\n",
      "False\n"
     ]
    }
   ],
   "source": [
    "#tuples\n",
    "tuple1 = (1, 2, 3, 4, 5)\n",
    "print(1 in tuple1)\n",
    "print(6 in tuple1)"
   ]
  },
  {
   "cell_type": "code",
   "execution_count": 2,
   "metadata": {},
   "outputs": [
    {
     "name": "stdout",
     "output_type": "stream",
     "text": [
      "True\n",
      "False\n"
     ]
    }
   ],
   "source": [
    "#strings\n",
    "string1 = \" McGill is in Montreal\"\n",
    "print(\"McGill\" in string1)\n",
    "print(\"mcgill\" in string1)"
   ]
  },
  {
   "cell_type": "markdown",
   "metadata": {},
   "source": [
    "We can also use the <i>not in</i> operator:"
   ]
  },
  {
   "cell_type": "code",
   "execution_count": 5,
   "metadata": {},
   "outputs": [
    {
     "name": "stdout",
     "output_type": "stream",
     "text": [
      "False\n",
      "True\n"
     ]
    }
   ],
   "source": [
    "#strings\n",
    "string1 = \" McGill is in Montreal\"\n",
    "print(\"McGill\" not in string1)\n",
    "print(\"mcgill\" not in string1)"
   ]
  },
  {
   "cell_type": "markdown",
   "metadata": {},
   "source": [
    "We can use these operators in if statements:"
   ]
  },
  {
   "cell_type": "code",
   "execution_count": 4,
   "metadata": {},
   "outputs": [
    {
     "name": "stdout",
     "output_type": "stream",
     "text": [
      "Ali is in the list\n",
      "Lara is not in the list\n"
     ]
    }
   ],
   "source": [
    "names = [\"Leen\", \"Ali\", \"Zein\"]\n",
    "if \"Ali\" in names:\n",
    "    print(\"Ali is in the list\")\n",
    "if \"Lara\" not in names:\n",
    "    print(\"Lara is not in the list\")"
   ]
  },
  {
   "cell_type": "markdown",
   "metadata": {},
   "source": [
    "# Membership in dictionaries\n",
    "\n",
    "Membership in dictionaries relates to the <b>keys</b> and not the values: "
   ]
  },
  {
   "cell_type": "code",
   "execution_count": 5,
   "metadata": {},
   "outputs": [
    {
     "name": "stdout",
     "output_type": "stream",
     "text": [
      "True\n",
      "False\n"
     ]
    }
   ],
   "source": [
    "dict1 = {\"name\": \"Leen\", \"age\": 21}\n",
    "print(\"name\" in dict1)\n",
    "print(\"Leen\" in dict1)"
   ]
  },
  {
   "cell_type": "code",
   "execution_count": 6,
   "metadata": {},
   "outputs": [
    {
     "name": "stdout",
     "output_type": "stream",
     "text": [
      "name is in the dictionary\n",
      "21 is not in the dictionary\n"
     ]
    }
   ],
   "source": [
    "dict1 = {\"name\": \"Leen\", \"age\": 21}\n",
    "if \"name\" in dict1:\n",
    "    print(\"name is in the dictionary\")\n",
    "else:\n",
    "    print(\"name is not in the dictionary\")\n",
    "\n",
    "if 21 in dict1:\n",
    "    print(\"21 is in the dictionary\")\n",
    "else:\n",
    "    print(\"21 is not in the dictionary\")"
   ]
  }
 ],
 "metadata": {
  "kernelspec": {
   "display_name": "McGill",
   "language": "python",
   "name": "python3"
  },
  "language_info": {
   "codemirror_mode": {
    "name": "ipython",
    "version": 3
   },
   "file_extension": ".py",
   "mimetype": "text/x-python",
   "name": "python",
   "nbconvert_exporter": "python",
   "pygments_lexer": "ipython3",
   "version": "3.12.4"
  }
 },
 "nbformat": 4,
 "nbformat_minor": 2
}
