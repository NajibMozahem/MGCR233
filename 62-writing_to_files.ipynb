{
 "cells": [
  {
   "cell_type": "markdown",
   "metadata": {},
   "source": [
    "# Writing to files\n",
    "\n",
    "In addition to reading from files, we can also write to files. To do that, we need to open the file in write mode, otherwise we will get an error. When reading a file, the file needs to exist in order for us to open it. However, when writing to a file, if the file does not exist, it will be created. This code will create a file called `file_to_write.txt` and will write two lines to it:"
   ]
  },
  {
   "cell_type": "code",
   "execution_count": 4,
   "metadata": {},
   "outputs": [],
   "source": [
    "f = open(\"file_to_write.txt\", \"w\")\n",
    "\n",
    "f.write(\"This is the first line\")\n",
    "f.write(\"\\nThis is the second line\")\n",
    "\n",
    "f.close()"
   ]
  },
  {
   "cell_type": "markdown",
   "metadata": {},
   "source": [
    "Let us now open the file again and write more data do it:"
   ]
  },
  {
   "cell_type": "code",
   "execution_count": 5,
   "metadata": {},
   "outputs": [],
   "source": [
    "f = open(\"file_to_write.txt\", \"w\")\n",
    "\n",
    "f.write(\"More data\")\n",
    "\n",
    "f.close()"
   ]
  },
  {
   "cell_type": "markdown",
   "metadata": {},
   "source": [
    "If you open the file you will notice that the previous contents have been overwritten. This is because the \"w\" mode will overwrite the file if it already exists. If we wanted to append to the file, we would use the \"a\" mode:"
   ]
  },
  {
   "cell_type": "code",
   "execution_count": 6,
   "metadata": {},
   "outputs": [],
   "source": [
    "f = open(\"file_to_write.txt\", \"a\")\n",
    "\n",
    "f.write(\"\\nMore data in append mode\")\n",
    "\n",
    "f.close()"
   ]
  },
  {
   "cell_type": "markdown",
   "metadata": {},
   "source": [
    "If you now open the file you will see that the `write` function has added the text to the end of the file."
   ]
  },
  {
   "cell_type": "markdown",
   "metadata": {},
   "source": []
  }
 ],
 "metadata": {
  "kernelspec": {
   "display_name": "McGill",
   "language": "python",
   "name": "python3"
  },
  "language_info": {
   "codemirror_mode": {
    "name": "ipython",
    "version": 3
   },
   "file_extension": ".py",
   "mimetype": "text/x-python",
   "name": "python",
   "nbconvert_exporter": "python",
   "pygments_lexer": "ipython3",
   "version": "3.12.4"
  }
 },
 "nbformat": 4,
 "nbformat_minor": 2
}
