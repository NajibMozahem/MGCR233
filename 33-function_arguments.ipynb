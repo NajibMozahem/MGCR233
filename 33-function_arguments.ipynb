{
 "cells": [
  {
   "cell_type": "markdown",
   "metadata": {},
   "source": [
    "# Changing the values of arguments\n",
    "\n",
    "We know that we can send parameters to a function. what would happen if we changed the value of a parameter inside the function?"
   ]
  },
  {
   "cell_type": "code",
   "execution_count": 1,
   "metadata": {},
   "outputs": [
    {
     "name": "stdout",
     "output_type": "stream",
     "text": [
      "inside function: 6\n",
      "outside function: 5\n"
     ]
    }
   ],
   "source": [
    "def increment(x):\n",
    "    x += 1\n",
    "    print(f\"inside function: {x}\")\n",
    "\n",
    "y = 5\n",
    "increment(y)\n",
    "print(f\"outside function: {y}\")"
   ]
  },
  {
   "cell_type": "markdown",
   "metadata": {},
   "source": [
    "Notice that inside the function, the value of the argument has been modified. Outside the function, the value of the argument has not been changed. What if the argument is a mutable object?"
   ]
  },
  {
   "cell_type": "code",
   "execution_count": 2,
   "metadata": {},
   "outputs": [
    {
     "name": "stdout",
     "output_type": "stream",
     "text": [
      "inside function: [1, 99, 3]\n",
      "outside function: [1, 99, 3]\n"
     ]
    }
   ],
   "source": [
    "def modify_2nd_element(x):\n",
    "    x[1] = 99\n",
    "    print(f\"inside function: {x}\")\n",
    "\n",
    "y = [1, 2, 3]\n",
    "modify_2nd_element(y)\n",
    "print(f\"outside function: {y}\")"
   ]
  },
  {
   "cell_type": "markdown",
   "metadata": {},
   "source": [
    "Here we see that the behavior is different. Modifying the list inside the function changes the list outside the function. If the parameter that is passed to the function is a mutable object, the function can modify the object and the modification will be reflected outside the function. If the parameter that is passed to the function is an immutable object, the change to the value of the parameter will not be reflected outside the function."
   ]
  }
 ],
 "metadata": {
  "kernelspec": {
   "display_name": "McGill",
   "language": "python",
   "name": "python3"
  },
  "language_info": {
   "codemirror_mode": {
    "name": "ipython",
    "version": 3
   },
   "file_extension": ".py",
   "mimetype": "text/x-python",
   "name": "python",
   "nbconvert_exporter": "python",
   "pygments_lexer": "ipython3",
   "version": "3.12.4"
  }
 },
 "nbformat": 4,
 "nbformat_minor": 2
}
