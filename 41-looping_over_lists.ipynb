{
 "cells": [
  {
   "cell_type": "markdown",
   "metadata": {},
   "source": [
    "# Looping over lists\n",
    "\n",
    "One of the most important operations in Python is the ability to loop over a list. We can simply loop pver a list, each time accessing the next element in the list:"
   ]
  },
  {
   "cell_type": "code",
   "execution_count": 2,
   "metadata": {},
   "outputs": [
    {
     "name": "stdout",
     "output_type": "stream",
     "text": [
      "1\n",
      "2\n",
      "this is a string\n",
      "4.5\n",
      "True\n"
     ]
    }
   ],
   "source": [
    "list1 = [1, 2, \"this is a string\", 4.5, True]\n",
    "\n",
    "for i in list1:\n",
    "    print(i)"
   ]
  },
  {
   "cell_type": "markdown",
   "metadata": {},
   "source": [
    "We can use the `enumerate` function to loop over a list and get the index and the value of each element:"
   ]
  },
  {
   "cell_type": "code",
   "execution_count": 3,
   "metadata": {},
   "outputs": [
    {
     "name": "stdout",
     "output_type": "stream",
     "text": [
      "0 1\n",
      "1 2\n",
      "2 this is a string\n",
      "3 4.5\n",
      "4 True\n"
     ]
    }
   ],
   "source": [
    "list1 = [1, 2, \"this is a string\", 4.5, True]\n",
    "\n",
    "for i, j in enumerate(list1):\n",
    "    print(i, j)"
   ]
  },
  {
   "cell_type": "markdown",
   "metadata": {},
   "source": [
    "While looping over a list, we can modify the elements of the list:"
   ]
  },
  {
   "cell_type": "code",
   "execution_count": 4,
   "metadata": {},
   "outputs": [
    {
     "name": "stdout",
     "output_type": "stream",
     "text": [
      "[11, 12, 13, 14, 15]\n"
     ]
    }
   ],
   "source": [
    "list1 = [1, 2, 3, 4, 5]\n",
    "\n",
    "for i, j in enumerate(list1):\n",
    "    list1[i] = j + 10\n",
    "\n",
    "print(list1)"
   ]
  },
  {
   "cell_type": "markdown",
   "metadata": {},
   "source": [
    "Let us consider a more complex example. Assume that we ask a user to enter a list of numbers seperated by a space:"
   ]
  },
  {
   "cell_type": "code",
   "execution_count": 6,
   "metadata": {},
   "outputs": [
    {
     "name": "stdout",
     "output_type": "stream",
     "text": [
      "<class 'str'>\n",
      "5 4 1 10 -4\n"
     ]
    }
   ],
   "source": [
    "user_input = input(\"Enter numbers seperated by spaces:\")\n",
    "print(type(user_input))\n",
    "print(user_input)"
   ]
  },
  {
   "cell_type": "markdown",
   "metadata": {},
   "source": [
    "The variable 'user_input' is a string. We would like to separate the numbers so that we can handle each one of them separately. To do this, we can use the `split` function, which splits a string into a list of substrings:"
   ]
  },
  {
   "cell_type": "code",
   "execution_count": 7,
   "metadata": {},
   "outputs": [
    {
     "name": "stdout",
     "output_type": "stream",
     "text": [
      "['5', '4', '1', '10', '-4']\n"
     ]
    }
   ],
   "source": [
    "input_list = user_input.split()\n",
    "print(input_list)"
   ]
  },
  {
   "cell_type": "markdown",
   "metadata": {},
   "source": [
    "Notice that now we have a list where each element is a number. However, we notice that the numbers are stored as strings. We can convert them to integers using the `int()` function. To do this, we will use a for loop:"
   ]
  },
  {
   "cell_type": "code",
   "execution_count": 8,
   "metadata": {},
   "outputs": [
    {
     "name": "stdout",
     "output_type": "stream",
     "text": [
      "[5, 4, 1, 10, -4]\n"
     ]
    }
   ],
   "source": [
    "input_list_numeric = []\n",
    "for i in input_list:\n",
    "    input_list_numeric.append(int(i))\n",
    "\n",
    "print(input_list_numeric)"
   ]
  },
  {
   "cell_type": "markdown",
   "metadata": {},
   "source": [
    "Notice that the new list has the same elements as the original list, but they are saved as integers. We can now use the `sum()` function to calculate the sum of the elements in the list for example:"
   ]
  },
  {
   "cell_type": "code",
   "execution_count": 9,
   "metadata": {},
   "outputs": [
    {
     "data": {
      "text/plain": [
       "16"
      ]
     },
     "execution_count": 9,
     "metadata": {},
     "output_type": "execute_result"
    }
   ],
   "source": [
    "sum(input_list_numeric)"
   ]
  },
  {
   "cell_type": "markdown",
   "metadata": {},
   "source": [
    "We can also loop over the list and modify the numbers:"
   ]
  },
  {
   "cell_type": "code",
   "execution_count": 10,
   "metadata": {},
   "outputs": [
    {
     "name": "stdout",
     "output_type": "stream",
     "text": [
      "[15, 14, 11, 20, 6]\n"
     ]
    }
   ],
   "source": [
    "for i, j in enumerate(input_list_numeric):\n",
    "    input_list_numeric[i] = j + 10\n",
    "\n",
    "print(input_list_numeric)"
   ]
  }
 ],
 "metadata": {
  "kernelspec": {
   "display_name": "McGill",
   "language": "python",
   "name": "python3"
  },
  "language_info": {
   "codemirror_mode": {
    "name": "ipython",
    "version": 3
   },
   "file_extension": ".py",
   "mimetype": "text/x-python",
   "name": "python",
   "nbconvert_exporter": "python",
   "pygments_lexer": "ipython3",
   "version": "3.12.4"
  }
 },
 "nbformat": 4,
 "nbformat_minor": 2
}
