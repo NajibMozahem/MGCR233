{
 "cells": [
  {
   "cell_type": "markdown",
   "metadata": {},
   "source": [
    "# Lists\n",
    "\n",
    "Lists are one of the most important data structures in Python. A list is a container in which we can store objects. There are several functions that allow us to manipulate lists. It is very important to note that since lists are mutable, when a function is called on a list, the list is modified. Look at the following examples:"
   ]
  },
  {
   "cell_type": "code",
   "execution_count": 2,
   "metadata": {},
   "outputs": [
    {
     "name": "stdout",
     "output_type": "stream",
     "text": [
      "Original list: [10, 0, 2, 3, -3, -100, 3, 7]\n",
      "append(6): [10, 0, 2, 3, -3, -100, 3, 7, 6]\n",
      "insert(1, -500): [10, -500, 0, 2, 3, -3, -100, 3, 7, 6]\n",
      "extend(list2): [10, -500, 0, 2, 3, -3, -100, 3, 7, 6, 4, 11]\n",
      "remove(3): [10, -500, 0, 2, -3, -100, 3, 7, 6, 4, 11]\n",
      "pop(1): [10, 0, 2, -3, -100, 3, 7, 6, 4, 11]\n",
      "pop(): [10, 0, 2, -3, -100, 3, 7, 6, 4]\n"
     ]
    }
   ],
   "source": [
    "list1 = [10, 0, 2, 3, -3, -100, 3, 7]\n",
    "\n",
    "print(\"Original list:\", list1)\n",
    "\n",
    "list1.append(6)\n",
    "print(\"append(6):\", list1)\n",
    "\n",
    "list1.insert(1, -500)\n",
    "print(\"insert(1, -500):\", list1)\n",
    "\n",
    "list2 = [4, 11]\n",
    "list1.extend(list2)\n",
    "print(\"extend(list2):\", list1)\n",
    "\n",
    "list1.remove(3)\n",
    "print(\"remove(3):\", list1)\n",
    "\n",
    "list1.pop(1)\n",
    "print(\"pop(1):\", list1)\n",
    "\n",
    "list1.pop()\n",
    "print(\"pop():\", list1)"
   ]
  },
  {
   "cell_type": "markdown",
   "metadata": {},
   "source": [
    "Some functions do not modify the list. They simply give me a piece of information that is valuable. For example:"
   ]
  },
  {
   "cell_type": "code",
   "execution_count": 3,
   "metadata": {},
   "outputs": [
    {
     "name": "stdout",
     "output_type": "stream",
     "text": [
      "Index of Halifax: 2\n",
      "Count of Montreal: 1\n"
     ]
    }
   ],
   "source": [
    "list1 = [\"Canada\", \"Montreal\", \"Halifax\", \"Toronto\", \"Ottawa\", \"Quebec\", \"Halifax\"]\n",
    "\n",
    "print(\"Index of Halifax:\", list1.index(\"Halifax\"))\n",
    "\n",
    "print(\"Count of Montreal:\", list1.count(\"Montreal\"))"
   ]
  }
 ],
 "metadata": {
  "kernelspec": {
   "display_name": "McGill",
   "language": "python",
   "name": "python3"
  },
  "language_info": {
   "codemirror_mode": {
    "name": "ipython",
    "version": 3
   },
   "file_extension": ".py",
   "mimetype": "text/x-python",
   "name": "python",
   "nbconvert_exporter": "python",
   "pygments_lexer": "ipython3",
   "version": "3.12.4"
  }
 },
 "nbformat": 4,
 "nbformat_minor": 2
}
