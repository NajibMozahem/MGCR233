{
 "cells": [
  {
   "cell_type": "markdown",
   "metadata": {},
   "source": [
    "# The OS package\n",
    "\n",
    "A very useful module when interacting with the operating system is the OS package. This package provides a way to interact with the operating system and allows us to perform operations without worying about the details of the operating system, such as whether the operating system is Windows, Linux, or Mac. This is important because different operating systems have different ways of performing the same operation. For example, assume we want to read a file that is stored in a folder called `folder_os`. We can do this:"
   ]
  },
  {
   "cell_type": "code",
   "execution_count": 1,
   "metadata": {},
   "outputs": [
    {
     "name": "stdout",
     "output_type": "stream",
     "text": [
      "This file is in a folder\n",
      "called folder_os\n"
     ]
    }
   ],
   "source": [
    "my_path = \"folder_os/file1.txt\"\n",
    "f = open(my_path)\n",
    "contents = f.read()\n",
    "f.close()\n",
    "print(contents)"
   ]
  },
  {
   "cell_type": "markdown",
   "metadata": {},
   "source": [
    "While the above worked, it will not work on all operating systems. The reason is that different operating systems have different ways of representing file paths. For example, on Windows, the file path is represented as a string of characters separated by backslashes (\\). On Unix-like systems, the file path is represented as a string of characters separated by forward slashes (/). It is not good practise to write code that only works on a particular operating system. Instead, we should write code that works on all operating systems.\n",
    "\n",
    "Here is where the os package comes in. The os package provides a way to interact with the operating system. For example, instead of us writing the path of the file as  a string, we can use the os.path.join() function to join the path of the file with the name of the file:"
   ]
  },
  {
   "cell_type": "code",
   "execution_count": 2,
   "metadata": {},
   "outputs": [
    {
     "name": "stdout",
     "output_type": "stream",
     "text": [
      "This is the path to the file: folder_os/file1.txt\n",
      "This file is in a folder\n",
      "called folder_os\n"
     ]
    }
   ],
   "source": [
    "import os\n",
    "\n",
    "my_path = os.path.join(\"folder_os\", \"file1.txt\")\n",
    "print(\"This is the path to the file:\", my_path)\n",
    "f = open(my_path)\n",
    "contents = f.read()\n",
    "print(contents)\n",
    "f.close()"
   ]
  },
  {
   "cell_type": "markdown",
   "metadata": {},
   "source": [
    "Notice how we used the `os.path.join()` function to combine the name of the folder and the name of the file. The os package will automatically add the `/` character between the two strings because this code is running on a Unix-based system. If the code was running on a Windows-based system, the `/` character would be replaced by a `\\` character.\n",
    "\n",
    "The os package has other useful functions as well., For example, we can check if a certain file or folder path exists on the system using the `os.path.exists()` function:"
   ]
  },
  {
   "cell_type": "code",
   "execution_count": 7,
   "metadata": {},
   "outputs": [
    {
     "name": "stdout",
     "output_type": "stream",
     "text": [
      "Does the path folder_os exist? True\n",
      "Does the file folder_os2 exist? False\n"
     ]
    }
   ],
   "source": [
    "my_path = \"folder_os\"\n",
    "print(\"Does the path folder_os exist?\", os.path.exists(my_path))\n",
    "\n",
    "my_path2 = \"folder_os2\"\n",
    "print(\"Does the file folder_os2 exist?\", os.path.exists(my_path2))"
   ]
  },
  {
   "cell_type": "markdown",
   "metadata": {},
   "source": [
    "We can also check if a path belongs to a file that actually exists using the `isfile()` method:"
   ]
  },
  {
   "cell_type": "code",
   "execution_count": 8,
   "metadata": {},
   "outputs": [
    {
     "name": "stdout",
     "output_type": "stream",
     "text": [
      "Does the file file1.txt exist? True\n",
      "Does the file file2.txt exist? False\n"
     ]
    }
   ],
   "source": [
    "my_path = \"file1.txt\"\n",
    "print(\"Does the file file1.txt exist?\", os.path.isfile(my_path))\n",
    "\n",
    "my_path2 = \"file2.txt\"\n",
    "print(\"Does the file file2.txt exist?\", os.path.isfile(my_path2))"
   ]
  },
  {
   "cell_type": "markdown",
   "metadata": {},
   "source": [
    "We can also extract the last token in a path using the `split` function:"
   ]
  },
  {
   "cell_type": "code",
   "execution_count": 10,
   "metadata": {},
   "outputs": [
    {
     "name": "stdout",
     "output_type": "stream",
     "text": [
      "('folder1/folder2', 'file1.txt')\n"
     ]
    }
   ],
   "source": [
    "my_path = \"folder1/folder2/file1.txt\"\n",
    "\n",
    "print(os.path.split(my_path))"
   ]
  }
 ],
 "metadata": {
  "kernelspec": {
   "display_name": "McGill",
   "language": "python",
   "name": "python3"
  },
  "language_info": {
   "codemirror_mode": {
    "name": "ipython",
    "version": 3
   },
   "file_extension": ".py",
   "mimetype": "text/x-python",
   "name": "python",
   "nbconvert_exporter": "python",
   "pygments_lexer": "ipython3",
   "version": "3.12.4"
  }
 },
 "nbformat": 4,
 "nbformat_minor": 2
}
