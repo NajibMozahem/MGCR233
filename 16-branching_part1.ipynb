{
 "cells": [
  {
   "cell_type": "markdown",
   "metadata": {},
   "source": [
    "# The if command\n",
    "\n",
    "Branches allow us to execute blocks of code if a certain condition is met. For example:\n"
   ]
  },
  {
   "cell_type": "code",
   "execution_count": 1,
   "metadata": {},
   "outputs": [
    {
     "name": "stdout",
     "output_type": "stream",
     "text": [
      "This statement is outside the if block\n"
     ]
    }
   ],
   "source": [
    "salary = 90000\n",
    "if salary == 100000:\n",
    "    print(\"This is the first statement in the if block\")\n",
    "    print(\"This is the second statement in the if block\")\n",
    "print(\"This statement is outside the if block\")"
   ]
  },
  {
   "cell_type": "markdown",
   "metadata": {},
   "source": [
    "Since the expression ```salary == 100000``` evaluates to False, the code in the if block is not executed and execution goes to the first command after the if block. What if the condition was true?"
   ]
  },
  {
   "cell_type": "code",
   "execution_count": 3,
   "metadata": {},
   "outputs": [
    {
     "name": "stdout",
     "output_type": "stream",
     "text": [
      "This is the first statement in the if block\n",
      "This is the second statement in the if block\n",
      "This statement is outside the if block\n"
     ]
    }
   ],
   "source": [
    "salary = 90000\n",
    "if salary == 90000:\n",
    "    print(\"This is the first statement in the if block\")\n",
    "    print(\"This is the second statement in the if block\")\n",
    "print(\"This statement is outside the if block\")"
   ]
  },
  {
   "cell_type": "markdown",
   "metadata": {},
   "source": [
    "We see that when the condition is true, the print statements in the if block are executed. We can also check for inequality:"
   ]
  },
  {
   "cell_type": "code",
   "execution_count": 4,
   "metadata": {},
   "outputs": [
    {
     "name": "stdout",
     "output_type": "stream",
     "text": [
      "This statement is outside the if block\n"
     ]
    }
   ],
   "source": [
    "salary = 90000\n",
    "if salary != 90000: # check if salary is not equal to 90000\n",
    "    print(\"This is the first statement in the if block\")\n",
    "    print(\"This is the second statement in the if block\")\n",
    "print(\"This statement is outside the if block\")"
   ]
  },
  {
   "cell_type": "markdown",
   "metadata": {},
   "source": [
    "The expression ```salary != 90000``` evaluates to False, since salary is equal to 90000. Therefore, the code in the if block is not executed.\n",
    "\n",
    "# if-else\n",
    "\n",
    "If the condition we are checking is not true, we can use the else command to execute another block of code:"
   ]
  },
  {
   "cell_type": "code",
   "execution_count": 6,
   "metadata": {},
   "outputs": [
    {
     "name": "stdout",
     "output_type": "stream",
     "text": [
      "This is the first statement in the else block\n",
      "This is the second statement in the else block\n",
      "This statement is outside the if block\n"
     ]
    }
   ],
   "source": [
    "salary = 90000\n",
    "if salary <= 80000: # check if salary is not equal to 90000\n",
    "    print(\"This is the first statement in the if block\")\n",
    "    print(\"This is the second statement in the if block\")\n",
    "else:\n",
    "    print(\"This is the first statement in the else block\")\n",
    "    print(\"This is the second statement in the else block\")\n",
    "print(\"This statement is outside the if block\")"
   ]
  },
  {
   "cell_type": "markdown",
   "metadata": {},
   "source": [
    "We can use if-else blocks to control which value gets assigned to variables:"
   ]
  },
  {
   "cell_type": "code",
   "execution_count": 7,
   "metadata": {},
   "outputs": [
    {
     "name": "stdout",
     "output_type": "stream",
     "text": [
      "11\n"
     ]
    }
   ],
   "source": [
    "my_num1 = 10\n",
    "if my_num1 == 10:\n",
    "    my_num1 += 1\n",
    "else:\n",
    "    my_num1 += 2\n",
    "print(my_num1)"
   ]
  },
  {
   "cell_type": "markdown",
   "metadata": {},
   "source": [
    "# Multiple if-else:\n",
    "\n",
    "The above if-else statements had two branches. We can have more than that using the elif command which stands for \"else if\":"
   ]
  },
  {
   "cell_type": "code",
   "execution_count": 10,
   "metadata": {},
   "outputs": [
    {
     "name": "stdout",
     "output_type": "stream",
     "text": [
      "The number is 9\n"
     ]
    }
   ],
   "source": [
    "my_num1 = 9\n",
    "if my_num1 == 10:\n",
    "    print(\"The number is 10\")\n",
    "elif my_num1 == 9:\n",
    "    print(\"The number is 9\")\n",
    "else:\n",
    "    print(\"The number is not 9 or 10\")"
   ]
  },
  {
   "cell_type": "markdown",
   "metadata": {},
   "source": [
    "Notice that only the pritn statement in the second branch gets executed. The last else branch is not executed because it is only executed if all of the above branches evaluate to False.\n",
    "\n",
    "The following example checks the range of a number:"
   ]
  },
  {
   "cell_type": "code",
   "execution_count": 12,
   "metadata": {},
   "outputs": [
    {
     "name": "stdout",
     "output_type": "stream",
     "text": [
      "The price is a bit high\n"
     ]
    }
   ],
   "source": [
    "price = 80\n",
    "if price < 20:\n",
    "    print(\"The price is low\")\n",
    "elif price < 60:\n",
    "    print(\"The price is ok\")\n",
    "elif price < 100:\n",
    "    print(\"The price is a bit high\")\n",
    "else:\n",
    "    print(\"The price is high\")"
   ]
  },
  {
   "cell_type": "markdown",
   "metadata": {},
   "source": [
    "We can use operator chaining in the if condition. This basically means that we can write ```0 < age < 20``` instead of ``` (age > 0)  and (age < 20)```: "
   ]
  },
  {
   "cell_type": "code",
   "execution_count": 14,
   "metadata": {},
   "outputs": [
    {
     "name": "stdout",
     "output_type": "stream",
     "text": [
      "You are older than 20\n"
     ]
    }
   ],
   "source": [
    "age = 30\n",
    "if 0 < age < 20:\n",
    "    print(\"You are youger than 20\")\n",
    "else:\n",
    "    print(\"You are older than 20\")"
   ]
  },
  {
   "cell_type": "code",
   "execution_count": 16,
   "metadata": {},
   "outputs": [
    {
     "name": "stdout",
     "output_type": "stream",
     "text": [
      "You are older than 20\n"
     ]
    }
   ],
   "source": [
    "# This is another way to write the above code\n",
    "age = 30\n",
    "if (age > 0)  and (age < 20):\n",
    "    print(\"You are youger than 20\")\n",
    "else:\n",
    "    print(\"You are older than 20\")"
   ]
  },
  {
   "cell_type": "markdown",
   "metadata": {},
   "source": [
    "Both ways generate the same output.\n",
    "\n",
    "# Explicit and Implicit ranges\n",
    "The following is an implicit range:"
   ]
  },
  {
   "cell_type": "code",
   "execution_count": 19,
   "metadata": {},
   "outputs": [
    {
     "name": "stdout",
     "output_type": "stream",
     "text": [
      "The population is less than or equal to 1000000\n"
     ]
    }
   ],
   "source": [
    "population = 700000\n",
    "if (population < 0):\n",
    "    print(\"The population is negative\")\n",
    "elif (population <= 1000):\n",
    "    print(\"The population is less than or equal to 1000\")\n",
    "elif (population <= 1000000):\n",
    "    print(\"The population is less than or equal to 1000000\")"
   ]
  },
  {
   "cell_type": "markdown",
   "metadata": {},
   "source": [
    "The following is identical, but we explicitly define the ranges:"
   ]
  },
  {
   "cell_type": "code",
   "execution_count": 20,
   "metadata": {},
   "outputs": [
    {
     "name": "stdout",
     "output_type": "stream",
     "text": [
      "The population is less than or equal to 1000000\n"
     ]
    }
   ],
   "source": [
    "population = 700000\n",
    "if (population < 0):\n",
    "    print(\"The population is negative\")\n",
    "elif (population >= 0) and (population <= 1000):\n",
    "    print(\"The population is less than or equal to 1000\")\n",
    "elif (population >= 1000) and (population <= 1000000):\n",
    "    print(\"The population is less than or equal to 1000000\")"
   ]
  },
  {
   "cell_type": "markdown",
   "metadata": {},
   "source": [
    "# Ranges with gaps\n",
    "\n",
    "The ranges used so far had no gaps. It is possible to have gaps in the ranges:"
   ]
  },
  {
   "cell_type": "code",
   "execution_count": 21,
   "metadata": {},
   "outputs": [
    {
     "name": "stdout",
     "output_type": "stream",
     "text": [
      "Movie ticket price: $14\n"
     ]
    }
   ],
   "source": [
    "movie_ticket_price = None\n",
    "\n",
    "user_age = 30\n",
    "\n",
    "if user_age <= 12:     # Age 12 and under\n",
    "   print('Child ticket discount.')\n",
    "   movie_ticket_price = 11\n",
    "elif user_age >= 65:   # Age 65 and older\n",
    "   print('Senior ticket discount.') \n",
    "   movie_ticket_price = 12\n",
    "else:                  # All other ages\n",
    "   movie_ticket_price = 14\n",
    "\n",
    "print(f'Movie ticket price: ${movie_ticket_price}')"
   ]
  },
  {
   "cell_type": "markdown",
   "metadata": {},
   "source": []
  }
 ],
 "metadata": {
  "kernelspec": {
   "display_name": "McGill",
   "language": "python",
   "name": "python3"
  },
  "language_info": {
   "codemirror_mode": {
    "name": "ipython",
    "version": 3
   },
   "file_extension": ".py",
   "mimetype": "text/x-python",
   "name": "python",
   "nbconvert_exporter": "python",
   "pygments_lexer": "ipython3",
   "version": "3.12.4"
  }
 },
 "nbformat": 4,
 "nbformat_minor": 2
}
