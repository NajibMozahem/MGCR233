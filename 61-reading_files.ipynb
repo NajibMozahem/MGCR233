{
 "cells": [
  {
   "cell_type": "markdown",
   "metadata": {},
   "source": [
    "# Reading from a file\n",
    "\n",
    "Python allows us to interact with files on our computer. This is a very powerful feature that allows us to read and write data to files. The following code shows how to read a file in Python:"
   ]
  },
  {
   "cell_type": "code",
   "execution_count": 1,
   "metadata": {},
   "outputs": [
    {
     "name": "stdout",
     "output_type": "stream",
     "text": [
      "<class 'str'>\n",
      "This course teaches Python\n",
      "Python is a popular programming language\n",
      "It is used for web development, data science, and artificial intelligence\n"
     ]
    }
   ],
   "source": [
    "f = open(\"file1.txt\")\n",
    "content = f.read()\n",
    "f.close()\n",
    "print(type(content))\n",
    "print(content)"
   ]
  },
  {
   "cell_type": "markdown",
   "metadata": {},
   "source": [
    "The `open` function is used to create a connnection to a file. Once we have the connection, we can use the `read` method to read the contents of the file. We save the contents of the file in a variable called `contents` and then close the connection. Notice that the content is of type `string`. \n",
    "\n",
    "Another way to read the contents of a file is to use the `readlines`  method. This method returns a list of lines in the file:"
   ]
  },
  {
   "cell_type": "code",
   "execution_count": 2,
   "metadata": {},
   "outputs": [
    {
     "name": "stdout",
     "output_type": "stream",
     "text": [
      "<class 'list'>\n",
      "['This course teaches Python\\n', 'Python is a popular programming language\\n', 'It is used for web development, data science, and artificial intelligence']\n"
     ]
    }
   ],
   "source": [
    "f = open(\"file1.txt\")\n",
    "content = f.readlines()\n",
    "f.close()\n",
    "print(type(content))\n",
    "print(content)"
   ]
  },
  {
   "cell_type": "markdown",
   "metadata": {},
   "source": [
    "Notice that the `readlines` method returns a list of strings, where each string is a line in the file. Since we now have the content as a list, we can loop through the list:"
   ]
  },
  {
   "cell_type": "code",
   "execution_count": 3,
   "metadata": {},
   "outputs": [
    {
     "name": "stdout",
     "output_type": "stream",
     "text": [
      "This course teaches Python\n",
      "\n",
      "Python is a popular programming language\n",
      "\n",
      "It is used for web development, data science, and artificial intelligence\n"
     ]
    }
   ],
   "source": [
    "for i in content:\n",
    "    print(i)"
   ]
  },
  {
   "cell_type": "markdown",
   "metadata": {},
   "source": [
    "Finally, it is also possible to read in a file line by line using the `readlines()` method. We migth want to do this if the file is too large to read in as a whole for example:"
   ]
  },
  {
   "cell_type": "code",
   "execution_count": 4,
   "metadata": {},
   "outputs": [
    {
     "name": "stdout",
     "output_type": "stream",
     "text": [
      "This course teaches Python\n",
      "\n",
      "Python is a popular programming language\n",
      "\n",
      "It is used for web development, data science, and artificial intelligence\n"
     ]
    }
   ],
   "source": [
    "f = open(\"file1.txt\")\n",
    "var1 = f.readline()\n",
    "var2 = f.readline()\n",
    "var3 = f.readline()\n",
    "f.close()\n",
    "print(var1)\n",
    "print(var2)\n",
    "print(var3)"
   ]
  },
  {
   "cell_type": "markdown",
   "metadata": {},
   "source": [
    "## The with statement\n",
    "\n",
    "Closing files is important to avoid resource leaks. The `with` statement ensures that a file is closed when the block inside the statement is exited:"
   ]
  },
  {
   "cell_type": "code",
   "execution_count": 4,
   "metadata": {},
   "outputs": [
    {
     "name": "stdout",
     "output_type": "stream",
     "text": [
      "This course teaches Python\n",
      "\n",
      "Python is a popular programming language\n",
      "\n",
      "It is used for web development, data science, and artificial intelligence\n"
     ]
    }
   ],
   "source": [
    "with open(\"file1.txt\") as f:\n",
    "    var1 = f.readline()\n",
    "    var2 = f.readline()\n",
    "    var3 = f.readline()\n",
    "\n",
    "print(var1)\n",
    "print(var2)\n",
    "print(var3)"
   ]
  },
  {
   "cell_type": "markdown",
   "metadata": {},
   "source": [
    "The file automatically closed at the end of the with block. There is no need for us to close the file manually."
   ]
  }
 ],
 "metadata": {
  "kernelspec": {
   "display_name": "McGill",
   "language": "python",
   "name": "python3"
  },
  "language_info": {
   "codemirror_mode": {
    "name": "ipython",
    "version": 3
   },
   "file_extension": ".py",
   "mimetype": "text/x-python",
   "name": "python",
   "nbconvert_exporter": "python",
   "pygments_lexer": "ipython3",
   "version": "3.12.4"
  }
 },
 "nbformat": 4,
 "nbformat_minor": 2
}
