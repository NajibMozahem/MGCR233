{
 "cells": [
  {
   "cell_type": "markdown",
   "metadata": {},
   "source": [
    "# Default values for parameters\n",
    "\n",
    "Consider the following function:"
   ]
  },
  {
   "cell_type": "code",
   "execution_count": 1,
   "metadata": {},
   "outputs": [
    {
     "name": "stdout",
     "output_type": "stream",
     "text": [
      "7\n"
     ]
    }
   ],
   "source": [
    "def f1(a, b):\n",
    "    return a + b\n",
    "\n",
    "print(f1(3, 4))"
   ]
  },
  {
   "cell_type": "markdown",
   "metadata": {},
   "source": [
    "We see that everything works fine. if we try to call the function using a single parameter we get an error:"
   ]
  },
  {
   "cell_type": "code",
   "execution_count": 2,
   "metadata": {},
   "outputs": [
    {
     "ename": "TypeError",
     "evalue": "f1() missing 1 required positional argument: 'b'",
     "output_type": "error",
     "traceback": [
      "\u001b[0;31m---------------------------------------------------------------------------\u001b[0m",
      "\u001b[0;31mTypeError\u001b[0m                                 Traceback (most recent call last)",
      "Cell \u001b[0;32mIn[2], line 1\u001b[0m\n\u001b[0;32m----> 1\u001b[0m \u001b[43mf1\u001b[49m\u001b[43m(\u001b[49m\u001b[38;5;241;43m3\u001b[39;49m\u001b[43m)\u001b[49m\n",
      "\u001b[0;31mTypeError\u001b[0m: f1() missing 1 required positional argument: 'b'"
     ]
    }
   ],
   "source": [
    "f1(3)"
   ]
  },
  {
   "cell_type": "markdown",
   "metadata": {},
   "source": [
    "The error is due to the fact that in the function definition, we specified that the function receives two parameters. We cannot call the function with only one parameter. However, we can solve this problem by providing a default value for the second parameter:"
   ]
  },
  {
   "cell_type": "code",
   "execution_count": 3,
   "metadata": {},
   "outputs": [
    {
     "name": "stdout",
     "output_type": "stream",
     "text": [
      "5\n"
     ]
    }
   ],
   "source": [
    "def f1(a, b=2):\n",
    "    return a + b\n",
    "\n",
    "print(f1(3))"
   ]
  },
  {
   "cell_type": "markdown",
   "metadata": {},
   "source": [
    "Notice that if we do not specify a value for the parameter `b`, it will default to 2. This is why the function returns 5, which is 3 plus 2. If we wanted to be able to call the function without spcifying any parameters, we can set default values for all parameters:"
   ]
  },
  {
   "cell_type": "code",
   "execution_count": 4,
   "metadata": {},
   "outputs": [
    {
     "name": "stdout",
     "output_type": "stream",
     "text": [
      "3\n"
     ]
    }
   ],
   "source": [
    "def f1(a=1, b=2):\n",
    "    return a + b\n",
    "\n",
    "print(f1())"
   ]
  },
  {
   "cell_type": "markdown",
   "metadata": {},
   "source": [
    "# Optional arguments\n",
    "\n",
    "So we can modify the definition of the function to allow for it to be called with or without an argument. We can also allow a function to be called with additional arguments:"
   ]
  },
  {
   "cell_type": "code",
   "execution_count": 5,
   "metadata": {},
   "outputs": [
    {
     "name": "stdout",
     "output_type": "stream",
     "text": [
      "1\n",
      "2\n",
      "(3, 4, 5)\n",
      "<class 'tuple'>\n"
     ]
    }
   ],
   "source": [
    "def f1(a=1, b=2, *args):\n",
    "    print(a)\n",
    "    print(b)\n",
    "    print(args)\n",
    "    print(type(args))\n",
    "\n",
    "f1(1, 2, 3, 4, 5)"
   ]
  },
  {
   "cell_type": "markdown",
   "metadata": {},
   "source": [
    "Notice that even though the function definition specifies that the function takes two parameters, we are able to call the function with five arguments. The additional arguments are saved in a tuple that is called `args`. This is made possible by the `*` before the `args` in the function definition. This star tells Python to take all the additional arguments that are passed to the function and put them in a tuple. We can call this function with ten parameters:"
   ]
  },
  {
   "cell_type": "code",
   "execution_count": 6,
   "metadata": {},
   "outputs": [
    {
     "name": "stdout",
     "output_type": "stream",
     "text": [
      "4\n",
      "1\n",
      "(7, 10, 7, 2, 4, 6, 5, 0)\n",
      "<class 'tuple'>\n"
     ]
    }
   ],
   "source": [
    "f1(4, 1, 7, 10, 7, 2, 4, 6, 5, 0)"
   ]
  },
  {
   "cell_type": "markdown",
   "metadata": {},
   "source": [
    "Notice that all additional arguments are saved in the tuple `args`. It should be noted that we can call the tuple whatever we want. This is just a variable name. However, standard practise is to call it `args`.\n",
    "\n",
    "We can also use the `**kwargs` syntax to create a dictionary of keyword arguments:"
   ]
  },
  {
   "cell_type": "code",
   "execution_count": 9,
   "metadata": {},
   "outputs": [
    {
     "name": "stdout",
     "output_type": "stream",
     "text": [
      "1\n",
      "2\n",
      "{'var1': 3, 'var2': 4, 'var3': 5}\n",
      "<class 'dict'>\n"
     ]
    }
   ],
   "source": [
    "def f1(a=1, b=2, **kwargs):\n",
    "    print(a)\n",
    "    print(b)\n",
    "    print(kwargs)\n",
    "    print(type(kwargs))\n",
    "\n",
    "f1(1, 2, var1=3, var2=4, var3=5)"
   ]
  },
  {
   "cell_type": "markdown",
   "metadata": {},
   "source": [
    "If we use the `**` operator, we can pass in a dictionary of arguments to the function. The variable `kwargs` will be a dictionary of the keyword arguments passed in. Notice that for this to work, we will have to provide the keys of the dictionary when we call the function.\n",
    "\n",
    "We can use both `*` and `**` at the same time:"
   ]
  },
  {
   "cell_type": "code",
   "execution_count": 10,
   "metadata": {},
   "outputs": [
    {
     "name": "stdout",
     "output_type": "stream",
     "text": [
      "1\n",
      "2\n",
      "('a', 'b', 'c', 'd')\n",
      "<class 'tuple'>\n",
      "{'element': 3, 'another_element': 4, 'a_third_element': 5}\n",
      "<class 'dict'>\n"
     ]
    }
   ],
   "source": [
    "def f1(a=1, b=2, *args, **kwargs):\n",
    "    print(a)\n",
    "    print(b)\n",
    "    print(args)\n",
    "    print(type(args))\n",
    "    print(kwargs)\n",
    "    print(type(kwargs))\n",
    "\n",
    "f1(1, 2, 'a', 'b', 'c', 'd', element=3, another_element=4, a_third_element=5)"
   ]
  },
  {
   "cell_type": "markdown",
   "metadata": {},
   "source": [
    "To be able to se both `*args` and `**kwargs` in the same function, we need to include them at the end of the parameter list with the `*args` parameter before `**kwargs`."
   ]
  }
 ],
 "metadata": {
  "kernelspec": {
   "display_name": "McGill",
   "language": "python",
   "name": "python3"
  },
  "language_info": {
   "codemirror_mode": {
    "name": "ipython",
    "version": 3
   },
   "file_extension": ".py",
   "mimetype": "text/x-python",
   "name": "python",
   "nbconvert_exporter": "python",
   "pygments_lexer": "ipython3",
   "version": "3.12.4"
  }
 },
 "nbformat": 4,
 "nbformat_minor": 2
}
