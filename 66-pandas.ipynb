{
 "cells": [
  {
   "cell_type": "markdown",
   "metadata": {},
   "source": [
    "# Pandas\n",
    "\n",
    "The pandas package is a powerful tool for data manipulation and analysis in Python. It provides data structures and functions for working with structured data, such as data frames. A dataframe is a two-dimensional table with labeled rows and columns. Each row has a unique index, and each column has a name. Let us read a `csv` file into a dataframe:"
   ]
  },
  {
   "cell_type": "code",
   "execution_count": 26,
   "metadata": {},
   "outputs": [
    {
     "name": "stdout",
     "output_type": "stream",
     "text": [
      "<class 'pandas.core.frame.DataFrame'>\n"
     ]
    }
   ],
   "source": [
    "import pandas as pd\n",
    "\n",
    "df = pd.read_csv(\"country.csv\")\n",
    "\n",
    "print(type(df))"
   ]
  },
  {
   "cell_type": "markdown",
   "metadata": {},
   "source": [
    "Notice that the variable `df` is now a `pandas.DataFrame` object. Let us print this object to see what it contains:"
   ]
  },
  {
   "cell_type": "code",
   "execution_count": 2,
   "metadata": {},
   "outputs": [
    {
     "name": "stdout",
     "output_type": "stream",
     "text": [
      "                   Name      Continent  Population\n",
      "0           Afghanistan           Asia    22720000\n",
      "1               Albania         Europe     3401200\n",
      "2               Algeria         Africa    31471000\n",
      "3        American Samoa        Oceania       68000\n",
      "4               Andorra         Europe       78000\n",
      "5                Angola         Africa    12878000\n",
      "6              Anguilla  North America        8000\n",
      "7            Antarctica     Antarctica           0\n",
      "8   Antigua and Barbuda  North America       68000\n",
      "9             Argentina  South America    37032000\n",
      "10               Canada  North America    40100000\n"
     ]
    }
   ],
   "source": [
    "print(df)"
   ]
  },
  {
   "cell_type": "markdown",
   "metadata": {},
   "source": [
    "Notice how easy it was to read the `csv` file into a `DataFrame`. There was no need to create a csv reader, and no need to iterate over the file line by line, and no need to worry about opening and closing the file.\n",
    "\n",
    "We can also display the first few rows of the `DataFrame` using the `head()` method:"
   ]
  },
  {
   "cell_type": "code",
   "execution_count": 7,
   "metadata": {},
   "outputs": [
    {
     "data": {
      "text/html": [
       "<div>\n",
       "<style scoped>\n",
       "    .dataframe tbody tr th:only-of-type {\n",
       "        vertical-align: middle;\n",
       "    }\n",
       "\n",
       "    .dataframe tbody tr th {\n",
       "        vertical-align: top;\n",
       "    }\n",
       "\n",
       "    .dataframe thead th {\n",
       "        text-align: right;\n",
       "    }\n",
       "</style>\n",
       "<table border=\"1\" class=\"dataframe\">\n",
       "  <thead>\n",
       "    <tr style=\"text-align: right;\">\n",
       "      <th></th>\n",
       "      <th>Name</th>\n",
       "      <th>Continent</th>\n",
       "      <th>Population</th>\n",
       "    </tr>\n",
       "  </thead>\n",
       "  <tbody>\n",
       "    <tr>\n",
       "      <th>0</th>\n",
       "      <td>Afghanistan</td>\n",
       "      <td>Asia</td>\n",
       "      <td>22720000</td>\n",
       "    </tr>\n",
       "    <tr>\n",
       "      <th>1</th>\n",
       "      <td>Albania</td>\n",
       "      <td>Europe</td>\n",
       "      <td>3401200</td>\n",
       "    </tr>\n",
       "    <tr>\n",
       "      <th>2</th>\n",
       "      <td>Algeria</td>\n",
       "      <td>Africa</td>\n",
       "      <td>31471000</td>\n",
       "    </tr>\n",
       "    <tr>\n",
       "      <th>3</th>\n",
       "      <td>American Samoa</td>\n",
       "      <td>Oceania</td>\n",
       "      <td>68000</td>\n",
       "    </tr>\n",
       "    <tr>\n",
       "      <th>4</th>\n",
       "      <td>Andorra</td>\n",
       "      <td>Europe</td>\n",
       "      <td>78000</td>\n",
       "    </tr>\n",
       "  </tbody>\n",
       "</table>\n",
       "</div>"
      ],
      "text/plain": [
       "             Name Continent  Population\n",
       "0     Afghanistan      Asia    22720000\n",
       "1         Albania    Europe     3401200\n",
       "2         Algeria    Africa    31471000\n",
       "3  American Samoa   Oceania       68000\n",
       "4         Andorra    Europe       78000"
      ]
     },
     "execution_count": 7,
     "metadata": {},
     "output_type": "execute_result"
    }
   ],
   "source": [
    "df.head()"
   ]
  },
  {
   "cell_type": "markdown",
   "metadata": {},
   "source": [
    "Notice how nicely formatted the output is. Similar to numpy arrays, we can see the shape and size of the dataframe:"
   ]
  },
  {
   "cell_type": "code",
   "execution_count": 4,
   "metadata": {},
   "outputs": [
    {
     "name": "stdout",
     "output_type": "stream",
     "text": [
      "Shape of the dataframe:  (10, 3)\n",
      "Number of elements in the dataframe:  30\n"
     ]
    }
   ],
   "source": [
    "print(\"Shape of the dataframe: \", df.shape)\n",
    "print(\"Number of elements in the dataframe: \", df.size)"
   ]
  },
  {
   "cell_type": "markdown",
   "metadata": {},
   "source": [
    "We can also list the columns of a dataframe:"
   ]
  },
  {
   "cell_type": "code",
   "execution_count": 6,
   "metadata": {},
   "outputs": [
    {
     "data": {
      "text/plain": [
       "Index(['Name', 'Continent', 'Population'], dtype='object')"
      ]
     },
     "execution_count": 6,
     "metadata": {},
     "output_type": "execute_result"
    }
   ],
   "source": [
    "df.columns"
   ]
  },
  {
   "cell_type": "markdown",
   "metadata": {},
   "source": [
    "We can also see the data types for each column:"
   ]
  },
  {
   "cell_type": "code",
   "execution_count": 7,
   "metadata": {},
   "outputs": [
    {
     "data": {
      "text/plain": [
       "Name          object\n",
       "Continent     object\n",
       "Population     int64\n",
       "dtype: object"
      ]
     },
     "execution_count": 7,
     "metadata": {},
     "output_type": "execute_result"
    }
   ],
   "source": [
    "df.dtypes"
   ]
  },
  {
   "cell_type": "markdown",
   "metadata": {},
   "source": [
    "Notice that the column 'Population' is an integer. Pandas idenfies the column as an integer and automatically converts the column to an integer type, unlike when we were reading directly from the csv file ourselves and converting the column to an integer type.\n",
    "\n",
    "It is also possible to display specific columns of a DataFrame using the syntax:"
   ]
  },
  {
   "cell_type": "code",
   "execution_count": null,
   "metadata": {},
   "outputs": [
    {
     "name": "stdout",
     "output_type": "stream",
     "text": [
      "<class 'pandas.core.series.Series'>\n"
     ]
    },
    {
     "data": {
      "text/plain": [
       "0             Afghanistan\n",
       "1                 Albania\n",
       "2                 Algeria\n",
       "3          American Samoa\n",
       "4                 Andorra\n",
       "5                  Angola\n",
       "6                Anguilla\n",
       "7              Antarctica\n",
       "8     Antigua and Barbuda\n",
       "9               Argentina\n",
       "10                 Canada\n",
       "Name: Name, dtype: object"
      ]
     },
     "execution_count": 8,
     "metadata": {},
     "output_type": "execute_result"
    }
   ],
   "source": [
    "print(type(df['Name']))\n",
    "df['Name']"
   ]
  },
  {
   "cell_type": "markdown",
   "metadata": {},
   "source": [
    "Notice that the type of the data is now a `pandas.core.series.Series`. We can preserve the type as a dataframe by using two square brackets `[[ ]]`:"
   ]
  },
  {
   "cell_type": "code",
   "execution_count": 9,
   "metadata": {},
   "outputs": [
    {
     "name": "stdout",
     "output_type": "stream",
     "text": [
      "<class 'pandas.core.frame.DataFrame'>\n"
     ]
    },
    {
     "data": {
      "text/html": [
       "<div>\n",
       "<style scoped>\n",
       "    .dataframe tbody tr th:only-of-type {\n",
       "        vertical-align: middle;\n",
       "    }\n",
       "\n",
       "    .dataframe tbody tr th {\n",
       "        vertical-align: top;\n",
       "    }\n",
       "\n",
       "    .dataframe thead th {\n",
       "        text-align: right;\n",
       "    }\n",
       "</style>\n",
       "<table border=\"1\" class=\"dataframe\">\n",
       "  <thead>\n",
       "    <tr style=\"text-align: right;\">\n",
       "      <th></th>\n",
       "      <th>Name</th>\n",
       "    </tr>\n",
       "  </thead>\n",
       "  <tbody>\n",
       "    <tr>\n",
       "      <th>0</th>\n",
       "      <td>Afghanistan</td>\n",
       "    </tr>\n",
       "    <tr>\n",
       "      <th>1</th>\n",
       "      <td>Albania</td>\n",
       "    </tr>\n",
       "    <tr>\n",
       "      <th>2</th>\n",
       "      <td>Algeria</td>\n",
       "    </tr>\n",
       "    <tr>\n",
       "      <th>3</th>\n",
       "      <td>American Samoa</td>\n",
       "    </tr>\n",
       "    <tr>\n",
       "      <th>4</th>\n",
       "      <td>Andorra</td>\n",
       "    </tr>\n",
       "    <tr>\n",
       "      <th>5</th>\n",
       "      <td>Angola</td>\n",
       "    </tr>\n",
       "    <tr>\n",
       "      <th>6</th>\n",
       "      <td>Anguilla</td>\n",
       "    </tr>\n",
       "    <tr>\n",
       "      <th>7</th>\n",
       "      <td>Antarctica</td>\n",
       "    </tr>\n",
       "    <tr>\n",
       "      <th>8</th>\n",
       "      <td>Antigua and Barbuda</td>\n",
       "    </tr>\n",
       "    <tr>\n",
       "      <th>9</th>\n",
       "      <td>Argentina</td>\n",
       "    </tr>\n",
       "    <tr>\n",
       "      <th>10</th>\n",
       "      <td>Canada</td>\n",
       "    </tr>\n",
       "  </tbody>\n",
       "</table>\n",
       "</div>"
      ],
      "text/plain": [
       "                   Name\n",
       "0           Afghanistan\n",
       "1               Albania\n",
       "2               Algeria\n",
       "3        American Samoa\n",
       "4               Andorra\n",
       "5                Angola\n",
       "6              Anguilla\n",
       "7            Antarctica\n",
       "8   Antigua and Barbuda\n",
       "9             Argentina\n",
       "10               Canada"
      ]
     },
     "execution_count": 9,
     "metadata": {},
     "output_type": "execute_result"
    }
   ],
   "source": [
    "print(type(df[['Name']]))\n",
    "df[['Name']]"
   ]
  },
  {
   "cell_type": "markdown",
   "metadata": {},
   "source": [
    "We see that the data is a pandas dataframe. It is also possible to specify more than one column:"
   ]
  },
  {
   "cell_type": "code",
   "execution_count": 9,
   "metadata": {},
   "outputs": [
    {
     "data": {
      "text/html": [
       "<div>\n",
       "<style scoped>\n",
       "    .dataframe tbody tr th:only-of-type {\n",
       "        vertical-align: middle;\n",
       "    }\n",
       "\n",
       "    .dataframe tbody tr th {\n",
       "        vertical-align: top;\n",
       "    }\n",
       "\n",
       "    .dataframe thead th {\n",
       "        text-align: right;\n",
       "    }\n",
       "</style>\n",
       "<table border=\"1\" class=\"dataframe\">\n",
       "  <thead>\n",
       "    <tr style=\"text-align: right;\">\n",
       "      <th></th>\n",
       "      <th>Name</th>\n",
       "      <th>Population</th>\n",
       "    </tr>\n",
       "  </thead>\n",
       "  <tbody>\n",
       "    <tr>\n",
       "      <th>0</th>\n",
       "      <td>Afghanistan</td>\n",
       "      <td>22720000</td>\n",
       "    </tr>\n",
       "    <tr>\n",
       "      <th>1</th>\n",
       "      <td>Albania</td>\n",
       "      <td>3401200</td>\n",
       "    </tr>\n",
       "    <tr>\n",
       "      <th>2</th>\n",
       "      <td>Algeria</td>\n",
       "      <td>31471000</td>\n",
       "    </tr>\n",
       "    <tr>\n",
       "      <th>3</th>\n",
       "      <td>American Samoa</td>\n",
       "      <td>68000</td>\n",
       "    </tr>\n",
       "    <tr>\n",
       "      <th>4</th>\n",
       "      <td>Andorra</td>\n",
       "      <td>78000</td>\n",
       "    </tr>\n",
       "    <tr>\n",
       "      <th>5</th>\n",
       "      <td>Angola</td>\n",
       "      <td>12878000</td>\n",
       "    </tr>\n",
       "    <tr>\n",
       "      <th>6</th>\n",
       "      <td>Anguilla</td>\n",
       "      <td>8000</td>\n",
       "    </tr>\n",
       "    <tr>\n",
       "      <th>7</th>\n",
       "      <td>Antarctica</td>\n",
       "      <td>0</td>\n",
       "    </tr>\n",
       "    <tr>\n",
       "      <th>8</th>\n",
       "      <td>Antigua and Barbuda</td>\n",
       "      <td>68000</td>\n",
       "    </tr>\n",
       "    <tr>\n",
       "      <th>9</th>\n",
       "      <td>Argentina</td>\n",
       "      <td>37032000</td>\n",
       "    </tr>\n",
       "    <tr>\n",
       "      <th>10</th>\n",
       "      <td>Canada</td>\n",
       "      <td>40100000</td>\n",
       "    </tr>\n",
       "  </tbody>\n",
       "</table>\n",
       "</div>"
      ],
      "text/plain": [
       "                   Name  Population\n",
       "0           Afghanistan    22720000\n",
       "1               Albania     3401200\n",
       "2               Algeria    31471000\n",
       "3        American Samoa       68000\n",
       "4               Andorra       78000\n",
       "5                Angola    12878000\n",
       "6              Anguilla        8000\n",
       "7            Antarctica           0\n",
       "8   Antigua and Barbuda       68000\n",
       "9             Argentina    37032000\n",
       "10               Canada    40100000"
      ]
     },
     "execution_count": 9,
     "metadata": {},
     "output_type": "execute_result"
    }
   ],
   "source": [
    "df[['Name', 'Population']]"
   ]
  },
  {
   "cell_type": "markdown",
   "metadata": {},
   "source": [
    "## The iloc attribute\n",
    "\n",
    "Similar to numpy arrays, pandas dataframes have an iloc attribute that can be used to access rows and columns by position:"
   ]
  },
  {
   "cell_type": "code",
   "execution_count": 12,
   "metadata": {},
   "outputs": [
    {
     "name": "stdout",
     "output_type": "stream",
     "text": [
      "                  Name      Continent  Population\n",
      "0          Afghanistan           Asia    22720000\n",
      "1              Albania         Europe     3401200\n",
      "2              Algeria         Africa    31471000\n",
      "3       American Samoa        Oceania       68000\n",
      "4              Andorra         Europe       78000\n",
      "5               Angola         Africa    12878000\n",
      "6             Anguilla  North America        8000\n",
      "7           Antarctica     Antarctica           0\n",
      "8  Antigua and Barbuda  North America       68000\n",
      "9            Argentina  South America    37032000\n",
      "\n",
      "Element at row 0 and column 1:  Asia\n",
      "Element at row 3 and column 2:  68000\n"
     ]
    }
   ],
   "source": [
    "print(df)\n",
    "print()\n",
    "print(\"Element at row 0 and column 1: \", df.iloc[0, 1])\n",
    "print(\"Element at row 3 and column 2: \", df.iloc[3, 2])"
   ]
  },
  {
   "cell_type": "markdown",
   "metadata": {},
   "source": [
    "It is important to note that the numbers start at 0. \n",
    "\n",
    "We can also using slicing to get a range of values:"
   ]
  },
  {
   "cell_type": "code",
   "execution_count": 15,
   "metadata": {},
   "outputs": [
    {
     "name": "stdout",
     "output_type": "stream",
     "text": [
      "                  Name      Continent  Population\n",
      "0          Afghanistan           Asia    22720000\n",
      "1              Albania         Europe     3401200\n",
      "2              Algeria         Africa    31471000\n",
      "3       American Samoa        Oceania       68000\n",
      "4              Andorra         Europe       78000\n",
      "5               Angola         Africa    12878000\n",
      "6             Anguilla  North America        8000\n",
      "7           Antarctica     Antarctica           0\n",
      "8  Antigua and Barbuda  North America       68000\n",
      "9            Argentina  South America    37032000\n",
      "\n",
      "Rows from 1 to 3, with all columns:               Name Continent  Population\n",
      "0     Afghanistan      Asia    22720000\n",
      "1         Albania    Europe     3401200\n",
      "2         Algeria    Africa    31471000\n",
      "3  American Samoa   Oceania       68000\n",
      "\n",
      "Rows from start to 5, and columns from 1 to last:    Continent  Population\n",
      "0      Asia    22720000\n",
      "1    Europe     3401200\n",
      "2    Africa    31471000\n",
      "3   Oceania       68000\n",
      "4    Europe       78000\n",
      "5    Africa    12878000\n"
     ]
    }
   ],
   "source": [
    "print(df)\n",
    "print()\n",
    "print(\"Rows from 1 to 3, with all columns: \", df.iloc[0:4,:])\n",
    "print()\n",
    "print(\"Rows from start to 5, and columns from 1 to last: \", df.iloc[:6,1:])"
   ]
  },
  {
   "cell_type": "markdown",
   "metadata": {},
   "source": [
    "## The loc attribute\n",
    "\n",
    "Similar to the `iloc` attribute, the `loc` attribute allows you to select rows and columns, but instead of using integer indices, you use labels. For example, in our dataframe, the columns have labels. We can use these labels to select the columns:"
   ]
  },
  {
   "cell_type": "code",
   "execution_count": 18,
   "metadata": {},
   "outputs": [
    {
     "name": "stdout",
     "output_type": "stream",
     "text": [
      "                  Name      Continent  Population\n",
      "0          Afghanistan           Asia    22720000\n",
      "1              Albania         Europe     3401200\n",
      "2              Algeria         Africa    31471000\n",
      "3       American Samoa        Oceania       68000\n",
      "4              Andorra         Europe       78000\n",
      "5               Angola         Africa    12878000\n",
      "6             Anguilla  North America        8000\n",
      "7           Antarctica     Antarctica           0\n",
      "8  Antigua and Barbuda  North America       68000\n",
      "9            Argentina  South America    37032000\n",
      "\n",
      "Rows with index 1, 2, 3, 4 and columns 'Continent' and 'Population':\n",
      "    Continent  Population\n",
      "1    Europe     3401200\n",
      "2    Africa    31471000\n",
      "3   Oceania       68000\n",
      "4    Europe       78000\n",
      "5    Africa    12878000\n"
     ]
    }
   ],
   "source": [
    "print(df)\n",
    "print()\n",
    "\n",
    "print(\"Rows with index 1, 2, 3, 4 and columns 'Continent' and 'Population':\\n \", df.loc[1:5, ['Continent', 'Population']])"
   ]
  },
  {
   "cell_type": "markdown",
   "metadata": {},
   "source": [
    "There are two main diffeerences between `loc` and `iloc` in Pandas. First, `loc` is label-based, which means that you have to specify the row and column labels to access a particular cell or group of cells. On the other hand, `iloc` is integer-based, which means that you have to specify the row and column indices to access a particular cell or group of cells.\n",
    "\n",
    "Second, `loc` is inclusive, which means that it includes the last element in the specified range, while `iloc` is exclusive, which means that it excludes the last element in the specified range."
   ]
  },
  {
   "cell_type": "markdown",
   "metadata": {},
   "source": [
    "## Filtering data\n",
    "\n",
    "One of the main uses of Pandas is to filter data. This is a very common task in data analysis. Filtering data is the process of selecting a subset of data from a larger dataset based on certain criteria. For eample, let us filter our data set to include only rows where the population is greater than 1,000,000:"
   ]
  },
  {
   "cell_type": "code",
   "execution_count": 10,
   "metadata": {},
   "outputs": [
    {
     "data": {
      "text/html": [
       "<div>\n",
       "<style scoped>\n",
       "    .dataframe tbody tr th:only-of-type {\n",
       "        vertical-align: middle;\n",
       "    }\n",
       "\n",
       "    .dataframe tbody tr th {\n",
       "        vertical-align: top;\n",
       "    }\n",
       "\n",
       "    .dataframe thead th {\n",
       "        text-align: right;\n",
       "    }\n",
       "</style>\n",
       "<table border=\"1\" class=\"dataframe\">\n",
       "  <thead>\n",
       "    <tr style=\"text-align: right;\">\n",
       "      <th></th>\n",
       "      <th>Name</th>\n",
       "      <th>Continent</th>\n",
       "      <th>Population</th>\n",
       "    </tr>\n",
       "  </thead>\n",
       "  <tbody>\n",
       "    <tr>\n",
       "      <th>0</th>\n",
       "      <td>Afghanistan</td>\n",
       "      <td>Asia</td>\n",
       "      <td>22720000</td>\n",
       "    </tr>\n",
       "    <tr>\n",
       "      <th>1</th>\n",
       "      <td>Albania</td>\n",
       "      <td>Europe</td>\n",
       "      <td>3401200</td>\n",
       "    </tr>\n",
       "    <tr>\n",
       "      <th>2</th>\n",
       "      <td>Algeria</td>\n",
       "      <td>Africa</td>\n",
       "      <td>31471000</td>\n",
       "    </tr>\n",
       "    <tr>\n",
       "      <th>5</th>\n",
       "      <td>Angola</td>\n",
       "      <td>Africa</td>\n",
       "      <td>12878000</td>\n",
       "    </tr>\n",
       "    <tr>\n",
       "      <th>9</th>\n",
       "      <td>Argentina</td>\n",
       "      <td>South America</td>\n",
       "      <td>37032000</td>\n",
       "    </tr>\n",
       "    <tr>\n",
       "      <th>10</th>\n",
       "      <td>Canada</td>\n",
       "      <td>North America</td>\n",
       "      <td>40100000</td>\n",
       "    </tr>\n",
       "  </tbody>\n",
       "</table>\n",
       "</div>"
      ],
      "text/plain": [
       "           Name      Continent  Population\n",
       "0   Afghanistan           Asia    22720000\n",
       "1       Albania         Europe     3401200\n",
       "2       Algeria         Africa    31471000\n",
       "5        Angola         Africa    12878000\n",
       "9     Argentina  South America    37032000\n",
       "10       Canada  North America    40100000"
      ]
     },
     "execution_count": 10,
     "metadata": {},
     "output_type": "execute_result"
    }
   ],
   "source": [
    "df[df['Population'] > 1000000]"
   ]
  },
  {
   "cell_type": "markdown",
   "metadata": {},
   "source": [
    "We see that the rows 0, 1, 2, 5, and 9 satisfy the condition. We can also filter on more than one condition. We can do this using operators such as `and` and `or`. However, we need to use the `&` and `|` operators instead of `and` and `or` respectively:"
   ]
  },
  {
   "cell_type": "code",
   "execution_count": 15,
   "metadata": {},
   "outputs": [
    {
     "data": {
      "text/html": [
       "<div>\n",
       "<style scoped>\n",
       "    .dataframe tbody tr th:only-of-type {\n",
       "        vertical-align: middle;\n",
       "    }\n",
       "\n",
       "    .dataframe tbody tr th {\n",
       "        vertical-align: top;\n",
       "    }\n",
       "\n",
       "    .dataframe thead th {\n",
       "        text-align: right;\n",
       "    }\n",
       "</style>\n",
       "<table border=\"1\" class=\"dataframe\">\n",
       "  <thead>\n",
       "    <tr style=\"text-align: right;\">\n",
       "      <th></th>\n",
       "      <th>Name</th>\n",
       "      <th>Continent</th>\n",
       "      <th>Population</th>\n",
       "    </tr>\n",
       "  </thead>\n",
       "  <tbody>\n",
       "    <tr>\n",
       "      <th>0</th>\n",
       "      <td>Afghanistan</td>\n",
       "      <td>Asia</td>\n",
       "      <td>22720000</td>\n",
       "    </tr>\n",
       "  </tbody>\n",
       "</table>\n",
       "</div>"
      ],
      "text/plain": [
       "          Name Continent  Population\n",
       "0  Afghanistan      Asia    22720000"
      ]
     },
     "execution_count": 15,
     "metadata": {},
     "output_type": "execute_result"
    }
   ],
   "source": [
    "# get rows where population is greater than 1 million and continent is Asia\n",
    "df[(df['Population'] > 1000000) & (df['Continent'] == 'Asia')]"
   ]
  },
  {
   "cell_type": "code",
   "execution_count": 16,
   "metadata": {},
   "outputs": [
    {
     "data": {
      "text/html": [
       "<div>\n",
       "<style scoped>\n",
       "    .dataframe tbody tr th:only-of-type {\n",
       "        vertical-align: middle;\n",
       "    }\n",
       "\n",
       "    .dataframe tbody tr th {\n",
       "        vertical-align: top;\n",
       "    }\n",
       "\n",
       "    .dataframe thead th {\n",
       "        text-align: right;\n",
       "    }\n",
       "</style>\n",
       "<table border=\"1\" class=\"dataframe\">\n",
       "  <thead>\n",
       "    <tr style=\"text-align: right;\">\n",
       "      <th></th>\n",
       "      <th>Name</th>\n",
       "      <th>Continent</th>\n",
       "      <th>Population</th>\n",
       "    </tr>\n",
       "  </thead>\n",
       "  <tbody>\n",
       "    <tr>\n",
       "      <th>0</th>\n",
       "      <td>Afghanistan</td>\n",
       "      <td>Asia</td>\n",
       "      <td>22720000</td>\n",
       "    </tr>\n",
       "    <tr>\n",
       "      <th>1</th>\n",
       "      <td>Albania</td>\n",
       "      <td>Europe</td>\n",
       "      <td>3401200</td>\n",
       "    </tr>\n",
       "    <tr>\n",
       "      <th>2</th>\n",
       "      <td>Algeria</td>\n",
       "      <td>Africa</td>\n",
       "      <td>31471000</td>\n",
       "    </tr>\n",
       "    <tr>\n",
       "      <th>5</th>\n",
       "      <td>Angola</td>\n",
       "      <td>Africa</td>\n",
       "      <td>12878000</td>\n",
       "    </tr>\n",
       "    <tr>\n",
       "      <th>9</th>\n",
       "      <td>Argentina</td>\n",
       "      <td>South America</td>\n",
       "      <td>37032000</td>\n",
       "    </tr>\n",
       "    <tr>\n",
       "      <th>10</th>\n",
       "      <td>Canada</td>\n",
       "      <td>North America</td>\n",
       "      <td>40100000</td>\n",
       "    </tr>\n",
       "  </tbody>\n",
       "</table>\n",
       "</div>"
      ],
      "text/plain": [
       "           Name      Continent  Population\n",
       "0   Afghanistan           Asia    22720000\n",
       "1       Albania         Europe     3401200\n",
       "2       Algeria         Africa    31471000\n",
       "5        Angola         Africa    12878000\n",
       "9     Argentina  South America    37032000\n",
       "10       Canada  North America    40100000"
      ]
     },
     "execution_count": 16,
     "metadata": {},
     "output_type": "execute_result"
    }
   ],
   "source": [
    "# get rows where population is greater than 1 million or continent is Asia\n",
    "df[(df['Population'] > 1000000) | (df['Continent'] == 'Asia')]"
   ]
  },
  {
   "cell_type": "markdown",
   "metadata": {},
   "source": [
    "The `~` character can be used to indicate `not`. For example, `~True` is `False`:"
   ]
  },
  {
   "cell_type": "code",
   "execution_count": 17,
   "metadata": {},
   "outputs": [
    {
     "data": {
      "text/html": [
       "<div>\n",
       "<style scoped>\n",
       "    .dataframe tbody tr th:only-of-type {\n",
       "        vertical-align: middle;\n",
       "    }\n",
       "\n",
       "    .dataframe tbody tr th {\n",
       "        vertical-align: top;\n",
       "    }\n",
       "\n",
       "    .dataframe thead th {\n",
       "        text-align: right;\n",
       "    }\n",
       "</style>\n",
       "<table border=\"1\" class=\"dataframe\">\n",
       "  <thead>\n",
       "    <tr style=\"text-align: right;\">\n",
       "      <th></th>\n",
       "      <th>Name</th>\n",
       "      <th>Continent</th>\n",
       "      <th>Population</th>\n",
       "    </tr>\n",
       "  </thead>\n",
       "  <tbody>\n",
       "    <tr>\n",
       "      <th>3</th>\n",
       "      <td>American Samoa</td>\n",
       "      <td>Oceania</td>\n",
       "      <td>68000</td>\n",
       "    </tr>\n",
       "    <tr>\n",
       "      <th>4</th>\n",
       "      <td>Andorra</td>\n",
       "      <td>Europe</td>\n",
       "      <td>78000</td>\n",
       "    </tr>\n",
       "    <tr>\n",
       "      <th>6</th>\n",
       "      <td>Anguilla</td>\n",
       "      <td>North America</td>\n",
       "      <td>8000</td>\n",
       "    </tr>\n",
       "    <tr>\n",
       "      <th>7</th>\n",
       "      <td>Antarctica</td>\n",
       "      <td>Antarctica</td>\n",
       "      <td>0</td>\n",
       "    </tr>\n",
       "    <tr>\n",
       "      <th>8</th>\n",
       "      <td>Antigua and Barbuda</td>\n",
       "      <td>North America</td>\n",
       "      <td>68000</td>\n",
       "    </tr>\n",
       "  </tbody>\n",
       "</table>\n",
       "</div>"
      ],
      "text/plain": [
       "                  Name      Continent  Population\n",
       "3       American Samoa        Oceania       68000\n",
       "4              Andorra         Europe       78000\n",
       "6             Anguilla  North America        8000\n",
       "7           Antarctica     Antarctica           0\n",
       "8  Antigua and Barbuda  North America       68000"
      ]
     },
     "execution_count": 17,
     "metadata": {},
     "output_type": "execute_result"
    }
   ],
   "source": [
    "# get rows where population is not greater than 1 million\n",
    "df[~(df['Population'] > 1000000)]"
   ]
  },
  {
   "cell_type": "markdown",
   "metadata": {},
   "source": [
    "## Pandas methods\n",
    "\n",
    "There are many methods that can be used to manipulate dataframes. It is important to note that while DataFrames are mutable, the methods that are used to manipulate them do not change the original DataFrame. Instead, they return a new DataFrame with the changes applied. If we want the changes to be in place, we need to set the `inplace` parameter to `True`. By default is it `False`. For example, the `drop` method is used to remove rows or columns from a DataFrame:"
   ]
  },
  {
   "cell_type": "code",
   "execution_count": 13,
   "metadata": {},
   "outputs": [
    {
     "data": {
      "text/html": [
       "<div>\n",
       "<style scoped>\n",
       "    .dataframe tbody tr th:only-of-type {\n",
       "        vertical-align: middle;\n",
       "    }\n",
       "\n",
       "    .dataframe tbody tr th {\n",
       "        vertical-align: top;\n",
       "    }\n",
       "\n",
       "    .dataframe thead th {\n",
       "        text-align: right;\n",
       "    }\n",
       "</style>\n",
       "<table border=\"1\" class=\"dataframe\">\n",
       "  <thead>\n",
       "    <tr style=\"text-align: right;\">\n",
       "      <th></th>\n",
       "      <th>Name</th>\n",
       "      <th>Continent</th>\n",
       "      <th>Population</th>\n",
       "    </tr>\n",
       "  </thead>\n",
       "  <tbody>\n",
       "    <tr>\n",
       "      <th>0</th>\n",
       "      <td>Afghanistan</td>\n",
       "      <td>Asia</td>\n",
       "      <td>22720000</td>\n",
       "    </tr>\n",
       "    <tr>\n",
       "      <th>1</th>\n",
       "      <td>Albania</td>\n",
       "      <td>Europe</td>\n",
       "      <td>3401200</td>\n",
       "    </tr>\n",
       "    <tr>\n",
       "      <th>2</th>\n",
       "      <td>Algeria</td>\n",
       "      <td>Africa</td>\n",
       "      <td>31471000</td>\n",
       "    </tr>\n",
       "    <tr>\n",
       "      <th>3</th>\n",
       "      <td>American Samoa</td>\n",
       "      <td>Oceania</td>\n",
       "      <td>68000</td>\n",
       "    </tr>\n",
       "    <tr>\n",
       "      <th>4</th>\n",
       "      <td>Andorra</td>\n",
       "      <td>Europe</td>\n",
       "      <td>78000</td>\n",
       "    </tr>\n",
       "  </tbody>\n",
       "</table>\n",
       "</div>"
      ],
      "text/plain": [
       "             Name Continent  Population\n",
       "0     Afghanistan      Asia    22720000\n",
       "1         Albania    Europe     3401200\n",
       "2         Algeria    Africa    31471000\n",
       "3  American Samoa   Oceania       68000\n",
       "4         Andorra    Europe       78000"
      ]
     },
     "execution_count": 13,
     "metadata": {},
     "output_type": "execute_result"
    }
   ],
   "source": [
    "df.drop(columns='Population')\n",
    "\n",
    "df.head()"
   ]
  },
  {
   "cell_type": "markdown",
   "metadata": {},
   "source": [
    "Although we used the `drop` method to remove the column `Population`, we see that the column is still there. This is because the `drop` method does not modify the original DataFrame. To modify the original DataFrame, we need to assign the result of the `drop` method to the original DataFrame or use the ``inplace` argument:"
   ]
  },
  {
   "cell_type": "code",
   "execution_count": 14,
   "metadata": {},
   "outputs": [
    {
     "data": {
      "text/html": [
       "<div>\n",
       "<style scoped>\n",
       "    .dataframe tbody tr th:only-of-type {\n",
       "        vertical-align: middle;\n",
       "    }\n",
       "\n",
       "    .dataframe tbody tr th {\n",
       "        vertical-align: top;\n",
       "    }\n",
       "\n",
       "    .dataframe thead th {\n",
       "        text-align: right;\n",
       "    }\n",
       "</style>\n",
       "<table border=\"1\" class=\"dataframe\">\n",
       "  <thead>\n",
       "    <tr style=\"text-align: right;\">\n",
       "      <th></th>\n",
       "      <th>Name</th>\n",
       "      <th>Continent</th>\n",
       "    </tr>\n",
       "  </thead>\n",
       "  <tbody>\n",
       "    <tr>\n",
       "      <th>0</th>\n",
       "      <td>Afghanistan</td>\n",
       "      <td>Asia</td>\n",
       "    </tr>\n",
       "    <tr>\n",
       "      <th>1</th>\n",
       "      <td>Albania</td>\n",
       "      <td>Europe</td>\n",
       "    </tr>\n",
       "    <tr>\n",
       "      <th>2</th>\n",
       "      <td>Algeria</td>\n",
       "      <td>Africa</td>\n",
       "    </tr>\n",
       "    <tr>\n",
       "      <th>3</th>\n",
       "      <td>American Samoa</td>\n",
       "      <td>Oceania</td>\n",
       "    </tr>\n",
       "    <tr>\n",
       "      <th>4</th>\n",
       "      <td>Andorra</td>\n",
       "      <td>Europe</td>\n",
       "    </tr>\n",
       "  </tbody>\n",
       "</table>\n",
       "</div>"
      ],
      "text/plain": [
       "             Name Continent\n",
       "0     Afghanistan      Asia\n",
       "1         Albania    Europe\n",
       "2         Algeria    Africa\n",
       "3  American Samoa   Oceania\n",
       "4         Andorra    Europe"
      ]
     },
     "execution_count": 14,
     "metadata": {},
     "output_type": "execute_result"
    }
   ],
   "source": [
    "# saving the nodification back to the dataframe\n",
    "df2 = df.drop(columns='Population')\n",
    "df2.head()"
   ]
  },
  {
   "cell_type": "code",
   "execution_count": null,
   "metadata": {},
   "outputs": [
    {
     "data": {
      "text/html": [
       "<div>\n",
       "<style scoped>\n",
       "    .dataframe tbody tr th:only-of-type {\n",
       "        vertical-align: middle;\n",
       "    }\n",
       "\n",
       "    .dataframe tbody tr th {\n",
       "        vertical-align: top;\n",
       "    }\n",
       "\n",
       "    .dataframe thead th {\n",
       "        text-align: right;\n",
       "    }\n",
       "</style>\n",
       "<table border=\"1\" class=\"dataframe\">\n",
       "  <thead>\n",
       "    <tr style=\"text-align: right;\">\n",
       "      <th></th>\n",
       "      <th>Name</th>\n",
       "      <th>Continent</th>\n",
       "    </tr>\n",
       "  </thead>\n",
       "  <tbody>\n",
       "    <tr>\n",
       "      <th>0</th>\n",
       "      <td>Afghanistan</td>\n",
       "      <td>Asia</td>\n",
       "    </tr>\n",
       "    <tr>\n",
       "      <th>1</th>\n",
       "      <td>Albania</td>\n",
       "      <td>Europe</td>\n",
       "    </tr>\n",
       "    <tr>\n",
       "      <th>2</th>\n",
       "      <td>Algeria</td>\n",
       "      <td>Africa</td>\n",
       "    </tr>\n",
       "    <tr>\n",
       "      <th>3</th>\n",
       "      <td>American Samoa</td>\n",
       "      <td>Oceania</td>\n",
       "    </tr>\n",
       "    <tr>\n",
       "      <th>4</th>\n",
       "      <td>Andorra</td>\n",
       "      <td>Europe</td>\n",
       "    </tr>\n",
       "  </tbody>\n",
       "</table>\n",
       "</div>"
      ],
      "text/plain": [
       "             Name Continent\n",
       "0     Afghanistan      Asia\n",
       "1         Albania    Europe\n",
       "2         Algeria    Africa\n",
       "3  American Samoa   Oceania\n",
       "4         Andorra    Europe"
      ]
     },
     "execution_count": 16,
     "metadata": {},
     "output_type": "execute_result"
    }
   ],
   "source": [
    "# using inplace=True to save the modification back to the dataframe\n",
    "df.drop(columns='Population', inplace=True)\n",
    "df.head()"
   ]
  },
  {
   "cell_type": "markdown",
   "metadata": {},
   "source": [
    "The `drop_duplicates` method is used to remove duplicate rows from a DataFrame. It takes a few optional arguments, including `subset`, which specifies the columns to consider when identifying duplicates. Similar to the `drop` method, the `drop_duplicates` method returns a new DataFrame with the duplicates removed. If you want to modify the original DataFrame in place, you can use the `inplace` argument.\n",
    "\n",
    "The `insert` method is used to insert a new row at a specific index in a DataFrame. It takes three arguments: the index at which to insert the new row, the name of the new row, and the values for the new row. The `insert` method returns a new DataFrame with the new row inserted. If you want to modify the original DataFrame in place, you can use the `inplace` argument.\n",
    "\n",
    "The `replace` method is used to replace values in a DataFrame. It takes two arguments: the value to be replaced and the value to replace it with. The `replace` method returns a new DataFrame with the values replaced. If you want to modify the original DataFrame in place, you can use the `inplace` argument.\n",
    "\n",
    "Let us look at examples of these methods in action:"
   ]
  },
  {
   "cell_type": "code",
   "execution_count": 22,
   "metadata": {},
   "outputs": [
    {
     "name": "stdout",
     "output_type": "stream",
     "text": [
      "DataFrame after dropping duplicate continents:\n",
      "\n",
      "             Name      Continent  Population\n",
      "0     Afghanistan           Asia    22720000\n",
      "1         Albania         Europe     3401200\n",
      "2         Algeria         Africa    31471000\n",
      "3  American Samoa        Oceania       68000\n",
      "6        Anguilla  North America        8000\n",
      "7      Antarctica     Antarctica           0\n",
      "9       Argentina  South America    37032000\n",
      "\n",
      "DataFrame after replacing Asia with South Asia:\n",
      "\n",
      "                   Name      Continent  Population\n",
      "0           Afghanistan     South Asia    22720000\n",
      "1               Albania         Europe     3401200\n",
      "2               Algeria         Africa    31471000\n",
      "3        American Samoa        Oceania       68000\n",
      "4               Andorra         Europe       78000\n",
      "5                Angola         Africa    12878000\n",
      "6              Anguilla  North America        8000\n",
      "7            Antarctica     Antarctica           0\n",
      "8   Antigua and Barbuda  North America       68000\n",
      "9             Argentina  South America    37032000\n",
      "10               Canada  North America    40100000\n",
      "\n"
     ]
    }
   ],
   "source": [
    "df = pd.read_csv(\"country.csv\")\n",
    "\n",
    "df_no_duplicates = df.drop_duplicates(subset=['Continent'])\n",
    "print(\"DataFrame after dropping duplicate continents:\\n\")\n",
    "print(df_no_duplicates)\n",
    "print()\n",
    "df_replace = df.replace(to_replace=\"Asia\", value=\"South Asia\")\n",
    "print(\"DataFrame after replacing Asia with South Asia:\\n\")\n",
    "print(df_replace)\n",
    "print()"
   ]
  },
  {
   "cell_type": "markdown",
   "metadata": {},
   "source": [
    "Finally, the `sort_values()` method can be used to sort the DataFrame by any column of our choosing:"
   ]
  },
  {
   "cell_type": "code",
   "execution_count": 23,
   "metadata": {},
   "outputs": [
    {
     "name": "stdout",
     "output_type": "stream",
     "text": [
      "DataFrame after sorting by Population in ascending order:\n",
      "\n",
      "                   Name      Continent  Population\n",
      "7            Antarctica     Antarctica           0\n",
      "6              Anguilla  North America        8000\n",
      "3        American Samoa        Oceania       68000\n",
      "8   Antigua and Barbuda  North America       68000\n",
      "4               Andorra         Europe       78000\n",
      "1               Albania         Europe     3401200\n",
      "5                Angola         Africa    12878000\n",
      "0           Afghanistan           Asia    22720000\n",
      "2               Algeria         Africa    31471000\n",
      "9             Argentina  South America    37032000\n",
      "10               Canada  North America    40100000\n",
      "\n",
      "DataFrame after sorting by Population in descending order:\n",
      "\n",
      "                   Name      Continent  Population\n",
      "10               Canada  North America    40100000\n",
      "9             Argentina  South America    37032000\n",
      "2               Algeria         Africa    31471000\n",
      "0           Afghanistan           Asia    22720000\n",
      "5                Angola         Africa    12878000\n",
      "1               Albania         Europe     3401200\n",
      "4               Andorra         Europe       78000\n",
      "3        American Samoa        Oceania       68000\n",
      "8   Antigua and Barbuda  North America       68000\n",
      "6              Anguilla  North America        8000\n",
      "7            Antarctica     Antarctica           0\n"
     ]
    }
   ],
   "source": [
    "print(\"DataFrame after sorting by Population in ascending order:\\n\")\n",
    "print(df.sort_values(by='Population'))\n",
    "print()\n",
    "print(\"DataFrame after sorting by Population in descending order:\\n\")\n",
    "print(df.sort_values(by='Population', ascending=False))"
   ]
  },
  {
   "cell_type": "markdown",
   "metadata": {},
   "source": [
    "If we print the data frame, we see that the order has not changes:"
   ]
  },
  {
   "cell_type": "code",
   "execution_count": 24,
   "metadata": {},
   "outputs": [
    {
     "name": "stdout",
     "output_type": "stream",
     "text": [
      "                   Name      Continent  Population\n",
      "0           Afghanistan           Asia    22720000\n",
      "1               Albania         Europe     3401200\n",
      "2               Algeria         Africa    31471000\n",
      "3        American Samoa        Oceania       68000\n",
      "4               Andorra         Europe       78000\n",
      "5                Angola         Africa    12878000\n",
      "6              Anguilla  North America        8000\n",
      "7            Antarctica     Antarctica           0\n",
      "8   Antigua and Barbuda  North America       68000\n",
      "9             Argentina  South America    37032000\n",
      "10               Canada  North America    40100000\n"
     ]
    }
   ],
   "source": [
    "print(df)"
   ]
  },
  {
   "cell_type": "markdown",
   "metadata": {},
   "source": [
    "This is because we did not save the modification. To save it, we need to specify the `inplace` parameter to be `True`:"
   ]
  },
  {
   "cell_type": "code",
   "execution_count": 25,
   "metadata": {},
   "outputs": [
    {
     "name": "stdout",
     "output_type": "stream",
     "text": [
      "DataFrame after sorting by Population in descending order:\n",
      "\n",
      "                   Name      Continent  Population\n",
      "10               Canada  North America    40100000\n",
      "9             Argentina  South America    37032000\n",
      "2               Algeria         Africa    31471000\n",
      "0           Afghanistan           Asia    22720000\n",
      "5                Angola         Africa    12878000\n",
      "1               Albania         Europe     3401200\n",
      "4               Andorra         Europe       78000\n",
      "3        American Samoa        Oceania       68000\n",
      "8   Antigua and Barbuda  North America       68000\n",
      "6              Anguilla  North America        8000\n",
      "7            Antarctica     Antarctica           0\n"
     ]
    }
   ],
   "source": [
    "print(\"DataFrame after sorting by Population in descending order:\\n\")\n",
    "df.sort_values(by='Population', ascending=False, inplace=True)\n",
    "print(df)"
   ]
  }
 ],
 "metadata": {
  "kernelspec": {
   "display_name": "McGill",
   "language": "python",
   "name": "python3"
  },
  "language_info": {
   "codemirror_mode": {
    "name": "ipython",
    "version": 3
   },
   "file_extension": ".py",
   "mimetype": "text/x-python",
   "name": "python",
   "nbconvert_exporter": "python",
   "pygments_lexer": "ipython3",
   "version": "3.12.4"
  }
 },
 "nbformat": 4,
 "nbformat_minor": 2
}
