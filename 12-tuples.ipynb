{
 "cells": [
  {
   "cell_type": "markdown",
   "metadata": {},
   "source": [
    "# Tuples\n",
    "\n",
    "A tuple, just like a list, stores a collection of items. However, while a list is mutable, a tuple is immutable. This means that when a tuple has been created it cannot be modified. The following code creates a tuple and prints it's length:"
   ]
  },
  {
   "cell_type": "code",
   "execution_count": 1,
   "metadata": {},
   "outputs": [
    {
     "name": "stdout",
     "output_type": "stream",
     "text": [
      "(1, 2, 3, 4, 5)\n",
      "<class 'tuple'>\n",
      "5\n",
      "(1, 2, 3, 4, 5)\n",
      "<class 'tuple'>\n",
      "5\n"
     ]
    }
   ],
   "source": [
    "first_tuple = (1, 2, 3, 4, 5)\n",
    "print(first_tuple)\n",
    "print(type(first_tuple))\n",
    "print(len(first_tuple))\n",
    "\n",
    "# we can also ommit the parentheses\n",
    "second_tuple = 1, 2, 3, 4, 5\n",
    "print(second_tuple)\n",
    "print(type(second_tuple))\n",
    "print(len(second_tuple))"
   ]
  },
  {
   "cell_type": "markdown",
   "metadata": {},
   "source": [
    "Just like lists, we can also access individual elements:"
   ]
  },
  {
   "cell_type": "code",
   "execution_count": 2,
   "metadata": {},
   "outputs": [
    {
     "name": "stdout",
     "output_type": "stream",
     "text": [
      "1\n",
      "5\n"
     ]
    }
   ],
   "source": [
    "print(first_tuple[0])\n",
    "print(first_tuple[len(first_tuple) - 1])"
   ]
  },
  {
   "cell_type": "markdown",
   "metadata": {},
   "source": [
    "# Named tuples\n",
    "\n",
    "Named tuples allow us to create new data types. These data types can have their own attributes. To use them, we will have to import the <i>namedtuple<i> container from the module <i>collections</i>:"
   ]
  },
  {
   "cell_type": "code",
   "execution_count": 3,
   "metadata": {},
   "outputs": [],
   "source": [
    "from collections import namedtuple\n",
    "\n",
    "Student = namedtuple('Student', ['name', 'age', 'course', 'grade'])"
   ]
  },
  {
   "cell_type": "markdown",
   "metadata": {},
   "source": [
    "The above code creates a new data type called \"Student\". Just like creating variables which are integers or strings, we can now create variables that are of this data type:"
   ]
  },
  {
   "cell_type": "code",
   "execution_count": 4,
   "metadata": {},
   "outputs": [
    {
     "name": "stdout",
     "output_type": "stream",
     "text": [
      "Student(name='Sara', age=20, course='Data programming', grade=75)\n",
      "<class '__main__.Student'>\n"
     ]
    }
   ],
   "source": [
    "sara = Student('Sara', 20, 'Data programming', 75)\n",
    "print(sara)\n",
    "print(type(sara))"
   ]
  },
  {
   "cell_type": "markdown",
   "metadata": {},
   "source": [
    "Notice the type of the variable.\n",
    "\n",
    "We can create other variables of this type (other students with different attributes) and we can access the values of these attributes:"
   ]
  },
  {
   "cell_type": "code",
   "execution_count": 5,
   "metadata": {},
   "outputs": [
    {
     "name": "stdout",
     "output_type": "stream",
     "text": [
      "Student(name='Steve', age=19, course='Strategic management', grade=85)\n",
      "Steve\n",
      "19\n",
      "Strategic management\n",
      "85\n"
     ]
    }
   ],
   "source": [
    "steve = Student('Steve', 19, 'Strategic management', 85)\n",
    "print(steve)\n",
    "print(steve.name)\n",
    "print(steve.age)\n",
    "print(steve.course)\n",
    "print(steve.grade)"
   ]
  },
  {
   "cell_type": "code",
   "execution_count": 14,
   "metadata": {},
   "outputs": [
    {
     "name": "stdout",
     "output_type": "stream",
     "text": [
      "<class 'str'>\n",
      "<class 'int'>\n",
      "<class 'str'>\n",
      "<class 'int'>\n"
     ]
    }
   ],
   "source": [
    "print(type(steve.name))\n",
    "print(type(steve.age))\n",
    "print(type(steve.course))\n",
    "print(type(steve.grade))"
   ]
  }
 ],
 "metadata": {
  "kernelspec": {
   "display_name": "McGill",
   "language": "python",
   "name": "python3"
  },
  "language_info": {
   "codemirror_mode": {
    "name": "ipython",
    "version": 3
   },
   "file_extension": ".py",
   "mimetype": "text/x-python",
   "name": "python",
   "nbconvert_exporter": "python",
   "pygments_lexer": "ipython3",
   "version": "3.12.4"
  }
 },
 "nbformat": 4,
 "nbformat_minor": 2
}
