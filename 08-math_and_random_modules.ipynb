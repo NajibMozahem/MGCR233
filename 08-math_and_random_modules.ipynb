{
 "cells": [
  {
   "cell_type": "markdown",
   "metadata": {},
   "source": [
    "\n",
    "# Math module\n",
    "\n",
    "A module is python code that is located in another file. One of the modules that we will use is the math module. To use it, we have to direct our code to use this module:"
   ]
  },
  {
   "cell_type": "code",
   "execution_count": 24,
   "metadata": {},
   "outputs": [
    {
     "name": "stdout",
     "output_type": "stream",
     "text": [
      "3.0\n"
     ]
    }
   ],
   "source": [
    "import math\n",
    "\n",
    "my_num = 9\n",
    "my_num_sqroot = math.sqrt(my_num)\n",
    "print(my_num_sqroot)"
   ]
  },
  {
   "cell_type": "markdown",
   "metadata": {},
   "source": [
    "There are several useful functions that we can use:"
   ]
  },
  {
   "cell_type": "code",
   "execution_count": 25,
   "metadata": {},
   "outputs": [
    {
     "name": "stdout",
     "output_type": "stream",
     "text": [
      "4\n",
      "3\n",
      "8.0\n",
      "120\n"
     ]
    }
   ],
   "source": [
    "print(math.ceil(3.7))\n",
    "print(math.floor(3.7))\n",
    "print(math.pow(2, 3))\n",
    "print(math.factorial(5))"
   ]
  },
  {
   "cell_type": "markdown",
   "metadata": {},
   "source": [
    "There are also useful constants that we can access:"
   ]
  },
  {
   "cell_type": "code",
   "execution_count": 26,
   "metadata": {},
   "outputs": [
    {
     "name": "stdout",
     "output_type": "stream",
     "text": [
      "3.141592653589793\n",
      "2.718281828459045\n"
     ]
    }
   ],
   "source": [
    "print(math.pi)\n",
    "print(math.e)"
   ]
  },
  {
   "cell_type": "markdown",
   "metadata": {},
   "source": [
    "We can create expressions that include more than one of the functions and/or constants:"
   ]
  },
  {
   "cell_type": "code",
   "execution_count": 28,
   "metadata": {},
   "outputs": [
    {
     "name": "stdout",
     "output_type": "stream",
     "text": [
      "8.0\n"
     ]
    }
   ],
   "source": [
    "x = 2.3\n",
    "y = 3\n",
    "my_num = math.pow(math.floor(x), y)\n",
    "print(my_num)"
   ]
  },
  {
   "cell_type": "markdown",
   "metadata": {},
   "source": [
    "# Random module\n",
    "\n",
    "Another useful module is the random module. It contains functions that allow us to generate random numbers:"
   ]
  },
  {
   "cell_type": "code",
   "execution_count": 39,
   "metadata": {},
   "outputs": [
    {
     "name": "stdout",
     "output_type": "stream",
     "text": [
      "0.3323331105387026\n"
     ]
    }
   ],
   "source": [
    "import random\n",
    "\n",
    "rand1 = random.random()\n",
    "print(rand1)"
   ]
  },
  {
   "cell_type": "markdown",
   "metadata": {},
   "source": [
    "The random() function returns a random number between 0 (inclusive) and 1 (exclusive). If you re-execute the code in the above cell you will notice that the value of the number changes.\n",
    "\n",
    "We can also generate a random integer using the randint(min, max) function:"
   ]
  },
  {
   "cell_type": "code",
   "execution_count": 43,
   "metadata": {},
   "outputs": [
    {
     "name": "stdout",
     "output_type": "stream",
     "text": [
      "10\n"
     ]
    }
   ],
   "source": [
    "rand2 = random.randint(1, 10)\n",
    "print(rand2)"
   ]
  },
  {
   "cell_type": "markdown",
   "metadata": {},
   "source": [
    "Notice that we specify two parameters which represent the minimum and the maximum. This means that the integer returned by the function can take on any value below the minimum and maximum including the minimum and maximum. \n",
    "\n",
    "The function randrange(min, max) also generates a random integer, but between min and max-1."
   ]
  },
  {
   "cell_type": "code",
   "execution_count": 50,
   "metadata": {},
   "outputs": [
    {
     "name": "stdout",
     "output_type": "stream",
     "text": [
      "7\n"
     ]
    }
   ],
   "source": [
    "#This command will generate a random number between 1 and 9 inclusive (it will never generate a 10)\n",
    "rand3 = random.randrange(1, 10)\n",
    "print(rand3)"
   ]
  },
  {
   "cell_type": "markdown",
   "metadata": {},
   "source": [
    "If we only pass one value to the randrange() function, this value will be the maximum and the minimum will be 0:"
   ]
  },
  {
   "cell_type": "code",
   "execution_count": 58,
   "metadata": {},
   "outputs": [
    {
     "name": "stdout",
     "output_type": "stream",
     "text": [
      "0\n"
     ]
    }
   ],
   "source": [
    "#This command will generate a random number between 0 and 2 inclusive (it will never generate a 3)\n",
    "rand4 = random.randrange(3)\n",
    "print(rand4)"
   ]
  },
  {
   "cell_type": "markdown",
   "metadata": {},
   "source": [
    "It is also possible to pass a third parameter to the function. This third parameter is the step. This parameter controls the step size between each number in the range of possible values. For example, the following code generates one of the following numbers: 1, 3, 5, 7, and 9:"
   ]
  },
  {
   "cell_type": "code",
   "execution_count": 66,
   "metadata": {},
   "outputs": [
    {
     "name": "stdout",
     "output_type": "stream",
     "text": [
      "1\n"
     ]
    }
   ],
   "source": [
    "rand5 = random.randrange(1, 10, 2)\n",
    "#1, 3, 5, 7, 9\n",
    "print(rand5)"
   ]
  },
  {
   "cell_type": "markdown",
   "metadata": {},
   "source": [
    "This table summarises the output of each function:\n",
    "\n",
    "|Function| Return value|\n",
    "|----------|----------|\n",
    "|random()|Returns a float between 0 (inclusive) and 1 (exclusive)|\n",
    "|randint(a, b)| Returns an integer between a (inclusive) and b (inclusive)|\n",
    "|randrange(a, b)| Return an integer between a (inclusive) and b-1 (inclusive)|\n",
    "|randrange(a)| Return an integer between 0 (inclusive) and a-1 (inclusive)|"
   ]
  }
 ],
 "metadata": {
  "kernelspec": {
   "display_name": "McGill",
   "language": "python",
   "name": "python3"
  },
  "language_info": {
   "codemirror_mode": {
    "name": "ipython",
    "version": 3
   },
   "file_extension": ".py",
   "mimetype": "text/x-python",
   "name": "python",
   "nbconvert_exporter": "python",
   "pygments_lexer": "ipython3",
   "version": "3.12.4"
  }
 },
 "nbformat": 4,
 "nbformat_minor": 2
}
