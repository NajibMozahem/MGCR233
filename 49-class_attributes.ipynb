{
 "cells": [
  {
   "cell_type": "markdown",
   "metadata": {},
   "source": [
    "# Class attributes\n",
    "\n",
    "When we create a class, we can define attributes that are shared by all instances of the class. These are called class attributes. To do this, we define the attribute in the class definition, but outside of any method:"
   ]
  },
  {
   "cell_type": "code",
   "execution_count": null,
   "metadata": {},
   "outputs": [],
   "source": [
    "class Person:\n",
    "\n",
    "    married_status = 'single'\n",
    "\n",
    "    def __init__(self, name1=\"\", age1=0, address1=\"\", phone1=\"\", email1=\"\"):\n",
    "        self.name = name1\n",
    "        self.age = age1\n",
    "        self.address = address1\n",
    "        self.phone = phone1\n",
    "        self.email = email1\n",
    "    \n",
    "    def print_person(self):\n",
    "        print(\"Name: \", self.name)\n",
    "        print(\"Age: \", self.age)\n",
    "        print(\"Address: \", self.address)\n",
    "        print(\"Phone: \", self.phone)\n",
    "        print(\"Email: \", self.email)\n",
    "    \n",
    "    def name_upper(self):\n",
    "        self.name = self.name.upper()"
   ]
  },
  {
   "cell_type": "markdown",
   "metadata": {},
   "source": [
    "We modified the class definition to include a class attribute called `married_status`. Notice where we place this attribute in the class definition. Now when we create an instance of the class, we can access the class attribute using the dot notation and this attribute will be shared by all instances of the class:"
   ]
  },
  {
   "cell_type": "code",
   "execution_count": 2,
   "metadata": {},
   "outputs": [
    {
     "name": "stdout",
     "output_type": "stream",
     "text": [
      "single\n",
      "single\n"
     ]
    }
   ],
   "source": [
    "var1 = Person()\n",
    "var2 = Person(\"John\", 30, \"123 Main St\", \"555-1212\",\"john@email.com\")\n",
    "\n",
    "print(var1.married_status)\n",
    "print(var2.married_status)\n"
   ]
  },
  {
   "cell_type": "markdown",
   "metadata": {},
   "source": [
    "Notice that even though the attribute `married_status` is not defined in the constructor, it is still accessible from the instance. Notice also that it is the same for all instances.\n",
    "\n",
    "If we want to change the value of the attribute, we can do so by assigning a new value to the attribute. However, since it is a class attribute, it will be the same for all instances. To change the value for all instances of the class, we need to change the value of the class attribute:"
   ]
  },
  {
   "cell_type": "code",
   "execution_count": 3,
   "metadata": {},
   "outputs": [
    {
     "name": "stdout",
     "output_type": "stream",
     "text": [
      "married\n",
      "married\n"
     ]
    }
   ],
   "source": [
    "Person.married_status = 'married'\n",
    "\n",
    "print(var1.married_status)\n",
    "print(var2.married_status)"
   ]
  },
  {
   "cell_type": "markdown",
   "metadata": {},
   "source": [
    "We see that once the attribute is changes for the class, it is changed for all the instances of the class."
   ]
  }
 ],
 "metadata": {
  "kernelspec": {
   "display_name": "McGill",
   "language": "python",
   "name": "python3"
  },
  "language_info": {
   "codemirror_mode": {
    "name": "ipython",
    "version": 3
   },
   "file_extension": ".py",
   "mimetype": "text/x-python",
   "name": "python",
   "nbconvert_exporter": "python",
   "pygments_lexer": "ipython3",
   "version": "3.12.4"
  }
 },
 "nbformat": 4,
 "nbformat_minor": 2
}
