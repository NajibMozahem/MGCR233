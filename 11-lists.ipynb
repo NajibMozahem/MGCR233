{
 "cells": [
  {
   "cell_type": "markdown",
   "metadata": {},
   "source": [
    "# Lists\n",
    "\n",
    "A list is a container that groups items together. Each item in a list is called an element:"
   ]
  },
  {
   "cell_type": "code",
   "execution_count": 1,
   "metadata": {},
   "outputs": [
    {
     "name": "stdout",
     "output_type": "stream",
     "text": [
      "[70, 72, 79, 60]\n"
     ]
    }
   ],
   "source": [
    "my_grades = [70, 72, 79, 60]\n",
    "print(my_grades)"
   ]
  },
  {
   "cell_type": "markdown",
   "metadata": {},
   "source": [
    "The elements in a list do not need to be of the same type:"
   ]
  },
  {
   "cell_type": "code",
   "execution_count": 2,
   "metadata": {},
   "outputs": [
    {
     "name": "stdout",
     "output_type": "stream",
     "text": [
      "[42, 3.14, 'hello']\n"
     ]
    }
   ],
   "source": [
    "mixed_list = [42, 3.14, \"hello\"]\n",
    "print(mixed_list)"
   ]
  },
  {
   "cell_type": "markdown",
   "metadata": {},
   "source": [
    "We can access individual elements the same way that we accessed individual characters in a string:"
   ]
  },
  {
   "cell_type": "code",
   "execution_count": 3,
   "metadata": {},
   "outputs": [
    {
     "name": "stdout",
     "output_type": "stream",
     "text": [
      "70\n"
     ]
    }
   ],
   "source": [
    "my_grades = [70, 72, 79, 60]\n",
    "print(my_grades[0])"
   ]
  },
  {
   "cell_type": "markdown",
   "metadata": {},
   "source": [
    "We can also get the length of the list:"
   ]
  },
  {
   "cell_type": "code",
   "execution_count": 4,
   "metadata": {},
   "outputs": [
    {
     "name": "stdout",
     "output_type": "stream",
     "text": [
      "4\n"
     ]
    }
   ],
   "source": [
    "print(len(my_grades))"
   ]
  },
  {
   "cell_type": "markdown",
   "metadata": {},
   "source": [
    "Unlike strings, which are immutable, lists are mutable. This means that we can update individual values of a list:"
   ]
  },
  {
   "cell_type": "code",
   "execution_count": 6,
   "metadata": {},
   "outputs": [
    {
     "name": "stdout",
     "output_type": "stream",
     "text": [
      "[70, 72, 79, 60]\n",
      "[70, 80, 79, 60]\n"
     ]
    }
   ],
   "source": [
    "my_grades = [70, 72, 79, 60]\n",
    "print(my_grades)\n",
    "my_grades[1] = 80\n",
    "print(my_grades)"
   ]
  },
  {
   "cell_type": "markdown",
   "metadata": {},
   "source": [
    "In addition to updating elements in a list, we can add and remove elements:"
   ]
  },
  {
   "cell_type": "code",
   "execution_count": 7,
   "metadata": {},
   "outputs": [
    {
     "name": "stdout",
     "output_type": "stream",
     "text": [
      "[70, 72, 79, 60]\n",
      "[70, 72, 79, 60, 85]\n",
      "[70, 79, 60, 85]\n",
      "[70, 60, 85]\n"
     ]
    }
   ],
   "source": [
    "my_grades = [70, 72, 79, 60]\n",
    "print(my_grades)\n",
    "# add the element 85 to the end of the list\n",
    "my_grades.append(85)\n",
    "print(my_grades)\n",
    "# remove the element at index 1\n",
    "my_grades.pop(1)\n",
    "print(my_grades)\n",
    "# remove the element 79\n",
    "my_grades.remove(79)\n",
    "print(my_grades)"
   ]
  },
  {
   "cell_type": "markdown",
   "metadata": {},
   "source": [
    "## Sequence type functions\n",
    "\n",
    "There are functions that operate on sequences. These functions can be quite useful:"
   ]
  },
  {
   "cell_type": "code",
   "execution_count": 8,
   "metadata": {},
   "outputs": [
    {
     "name": "stdout",
     "output_type": "stream",
     "text": [
      "[70, 72, 79, 60]\n",
      "Length of my_grades:  4\n",
      "[60, 70, 72, 79]\n",
      "[79, 72, 70, 60]\n",
      "The maximum value in my_grades:  79\n",
      "The minimum value in my_grades:  60\n",
      "The sum of my_grades:  281\n",
      "The number of occurrences of 70:  1\n",
      "The index of 72:  1\n",
      "New grades after adding: [79, 72, 70, 60, 80, 100]\n"
     ]
    }
   ],
   "source": [
    "my_grades = [70, 72, 79, 60]\n",
    "print(my_grades)\n",
    "# print the length\n",
    "print(\"Length of my_grades: \", len(my_grades))\n",
    "# sort the list\n",
    "my_grades.sort()\n",
    "print(my_grades)\n",
    "# reverse the list\n",
    "my_grades.reverse()\n",
    "print(my_grades)\n",
    "# find the maximum value\n",
    "print(\"The maximum value in my_grades: \", max(my_grades))\n",
    "# find the minimum value\n",
    "print(\"The minimum value in my_grades: \", min(my_grades))\n",
    "# find the sum of the elements\n",
    "print(\"The sum of my_grades: \", sum(my_grades))\n",
    "# count the number of occurrences of 70\n",
    "print(\"The number of occurrences of 70: \", my_grades.count(70))\n",
    "# find the index of 72\n",
    "print(\"The index of 72: \", my_grades.index(72))\n",
    "\n",
    "# adding two lists\n",
    "new_grades = [80, 100]\n",
    "my_grades = my_grades + new_grades\n",
    "print(\"New grades after adding:\", my_grades)\n",
    "\n"
   ]
  }
 ],
 "metadata": {
  "kernelspec": {
   "display_name": "McGill",
   "language": "python",
   "name": "python3"
  },
  "language_info": {
   "codemirror_mode": {
    "name": "ipython",
    "version": 3
   },
   "file_extension": ".py",
   "mimetype": "text/x-python",
   "name": "python",
   "nbconvert_exporter": "python",
   "pygments_lexer": "ipython3",
   "version": "3.12.4"
  }
 },
 "nbformat": 4,
 "nbformat_minor": 2
}
