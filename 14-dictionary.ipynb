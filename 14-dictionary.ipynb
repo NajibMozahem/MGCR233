{
 "cells": [
  {
   "cell_type": "markdown",
   "metadata": {},
   "source": [
    "# Dictionaries\n",
    "\n",
    "If you open a dictionary, you will notice that it associates a definition with each word. In python, we can create a data structure that is also called a dictionary and that allows us to map a <i>key</i> to a <i>value</i>. Let us look at an example:"
   ]
  },
  {
   "cell_type": "code",
   "execution_count": 1,
   "metadata": {},
   "outputs": [
    {
     "name": "stdout",
     "output_type": "stream",
     "text": [
      "{'Apple': 383, 'Google': 305, 'Microsoft': 211}\n",
      "<class 'dict'>\n"
     ]
    }
   ],
   "source": [
    "revenues = {\"Apple\": 383, \"Google\": 305, \"Microsoft\": 211}\n",
    "print(revenues)\n",
    "print(type(revenues))"
   ]
  },
  {
   "cell_type": "markdown",
   "metadata": {},
   "source": [
    "It is possible to simply create a list of revenues like this ```revenues_list = [11.1, 15.2, 10.5]```, but using a dictionary allows us to associate each revenue to a company.\n",
    "\n",
    "Once the dictionary is created, we can access the revenue of each company:"
   ]
  },
  {
   "cell_type": "code",
   "execution_count": 6,
   "metadata": {},
   "outputs": [
    {
     "name": "stdout",
     "output_type": "stream",
     "text": [
      "383\n",
      "305\n",
      "211\n"
     ]
    }
   ],
   "source": [
    "print(revenues[\"Apple\"])\n",
    "print(revenues[\"Google\"])\n",
    "print(revenues[\"Microsoft\"])"
   ]
  },
  {
   "cell_type": "markdown",
   "metadata": {},
   "source": [
    "Like lists, dictionaries are mutable. This means that we can update their values. if we want to add a new element, we simply assign a value to a new key:"
   ]
  },
  {
   "cell_type": "code",
   "execution_count": 5,
   "metadata": {},
   "outputs": [
    {
     "name": "stdout",
     "output_type": "stream",
     "text": [
      "{'Apple': 383, 'Google': 305, 'Microsoft': 211, 'Tesla': 96}\n"
     ]
    }
   ],
   "source": [
    "revenues[\"Tesla\"] = 96\n",
    "print(revenues)"
   ]
  },
  {
   "cell_type": "markdown",
   "metadata": {},
   "source": [
    "Since the dictionary did not contain an element with the key \"Tesla\", a new entry was added. If we want to modify the value of an entry, we use the same command:"
   ]
  },
  {
   "cell_type": "code",
   "execution_count": 6,
   "metadata": {},
   "outputs": [
    {
     "name": "stdout",
     "output_type": "stream",
     "text": [
      "{'Apple': 400, 'Google': 305, 'Microsoft': 211, 'Tesla': 96}\n"
     ]
    }
   ],
   "source": [
    "revenues[\"Apple\"] = 400\n",
    "print(revenues)"
   ]
  },
  {
   "cell_type": "markdown",
   "metadata": {},
   "source": [
    "To remove an entry, we need to use the ```del``` keyword:"
   ]
  },
  {
   "cell_type": "code",
   "execution_count": 7,
   "metadata": {},
   "outputs": [
    {
     "name": "stdout",
     "output_type": "stream",
     "text": [
      "{'Apple': 400, 'Google': 305, 'Tesla': 96}\n"
     ]
    }
   ],
   "source": [
    "del revenues[\"Microsoft\"]\n",
    "print(revenues)"
   ]
  }
 ],
 "metadata": {
  "kernelspec": {
   "display_name": "McGill",
   "language": "python",
   "name": "python3"
  },
  "language_info": {
   "codemirror_mode": {
    "name": "ipython",
    "version": 3
   },
   "file_extension": ".py",
   "mimetype": "text/x-python",
   "name": "python",
   "nbconvert_exporter": "python",
   "pygments_lexer": "ipython3",
   "version": "3.12.4"
  }
 },
 "nbformat": 4,
 "nbformat_minor": 2
}
