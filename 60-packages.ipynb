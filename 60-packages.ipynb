{
 "cells": [
  {
   "cell_type": "markdown",
   "metadata": {},
   "source": [
    "# Packages\n",
    "\n",
    "Assume that we have five modules and that these modules are all placed in the folder `my_package`. As we have seen before, we can import the modules using the following code:"
   ]
  },
  {
   "cell_type": "code",
   "execution_count": 1,
   "metadata": {},
   "outputs": [],
   "source": [
    "import my_package.module1\n",
    "import my_package.module2\n",
    "import my_package.module3\n",
    "import my_package.module4\n",
    "import my_package.module5"
   ]
  },
  {
   "cell_type": "markdown",
   "metadata": {},
   "source": [
    "A better idea would be to have one importance statement where we import the entire folder. Perhaps something like `import my_package` followed by using any model in this package like `my_package.module1.f1()` for example. In order to do this, we need to create a `__init__.py` file in the folder. This file is a special file that tells Python that this folder is a package. \n",
    "\n",
    "Once this file is created, we can import the entire package as follows:"
   ]
  },
  {
   "cell_type": "code",
   "execution_count": 4,
   "metadata": {},
   "outputs": [],
   "source": [
    "import my_package"
   ]
  },
  {
   "cell_type": "markdown",
   "metadata": {},
   "source": [
    "We can now access any of the functions in the package:"
   ]
  },
  {
   "cell_type": "code",
   "execution_count": 5,
   "metadata": {},
   "outputs": [
    {
     "name": "stdout",
     "output_type": "stream",
     "text": [
      "1\n",
      "2\n",
      "3\n",
      "4\n",
      "5\n"
     ]
    }
   ],
   "source": [
    "print(my_package.module1.f1())\n",
    "print(my_package.module2.f2())\n",
    "print(my_package.module3.f3())\n",
    "print(my_package.module4.f4())\n",
    "print(my_package.module5.f5())"
   ]
  }
 ],
 "metadata": {
  "kernelspec": {
   "display_name": "McGill",
   "language": "python",
   "name": "python3"
  },
  "language_info": {
   "codemirror_mode": {
    "name": "ipython",
    "version": 3
   },
   "file_extension": ".py",
   "mimetype": "text/x-python",
   "name": "python",
   "nbconvert_exporter": "python",
   "pygments_lexer": "ipython3",
   "version": "3.12.4"
  }
 },
 "nbformat": 4,
 "nbformat_minor": 2
}
