{
 "cells": [
  {
   "cell_type": "markdown",
   "metadata": {},
   "source": [
    "# Numpy arrays\n",
    "\n",
    "A numpy array is a multidimensional array of numbers. It is a data structure that is used to store and manipulate numerical data in a structured way. Numpy arrays look like lists, but they are more efficient and have more features:"
   ]
  },
  {
   "cell_type": "code",
   "execution_count": 2,
   "metadata": {},
   "outputs": [
    {
     "name": "stdout",
     "output_type": "stream",
     "text": [
      "array1: [ 3.2  5.5 10.1]\n",
      "\n",
      "array2: [ 3.2 11.3  0.3]\n"
     ]
    }
   ],
   "source": [
    "import numpy as np\n",
    "\n",
    "list1 = [3.2, 5.5, 10.1]\n",
    "list2 = [3.2, 11.3, 0.3] \n",
    "\n",
    "# Create two 1-dimensional (1D) arrays\n",
    "# with the elements of the above lists\n",
    "array1 = np.array(list1)\n",
    "array2 = np.array(list2)\n",
    "\n",
    "print(\"array1:\", array1)\n",
    "print()\n",
    "print(\"array2:\", array2)"
   ]
  },
  {
   "cell_type": "markdown",
   "metadata": {},
   "source": [
    "The above code creates two numpy arrays from lists. This is done using the `np.array()` function. Let us add the lists and add the numpy arrays:"
   ]
  },
  {
   "cell_type": "code",
   "execution_count": 3,
   "metadata": {},
   "outputs": [
    {
     "name": "stdout",
     "output_type": "stream",
     "text": [
      "Adding lists: [3.2, 5.5, 10.1, 3.2, 11.3, 0.3]\n",
      "Adding numpy arrays: [ 6.4 16.8 10.4]\n"
     ]
    }
   ],
   "source": [
    "print(\"Adding lists:\", list1 + list2)\n",
    "\n",
    "print(\"Adding numpy arrays:\", array1 + array2)"
   ]
  },
  {
   "cell_type": "markdown",
   "metadata": {},
   "source": [
    "Notice that adding lists concatenates lists, while adding numpy arrays adds the elements of the arrays.\n",
    "\n",
    "Each numpy array has a shape, which is the number of elements in each dimension:"
   ]
  },
  {
   "cell_type": "code",
   "execution_count": 4,
   "metadata": {},
   "outputs": [
    {
     "name": "stdout",
     "output_type": "stream",
     "text": [
      "array1: shape:  (3,) size:  3\n",
      "\n",
      "array2: shape:  (2, 3) size:  6\n"
     ]
    }
   ],
   "source": [
    "list1 = [3.2, 5.5, 10.1]\n",
    "\n",
    "list2 = [\n",
    "    [3.2, 11.3, 0.3],\n",
    "    [1.1, 2.2, 3.3]\n",
    "]\n",
    "\n",
    "array1 = np.array(list1)\n",
    "array2 = np.array(list2)\n",
    "\n",
    "print(\"array1:\", \"shape: \", array1.shape, \"size: \", array1.size)\n",
    "print()\n",
    "print(\"array2:\", \"shape: \", array2.shape, \"size: \", array2.size)"
   ]
  },
  {
   "cell_type": "markdown",
   "metadata": {},
   "source": [
    "A two dimensional numpy array has two dimensions. The first dimension is the number of rows, and the second dimension is the number of columns. The axis of a two dimensional array is 0 for the first dimension and 1 for the second dimension. We can access the elements of a two dimensional array using the index operator `[]`. The first index is the row index and the second index is the column index:"
   ]
  },
  {
   "cell_type": "code",
   "execution_count": 5,
   "metadata": {},
   "outputs": [
    {
     "name": "stdout",
     "output_type": "stream",
     "text": [
      "Element in row 0 and column 1: 11.3\n",
      "Element in row 1 and column 2: 3.3\n"
     ]
    }
   ],
   "source": [
    "list1 = [\n",
    "    [3.2, 11.3, 0.3],\n",
    "    [1.1, 2.2, 3.3]\n",
    "]\n",
    "\n",
    "array1 = np.array(list1)\n",
    "print(\"Element in row 0 and column 1:\", array1[0, 1])\n",
    "print(\"Element in row 1 and column 2:\", array1[1, 2])"
   ]
  },
  {
   "cell_type": "markdown",
   "metadata": {},
   "source": [
    "## More ways to create numpy arrays\n",
    "\n",
    "In addition to creating numpy arrays using the `np.array` function, numpy also provides a number of functions for creating arrays of different shapes and types:"
   ]
  },
  {
   "cell_type": "code",
   "execution_count": 6,
   "metadata": {},
   "outputs": [
    {
     "name": "stdout",
     "output_type": "stream",
     "text": [
      "array1:\n",
      " [[7 7]\n",
      " [7 7]\n",
      " [7 7]] \n",
      "shape:  (3, 2) size:  6\n",
      "\n",
      "array2:\n",
      " [[0. 0.]\n",
      " [0. 0.]\n",
      " [0. 0.]\n",
      " [0. 0.]] \n",
      "shape:  (4, 2) size:  8\n",
      "\n",
      "array3:\n",
      " [[1. 1. 1. 1. 1.]\n",
      " [1. 1. 1. 1. 1.]] \n",
      "shape:  (2, 5) size:  10\n"
     ]
    }
   ],
   "source": [
    "#create a 3x2 array with all elements 7\n",
    "array1 = np.full((3, 2), 7)\n",
    "print(\"array1:\\n\", array1, \"\\nshape: \", array1.shape, \"size: \", array1.size)\n",
    "print()\n",
    "# Create a 4x2 array with all elements 0\n",
    "array2 = np.zeros((4, 2))\n",
    "print(\"array2:\\n\", array2, \"\\nshape: \", array2.shape, \"size: \", array2.size)\n",
    "print()\n",
    "# Create a 2x5 array with all elements 1\n",
    "array3 = np.ones((2, 5))\n",
    "print(\"array3:\\n\", array3, \"\\nshape: \", array3.shape, \"size: \", array3.size)\n"
   ]
  },
  {
   "cell_type": "markdown",
   "metadata": {},
   "source": [
    "It is also possible to sort an array:"
   ]
  },
  {
   "cell_type": "code",
   "execution_count": 13,
   "metadata": {},
   "outputs": [
    {
     "name": "stdout",
     "output_type": "stream",
     "text": [
      "[1 2 3 4]\n"
     ]
    }
   ],
   "source": [
    "array1 = np.array([2, 4, 1, 3])\n",
    "array1.sort()\n",
    "print(array1)"
   ]
  },
  {
   "cell_type": "markdown",
   "metadata": {},
   "source": [
    "We can also change the shape of an array using the `reshape` method:"
   ]
  },
  {
   "cell_type": "code",
   "execution_count": 7,
   "metadata": {},
   "outputs": [
    {
     "name": "stdout",
     "output_type": "stream",
     "text": [
      "array1:\n",
      " [[7 7 7 7]\n",
      " [7 7 7 7]\n",
      " [7 7 7 7]] \n",
      "shape:  (3, 4) size:  12\n",
      "\n",
      "array2:\n",
      " [[7 7 7 7 7 7]\n",
      " [7 7 7 7 7 7]] \n",
      "shape:  (2, 6) size:  12\n"
     ]
    }
   ],
   "source": [
    "#create a 3x2 array with all elements 7\n",
    "array1 = np.full((3, 4), 7)\n",
    "print(\"array1:\\n\", array1, \"\\nshape: \", array1.shape, \"size: \", array1.size)\n",
    "print()\n",
    "array2 = array1.reshape((2, 6))\n",
    "print(\"array2:\\n\", array2, \"\\nshape: \", array2.shape, \"size: \", array2.size)\n"
   ]
  },
  {
   "cell_type": "markdown",
   "metadata": {},
   "source": [
    "We can also flatten the array into a 1D array:"
   ]
  },
  {
   "cell_type": "code",
   "execution_count": null,
   "metadata": {},
   "outputs": [
    {
     "name": "stdout",
     "output_type": "stream",
     "text": [
      "array1:\n",
      " [[ 3.2 11.3  0.3]\n",
      " [ 1.1  2.2  3.3]] \n",
      "shape:  (2, 3) size:  6\n",
      "\n",
      "array2:\n",
      " [ 3.2 11.3  0.3  1.1  2.2  3.3] \n",
      "shape:  (6,) size:  6\n"
     ]
    }
   ],
   "source": [
    "#create a 2x3 array with all elements 7\n",
    "array1 = np.array([[3.2, 11.3, 0.3], [1.1, 2.2, 3.3]])\n",
    "print(\"array1:\\n\", array1, \"\\nshape: \", array1.shape, \"size: \", array1.size)\n",
    "print()\n",
    "array2 = array1.ravel()\n",
    "print(\"array2:\\n\", array2, \"\\nshape: \", array2.shape, \"size: \", array2.size)\n"
   ]
  },
  {
   "cell_type": "markdown",
   "metadata": {},
   "source": [
    "Finally, a frequent operation is to transpose an array, which basically means converting the rows to columns:"
   ]
  },
  {
   "cell_type": "code",
   "execution_count": 19,
   "metadata": {},
   "outputs": [
    {
     "name": "stdout",
     "output_type": "stream",
     "text": [
      "array1:\n",
      " [[ 3.2 11.3  0.3]\n",
      " [ 1.1  2.2  3.3]] \n",
      "shape:  (2, 3) size:  6\n",
      "\n",
      "array2:\n",
      " [[ 3.2  1.1]\n",
      " [11.3  2.2]\n",
      " [ 0.3  3.3]] \n",
      "shape:  (3, 2) size:  6\n"
     ]
    }
   ],
   "source": [
    "array1 = np.array([[3.2, 11.3, 0.3], [1.1, 2.2, 3.3]])\n",
    "print(\"array1:\\n\", array1, \"\\nshape: \", array1.shape, \"size: \", array1.size)\n",
    "print()\n",
    "array2 = array1.transpose()\n",
    "print(\"array2:\\n\", array2, \"\\nshape: \", array2.shape, \"size: \", array2.size)"
   ]
  },
  {
   "cell_type": "markdown",
   "metadata": {},
   "source": [
    "## Mathemaatical operations\n",
    "\n",
    "We saw that when we add two arrays, we add the corresponding elements. This is called element-wise addition. We can also do element-wise multiplication, division, and subtraction:"
   ]
  },
  {
   "cell_type": "code",
   "execution_count": 9,
   "metadata": {},
   "outputs": [
    {
     "name": "stdout",
     "output_type": "stream",
     "text": [
      "array1:\n",
      " [[1 2 3]\n",
      " [4 5 6]]\n",
      "\n",
      "array2:\n",
      " [[ 7  8  9]\n",
      " [10 11 12]]\n",
      "\n",
      "Adding arrays:\n",
      "[[ 8 10 12]\n",
      " [14 16 18]]\n",
      "\n",
      "Subtracting arrays:\n",
      "[[-6 -6 -6]\n",
      " [-6 -6 -6]]\n",
      "\n",
      "Multiplying arrays:\n",
      "[[ 7 16 27]\n",
      " [40 55 72]]\n",
      "\n",
      "Dividing arrays:\n",
      "[[0.14285714 0.25       0.33333333]\n",
      " [0.4        0.45454545 0.5       ]]\n"
     ]
    }
   ],
   "source": [
    "array1 = np.array([[1, 2, 3], [4, 5, 6]])\n",
    "array2 = np.array([[7, 8, 9], [10, 11, 12]])\n",
    "\n",
    "print(\"array1:\\n\", array1)\n",
    "print()\n",
    "print(\"array2:\\n\", array2)\n",
    "print()\n",
    "print(\"Adding arrays:\")\n",
    "print(array1 + array2)\n",
    "print()\n",
    "print(\"Subtracting arrays:\")\n",
    "print(array1 - array2)\n",
    "print()\n",
    "print(\"Multiplying arrays:\")\n",
    "print(array1 * array2)\n",
    "print()\n",
    "print(\"Dividing arrays:\")\n",
    "print(array1 / array2)"
   ]
  },
  {
   "cell_type": "markdown",
   "metadata": {},
   "source": [
    "We can also use mathematical functions on arrays:"
   ]
  },
  {
   "cell_type": "code",
   "execution_count": 30,
   "metadata": {},
   "outputs": [
    {
     "name": "stdout",
     "output_type": "stream",
     "text": [
      "array1:\n",
      " [[1 2 3]\n",
      " [4 5 6]]\n",
      "\n",
      "\n",
      "Square root\n",
      "[[1.         1.41421356 1.73205081]\n",
      " [2.         2.23606798 2.44948974]]\n",
      "\n",
      "Maximum\n",
      "6\n",
      "\n",
      "Minimum\n",
      "1\n",
      "\n",
      "Mean\n",
      "3.5\n"
     ]
    }
   ],
   "source": [
    "array1 = np.array([[1, 2, 3], [4, 5, 6]])\n",
    "print(\"array1:\\n\", array1)\n",
    "print()\n",
    "print()\n",
    "print(\"Square root\")\n",
    "print(np.sqrt(array1))\n",
    "print()\n",
    "print(\"Maximum\")\n",
    "print(np.max(array1))\n",
    "print()\n",
    "print(\"Minimum\")\n",
    "print(np.min(array1))\n",
    "print()\n",
    "print(\"Mean\")\n",
    "print(np.mean(array1))"
   ]
  },
  {
   "cell_type": "markdown",
   "metadata": {},
   "source": [
    "Finally, we can perform dot product multiplication, on the two arrays:"
   ]
  },
  {
   "cell_type": "code",
   "execution_count": 31,
   "metadata": {},
   "outputs": [
    {
     "name": "stdout",
     "output_type": "stream",
     "text": [
      "array1:\n",
      " [1 2 3]\n",
      "\n",
      "array2:\n",
      " [7 8 9]\n",
      "\n",
      "Dot product\n",
      "50\n"
     ]
    }
   ],
   "source": [
    "array1 = np.array([1, 2, 3])\n",
    "array2 = np.array([7, 8, 9])\n",
    "\n",
    "print(\"array1:\\n\", array1)\n",
    "print()\n",
    "print(\"array2:\\n\", array2)\n",
    "print()\n",
    "print(\"Dot product\")\n",
    "print(np.dot(array1, array2))"
   ]
  },
  {
   "cell_type": "markdown",
   "metadata": {},
   "source": [
    "Finding the dot product for one dimensional arrays means finding the sum of the products of the corresponding elements."
   ]
  }
 ],
 "metadata": {
  "kernelspec": {
   "display_name": "McGill",
   "language": "python",
   "name": "python3"
  },
  "language_info": {
   "codemirror_mode": {
    "name": "ipython",
    "version": 3
   },
   "file_extension": ".py",
   "mimetype": "text/x-python",
   "name": "python",
   "nbconvert_exporter": "python",
   "pygments_lexer": "ipython3",
   "version": "3.12.4"
  }
 },
 "nbformat": 4,
 "nbformat_minor": 2
}
