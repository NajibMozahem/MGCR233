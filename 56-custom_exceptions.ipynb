{
 "cells": [
  {
   "cell_type": "markdown",
   "metadata": {},
   "source": [
    "# Custom exceptions\n",
    "\n",
    "We have seen that we can raise exceptions using the `raise` statement. The exception can be a built-in exception or a custom exception. Built-in exceptions include `ValueError`, `TypeError`, and `ZeroDivisionError`. We can also define our own exceptions. We can do this by creating a new class that inherits from the `Exception` class:"
   ]
  },
  {
   "cell_type": "code",
   "execution_count": 1,
   "metadata": {},
   "outputs": [
    {
     "name": "stdout",
     "output_type": "stream",
     "text": [
      "Negative numbers are not allowed\n"
     ]
    }
   ],
   "source": [
    "class NegativeNumberException(Exception):\n",
    "    pass\n",
    "\n",
    "try:\n",
    "    num1 = int(input(\"Enter a number: \"))\n",
    "    if num1 < 0:\n",
    "        raise NegativeNumberException(\"Negative numbers are not allowed\")\n",
    "except  NegativeNumberException as e:\n",
    "    print(e)"
   ]
  },
  {
   "cell_type": "markdown",
   "metadata": {},
   "source": [
    "In the code above, we create a new class called `NegativeNumberException`. Crucially, this class inherits from the `Exception` class. Inheritence simply means that the new class inherits all the methods and attributes of the class it inherits from. In this case, the `NegativeNumberException` class inherits all the methods and attributes of the `Exception` class. Therefore, since we can `raise` an `Exception`, we can also `raise` a `NegativeNumberException`."
   ]
  }
 ],
 "metadata": {
  "kernelspec": {
   "display_name": "McGill",
   "language": "python",
   "name": "python3"
  },
  "language_info": {
   "codemirror_mode": {
    "name": "ipython",
    "version": 3
   },
   "file_extension": ".py",
   "mimetype": "text/x-python",
   "name": "python",
   "nbconvert_exporter": "python",
   "pygments_lexer": "ipython3",
   "version": "3.12.4"
  }
 },
 "nbformat": 4,
 "nbformat_minor": 2
}
