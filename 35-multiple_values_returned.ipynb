{
 "cells": [
  {
   "cell_type": "markdown",
   "metadata": {},
   "source": [
    "# Returning multiple values from a function\n",
    "\n",
    "We know that there is a function in Python that returns two values, and this function is `enumerate`. We have already used it when we were iterating over a list."
   ]
  },
  {
   "cell_type": "code",
   "execution_count": 1,
   "metadata": {},
   "outputs": [
    {
     "name": "stdout",
     "output_type": "stream",
     "text": [
      "0 : 1\n",
      "1 : 2\n",
      "2 : a\n",
      "3 : v\n",
      "4 : True\n"
     ]
    }
   ],
   "source": [
    "list1 = [1, 2, 'a', 'v', True]\n",
    "for i, j in enumerate(list1):\n",
    "    print(i, ':', j)"
   ]
  },
  {
   "cell_type": "markdown",
   "metadata": {},
   "source": [
    "We can also create functions that return multiple values:"
   ]
  },
  {
   "cell_type": "code",
   "execution_count": 2,
   "metadata": {},
   "outputs": [
    {
     "name": "stdout",
     "output_type": "stream",
     "text": [
      "(8, -2)\n"
     ]
    }
   ],
   "source": [
    "def my_func(a=2, b=4):\n",
    "    the_sum = a + b\n",
    "    the_diff = a - b\n",
    "    return the_sum, the_diff\n",
    "\n",
    "returned_values = my_func(3, 5)\n",
    "print(returned_values)"
   ]
  },
  {
   "cell_type": "markdown",
   "metadata": {},
   "source": [
    "Notice that the function returns a tuple that contains the two values. If we want to unpack these values, then we need to assign the return value to two variables:"
   ]
  },
  {
   "cell_type": "code",
   "execution_count": 3,
   "metadata": {},
   "outputs": [
    {
     "name": "stdout",
     "output_type": "stream",
     "text": [
      "The sum is 8 and the difference is -2\n"
     ]
    }
   ],
   "source": [
    "def my_func(a=2, b=4):\n",
    "    the_sum = a + b\n",
    "    the_diff = a - b\n",
    "    return the_sum, the_diff\n",
    "\n",
    "val1, val2 = my_func(3, 5)\n",
    "print(f\"The sum is {val1} and the difference is {val2}\")"
   ]
  },
  {
   "cell_type": "markdown",
   "metadata": {},
   "source": [
    "We now see that `val1` is equal to the first returned value, and `val2` is equal to the second returned value. We can also return more than two values if this is needed."
   ]
  }
 ],
 "metadata": {
  "kernelspec": {
   "display_name": "McGill",
   "language": "python",
   "name": "python3"
  },
  "language_info": {
   "codemirror_mode": {
    "name": "ipython",
    "version": 3
   },
   "file_extension": ".py",
   "mimetype": "text/x-python",
   "name": "python",
   "nbconvert_exporter": "python",
   "pygments_lexer": "ipython3",
   "version": "3.12.4"
  }
 },
 "nbformat": 4,
 "nbformat_minor": 2
}
