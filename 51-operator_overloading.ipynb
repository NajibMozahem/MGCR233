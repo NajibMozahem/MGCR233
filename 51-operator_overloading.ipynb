{
 "cells": [
  {
   "cell_type": "markdown",
   "metadata": {},
   "source": [
    "# Operator Overloading\n",
    "\n",
    "We have seen how we can customize the behavior of a class by defining methods. We specifically customized the behavior of the `__str__` method to return a string representation of the object.\n",
    "\n",
    "We can also customize the behavior of operators by defining methods that are called when an operator is used with an object. for example, assume that we define the class and we create two persons. We next ask Python if one person is ledd than the other:"
   ]
  },
  {
   "cell_type": "code",
   "execution_count": null,
   "metadata": {},
   "outputs": [
    {
     "ename": "TypeError",
     "evalue": "'<' not supported between instances of 'Person' and 'Person'",
     "output_type": "error",
     "traceback": [
      "\u001b[0;31m---------------------------------------------------------------------------\u001b[0m",
      "\u001b[0;31mTypeError\u001b[0m                                 Traceback (most recent call last)",
      "Cell \u001b[0;32mIn[1], line 29\u001b[0m\n\u001b[1;32m     26\u001b[0m var1 \u001b[38;5;241m=\u001b[39m Person(\u001b[38;5;124m\"\u001b[39m\u001b[38;5;124mJane\u001b[39m\u001b[38;5;124m\"\u001b[39m, \u001b[38;5;241m25\u001b[39m, \u001b[38;5;124m\"\u001b[39m\u001b[38;5;124m123 Main St\u001b[39m\u001b[38;5;124m\"\u001b[39m, \u001b[38;5;124m\"\u001b[39m\u001b[38;5;124m555-1212\u001b[39m\u001b[38;5;124m\"\u001b[39m,\u001b[38;5;124m\"\u001b[39m\u001b[38;5;124mjane@email.com\u001b[39m\u001b[38;5;124m\"\u001b[39m)\n\u001b[1;32m     27\u001b[0m var2 \u001b[38;5;241m=\u001b[39m Person(\u001b[38;5;124m\"\u001b[39m\u001b[38;5;124mJohn\u001b[39m\u001b[38;5;124m\"\u001b[39m, \u001b[38;5;241m30\u001b[39m, \u001b[38;5;124m\"\u001b[39m\u001b[38;5;124m123 Main St\u001b[39m\u001b[38;5;124m\"\u001b[39m, \u001b[38;5;124m\"\u001b[39m\u001b[38;5;124m555-1212\u001b[39m\u001b[38;5;124m\"\u001b[39m,\u001b[38;5;124m\"\u001b[39m\u001b[38;5;124mjohn@email.com\u001b[39m\u001b[38;5;124m\"\u001b[39m)\n\u001b[0;32m---> 29\u001b[0m \u001b[43mvar1\u001b[49m\u001b[43m \u001b[49m\u001b[38;5;241;43m<\u001b[39;49m\u001b[43m \u001b[49m\u001b[43mvar2\u001b[49m\n",
      "\u001b[0;31mTypeError\u001b[0m: '<' not supported between instances of 'Person' and 'Person'"
     ]
    }
   ],
   "source": [
    "class Person:\n",
    "\n",
    "    married_status = 'single'\n",
    "\n",
    "    def __init__(self, name1=\"\", age1=0, address1=\"\", phone1=\"\", email1=\"\"):\n",
    "        self.name = name1\n",
    "        self.age = age1\n",
    "        self.address = address1\n",
    "        self.phone = phone1\n",
    "        self.email = email1\n",
    "    \n",
    "    def print_person(self):\n",
    "        print(\"Name: \", self.name)\n",
    "        print(\"Age: \", self.age)\n",
    "        print(\"Address: \", self.address)\n",
    "        print(\"Phone: \", self.phone)\n",
    "        print(\"Email: \", self.email)\n",
    "    \n",
    "    def name_upper(self):\n",
    "        self.name = self.name.upper()\n",
    "    \n",
    "    def __str__(self):\n",
    "        return \"Name: \" + self.name + \"\\nAge: \" + str(self.age) + \"\\nAddress: \" + self.address + \"\\nPhone: \" + self.phone + \"\\nEmail: \" + self.email\n",
    "\n",
    "var1 = Person(\"Jane\", 25, \"123 Main St\", \"555-1212\",\"jane@email.com\")\n",
    "var2 = Person(\"John\", 30, \"123 Main St\", \"555-1212\",\"john@email.com\")\n",
    "\n",
    "var1 < var2\n"
   ]
  },
  {
   "cell_type": "markdown",
   "metadata": {},
   "source": [
    "Notice that we get an error. Looking at the error message, we see that Python is telling us that the operator `<` is not defined for the `Person` class. This makes sense, since we haven't defined how to compare two `Person` objects. Python cannot know what it means to compare two `Person` objects.\n",
    "\n",
    "We can fix this by defining a method called `__lt__` that takes in another `Person` object and returns a boolean value. This method will be called when we use the `<` operator on two `Person` objects:"
   ]
  },
  {
   "cell_type": "code",
   "execution_count": 2,
   "metadata": {},
   "outputs": [],
   "source": [
    "class Person:\n",
    "\n",
    "    married_status = 'single'\n",
    "\n",
    "    def __init__(self, name1=\"\", age1=0, address1=\"\", phone1=\"\", email1=\"\"):\n",
    "        self.name = name1\n",
    "        self.age = age1\n",
    "        self.address = address1\n",
    "        self.phone = phone1\n",
    "        self.email = email1\n",
    "    \n",
    "    def print_person(self):\n",
    "        print(\"Name: \", self.name)\n",
    "        print(\"Age: \", self.age)\n",
    "        print(\"Address: \", self.address)\n",
    "        print(\"Phone: \", self.phone)\n",
    "        print(\"Email: \", self.email)\n",
    "    \n",
    "    def name_upper(self):\n",
    "        self.name = self.name.upper()\n",
    "    \n",
    "    def __str__(self):\n",
    "        print(\"This is the __str__ function\")\n",
    "        return \"Name: \" + self.name + \"\\nAge: \" + str(self.age) + \"\\nAddress: \" + self.address + \"\\nPhone: \" + self.phone + \"\\nEmail: \" + self.email\n",
    "\n",
    "    def __lt__(self, other):\n",
    "        print(\"This is the __lt__ function\")\n",
    "        return self.age < other.age"
   ]
  },
  {
   "cell_type": "markdown",
   "metadata": {},
   "source": [
    "We added the method `__lt__` to the `Person` class. I have added a print statement just to show when this method is called. We notice that the method receives two arguments, `self` and `other`. The `self` argument is the object that is calling the method, and the `other` argument is the object that is being compared to. Inside the method, we simply tell python to return the result of comparing the `self.age` attribute to the `other.age` attribute. This means that we are telling Python that when we try to see if one person is less than the other, we are comparing their ages.\n",
    "\n",
    "Let us try it out:"
   ]
  },
  {
   "cell_type": "code",
   "execution_count": 3,
   "metadata": {},
   "outputs": [
    {
     "name": "stdout",
     "output_type": "stream",
     "text": [
      "This is the __lt__ function\n"
     ]
    },
    {
     "data": {
      "text/plain": [
       "True"
      ]
     },
     "execution_count": 3,
     "metadata": {},
     "output_type": "execute_result"
    }
   ],
   "source": [
    "var1 = Person(\"Jane\", 25, \"123 Main St\", \"555-1212\",\"jane@email.com\")\n",
    "var2 = Person(\"John\", 30, \"123 Main St\", \"555-1212\",\"john@email.com\")\n",
    "\n",
    "var1 < var2"
   ]
  },
  {
   "cell_type": "markdown",
   "metadata": {},
   "source": [
    "Notice the print statement. This is proof that when we use the `<` operator, the `__lt__` method is called.\n",
    "\n",
    "What if we ask Python if a person is less than a number?"
   ]
  },
  {
   "cell_type": "code",
   "execution_count": 4,
   "metadata": {},
   "outputs": [
    {
     "name": "stdout",
     "output_type": "stream",
     "text": [
      "This is the __lt__ function\n"
     ]
    },
    {
     "ename": "AttributeError",
     "evalue": "'int' object has no attribute 'age'",
     "output_type": "error",
     "traceback": [
      "\u001b[0;31m---------------------------------------------------------------------------\u001b[0m",
      "\u001b[0;31mAttributeError\u001b[0m                            Traceback (most recent call last)",
      "Cell \u001b[0;32mIn[4], line 1\u001b[0m\n\u001b[0;32m----> 1\u001b[0m \u001b[43mvar1\u001b[49m\u001b[43m \u001b[49m\u001b[38;5;241;43m<\u001b[39;49m\u001b[43m \u001b[49m\u001b[38;5;241;43m5\u001b[39;49m\n",
      "Cell \u001b[0;32mIn[2], line 28\u001b[0m, in \u001b[0;36mPerson.__lt__\u001b[0;34m(self, other)\u001b[0m\n\u001b[1;32m     26\u001b[0m \u001b[38;5;28;01mdef\u001b[39;00m \u001b[38;5;21m__lt__\u001b[39m(\u001b[38;5;28mself\u001b[39m, other):\n\u001b[1;32m     27\u001b[0m     \u001b[38;5;28mprint\u001b[39m(\u001b[38;5;124m\"\u001b[39m\u001b[38;5;124mThis is the __lt__ function\u001b[39m\u001b[38;5;124m\"\u001b[39m)\n\u001b[0;32m---> 28\u001b[0m     \u001b[38;5;28;01mreturn\u001b[39;00m \u001b[38;5;28mself\u001b[39m\u001b[38;5;241m.\u001b[39mage \u001b[38;5;241m<\u001b[39m \u001b[43mother\u001b[49m\u001b[38;5;241;43m.\u001b[39;49m\u001b[43mage\u001b[49m\n",
      "\u001b[0;31mAttributeError\u001b[0m: 'int' object has no attribute 'age'"
     ]
    }
   ],
   "source": [
    "var1 < 5"
   ]
  },
  {
   "cell_type": "markdown",
   "metadata": {},
   "source": [
    "We get an error. This is because inside the method `__lt__` we are comparing `self.age` with `other.age`. But `other` is not an instance of `Person`. It is an instance of `int`. So we get an error. \n",
    "\n",
    "We can resolve this by using the `isinstance` function. This function is used to check if an object is an instance of a class. It takes two arguments: the object and the class. It returns `True` if the object is an instance of the class, and `False` otherwise:"
   ]
  },
  {
   "cell_type": "code",
   "execution_count": 5,
   "metadata": {},
   "outputs": [
    {
     "data": {
      "text/plain": [
       "True"
      ]
     },
     "execution_count": 5,
     "metadata": {},
     "output_type": "execute_result"
    }
   ],
   "source": [
    "isinstance(1, int)"
   ]
  },
  {
   "cell_type": "markdown",
   "metadata": {},
   "source": [
    "Here we asked Python if 1 is an instance of the `int` class. The answer is `True`. We can also ask if 1 is an instance of the `Person` class that we just created:"
   ]
  },
  {
   "cell_type": "code",
   "execution_count": 6,
   "metadata": {},
   "outputs": [
    {
     "data": {
      "text/plain": [
       "False"
      ]
     },
     "execution_count": 6,
     "metadata": {},
     "output_type": "execute_result"
    }
   ],
   "source": [
    "isinstance(1, Person)"
   ]
  },
  {
   "cell_type": "markdown",
   "metadata": {},
   "source": [
    "We see that it is not. Therefore, we can use this function to check if `other` is an instance of `Person`. Let us modify the class definition to use this function:"
   ]
  },
  {
   "cell_type": "code",
   "execution_count": 7,
   "metadata": {},
   "outputs": [],
   "source": [
    "class Person:\n",
    "\n",
    "    married_status = 'single'\n",
    "\n",
    "    def __init__(self, name1=\"\", age1=0, address1=\"\", phone1=\"\", email1=\"\"):\n",
    "        self.name = name1\n",
    "        self.age = age1\n",
    "        self.address = address1\n",
    "        self.phone = phone1\n",
    "        self.email = email1\n",
    "    \n",
    "    def print_person(self):\n",
    "        print(\"Name: \", self.name)\n",
    "        print(\"Age: \", self.age)\n",
    "        print(\"Address: \", self.address)\n",
    "        print(\"Phone: \", self.phone)\n",
    "        print(\"Email: \", self.email)\n",
    "    \n",
    "    def name_upper(self):\n",
    "        self.name = self.name.upper()\n",
    "    \n",
    "    def __str__(self):\n",
    "        print(\"This is the __str__ function\")\n",
    "        return \"Name: \" + self.name + \"\\nAge: \" + str(self.age) + \"\\nAddress: \" + self.address + \"\\nPhone: \" + self.phone + \"\\nEmail: \" + self.email\n",
    "\n",
    "    def __lt__(self, other):\n",
    "        if isinstance(other, Person):\n",
    "            return self.age < other.age\n",
    "        else:\n",
    "            print(\"Error: \", other, \" is not a Person object\")"
   ]
  },
  {
   "cell_type": "markdown",
   "metadata": {},
   "source": [
    "In the `__lt__` method, we check to see if `other` is a `Person`. If it is, then we compare the ages of the two people. If `other` is not a `Person`, then we print an error message. Let us try it now:"
   ]
  },
  {
   "cell_type": "code",
   "execution_count": 8,
   "metadata": {},
   "outputs": [
    {
     "data": {
      "text/plain": [
       "True"
      ]
     },
     "execution_count": 8,
     "metadata": {},
     "output_type": "execute_result"
    }
   ],
   "source": [
    "var1 = Person(\"Jane\", 25, \"123 Main St\", \"555-1212\",\"jane@email.com\")\n",
    "var2 = Person(\"John\", 30, \"123 Main St\", \"555-1212\",\"john@email.com\")\n",
    "\n",
    "var1 < var2"
   ]
  },
  {
   "cell_type": "markdown",
   "metadata": {},
   "source": [
    "We are able to compre two objects of the class `Person`. Let us now try it when `other` is not a `Person` object:"
   ]
  },
  {
   "cell_type": "code",
   "execution_count": 9,
   "metadata": {},
   "outputs": [
    {
     "name": "stdout",
     "output_type": "stream",
     "text": [
      "Error:  5  is not a Person object\n"
     ]
    }
   ],
   "source": [
    "var1 < 5"
   ]
  },
  {
   "cell_type": "markdown",
   "metadata": {},
   "source": [
    "We see that the error message that we printed is showing up. \n",
    "\n",
    "If we want to use the `>`` operator, we need to overload the `__gt__` method:"
   ]
  },
  {
   "cell_type": "code",
   "execution_count": 10,
   "metadata": {},
   "outputs": [
    {
     "name": "stdout",
     "output_type": "stream",
     "text": [
      "Result of the < operator:  True\n",
      "Result of the > operator:  False\n"
     ]
    }
   ],
   "source": [
    "class Person:\n",
    "\n",
    "    married_status = 'single'\n",
    "\n",
    "    def __init__(self, name1=\"\", age1=0, address1=\"\", phone1=\"\", email1=\"\"):\n",
    "        self.name = name1\n",
    "        self.age = age1\n",
    "        self.address = address1\n",
    "        self.phone = phone1\n",
    "        self.email = email1\n",
    "    \n",
    "    def print_person(self):\n",
    "        print(\"Name: \", self.name)\n",
    "        print(\"Age: \", self.age)\n",
    "        print(\"Address: \", self.address)\n",
    "        print(\"Phone: \", self.phone)\n",
    "        print(\"Email: \", self.email)\n",
    "    \n",
    "    def name_upper(self):\n",
    "        self.name = self.name.upper()\n",
    "    \n",
    "    def __str__(self):\n",
    "        print(\"This is the __str__ function\")\n",
    "        return \"Name: \" + self.name + \"\\nAge: \" + str(self.age) + \"\\nAddress: \" + self.address + \"\\nPhone: \" + self.phone + \"\\nEmail: \" + self.email\n",
    "\n",
    "    def __lt__(self, other):\n",
    "        if isinstance(other, Person):\n",
    "            return self.age < other.age\n",
    "        else:\n",
    "            print(\"Error: \", other, \" is not a Person object\")\n",
    "    \n",
    "    def __gt__(self, other):\n",
    "        if isinstance(other, Person):\n",
    "            return self.age > other.age\n",
    "        else:\n",
    "            print(\"Error: \", other, \" is not a Person object\")\n",
    "\n",
    "var1 = Person(\"Jane\", 25, \"123 Main St\", \"555-1212\",\"jane@email.com\")\n",
    "var2 = Person(\"John\", 30, \"123 Main St\", \"555-1212\",\"john@email.com\")\n",
    "\n",
    "print(\"Result of the < operator: \", var1 < var2)\n",
    "print(\"Result of the > operator: \", var1 > var2)"
   ]
  }
 ],
 "metadata": {
  "kernelspec": {
   "display_name": "McGill",
   "language": "python",
   "name": "python3"
  },
  "language_info": {
   "codemirror_mode": {
    "name": "ipython",
    "version": 3
   },
   "file_extension": ".py",
   "mimetype": "text/x-python",
   "name": "python",
   "nbconvert_exporter": "python",
   "pygments_lexer": "ipython3",
   "version": "3.12.4"
  }
 },
 "nbformat": 4,
 "nbformat_minor": 2
}
