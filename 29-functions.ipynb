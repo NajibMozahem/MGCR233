{
 "cells": [
  {
   "cell_type": "markdown",
   "metadata": {},
   "source": [
    "# Functions\n",
    "\n",
    "We have been using various functions that are built into Python. For example, the `print()` function allows us to print text to the screen. We can also create our own functions. For example, we can create a function that that calculates the area of a circle and prints the area:"
   ]
  },
  {
   "cell_type": "code",
   "execution_count": 1,
   "metadata": {},
   "outputs": [],
   "source": [
    "import math\n",
    "\n",
    "def calc_area_circle():\n",
    "    radius = 5\n",
    "    area = math.pi * (radius ** 2)\n",
    "    print(f\"Area of circle with radius {radius} is {area:.2f}\")"
   ]
  },
  {
   "cell_type": "markdown",
   "metadata": {},
   "source": [
    "We use the `def` keyword to define a function. We have chosen to name the function `calc_area_circle`. The name of the function is followed by parentheses `()`. In this case, there is nothing between the parentheses. The code used inside teh function is indented.\n",
    "\n",
    "The code above is called a function definition. This is the code that defines what the function does. To use the function, we need to call it:"
   ]
  },
  {
   "cell_type": "code",
   "execution_count": 2,
   "metadata": {},
   "outputs": [
    {
     "name": "stdout",
     "output_type": "stream",
     "text": [
      "Area of circle with radius 5 is 78.54\n"
     ]
    }
   ],
   "source": [
    "calc_area_circle()"
   ]
  },
  {
   "cell_type": "markdown",
   "metadata": {},
   "source": [
    "What if we wanted the function to work with other values for the radius? In this case, we can add a parameter to the function definition:"
   ]
  },
  {
   "cell_type": "code",
   "execution_count": 4,
   "metadata": {},
   "outputs": [
    {
     "name": "stdout",
     "output_type": "stream",
     "text": [
      "Area of circle with radius 5 is 78.54\n",
      "Area of circle with radius 6 is 113.10\n"
     ]
    }
   ],
   "source": [
    "import math\n",
    "\n",
    "def calc_area_circle(radius):\n",
    "    area = math.pi * (radius ** 2)\n",
    "    print(f\"Area of circle with radius {radius} is {area:.2f}\")\n",
    "\n",
    "calc_area_circle(5)\n",
    "calc_area_circle(6)"
   ]
  },
  {
   "cell_type": "markdown",
   "metadata": {},
   "source": [
    "We can now call the function while specifying the radius of the circle. We pass the radius inside the parantheses. Notice that in the function definition we have a variable called radius inside the parantheses. This is our way of telling Python that we are going to pass a value to the function. The value that we pass to the function is called an argument.\n",
    "\n",
    "What if we do not want the function to print something. What if we wanted the function to do the calculation and to send the result back to the user. We can do this by using the return statement. The return statement is used to send a value back to the user:"
   ]
  },
  {
   "cell_type": "code",
   "execution_count": 5,
   "metadata": {},
   "outputs": [
    {
     "name": "stdout",
     "output_type": "stream",
     "text": [
      "Area of circle with radius 5 is 78.54\n"
     ]
    }
   ],
   "source": [
    "import math\n",
    "\n",
    "def calc_area_circle(radius):\n",
    "    area = math.pi * (radius ** 2)\n",
    "    return area\n",
    "\n",
    "var1 = calc_area_circle(5)\n",
    "print(f\"Area of circle with radius 5 is {var1:.2f}\")\n"
   ]
  },
  {
   "cell_type": "markdown",
   "metadata": {},
   "source": [
    "The `return` statement is used to return a value from a function. We can save this value in a variable and then use it in our code.\n",
    "\n",
    "Let us now write another function that takes two numbers as input and returns the sum of the two numbers:"
   ]
  },
  {
   "cell_type": "code",
   "execution_count": 6,
   "metadata": {},
   "outputs": [
    {
     "name": "stdout",
     "output_type": "stream",
     "text": [
      "3 + 4 = 7\n"
     ]
    }
   ],
   "source": [
    "def my_add(a, b):\n",
    "    return a + b\n",
    "\n",
    "var2 = my_add(3, 4)\n",
    "print(f\"3 + 4 = {var2}\")"
   ]
  },
  {
   "cell_type": "markdown",
   "metadata": {},
   "source": [
    "What would happen if I try to call the function using just one parameter?"
   ]
  },
  {
   "cell_type": "code",
   "execution_count": 7,
   "metadata": {},
   "outputs": [
    {
     "ename": "TypeError",
     "evalue": "my_add() missing 1 required positional argument: 'b'",
     "output_type": "error",
     "traceback": [
      "\u001b[0;31m---------------------------------------------------------------------------\u001b[0m",
      "\u001b[0;31mTypeError\u001b[0m                                 Traceback (most recent call last)",
      "Cell \u001b[0;32mIn[7], line 1\u001b[0m\n\u001b[0;32m----> 1\u001b[0m \u001b[43mmy_add\u001b[49m\u001b[43m(\u001b[49m\u001b[38;5;241;43m3\u001b[39;49m\u001b[43m)\u001b[49m\n",
      "\u001b[0;31mTypeError\u001b[0m: my_add() missing 1 required positional argument: 'b'"
     ]
    }
   ],
   "source": [
    "my_add(3)"
   ]
  },
  {
   "cell_type": "markdown",
   "metadata": {},
   "source": [
    "We get an error. This is because in the function definition, we specified that this function receives two arguments."
   ]
  }
 ],
 "metadata": {
  "kernelspec": {
   "display_name": "McGill",
   "language": "python",
   "name": "python3"
  },
  "language_info": {
   "codemirror_mode": {
    "name": "ipython",
    "version": 3
   },
   "file_extension": ".py",
   "mimetype": "text/x-python",
   "name": "python",
   "nbconvert_exporter": "python",
   "pygments_lexer": "ipython3",
   "version": "3.12.4"
  }
 },
 "nbformat": 4,
 "nbformat_minor": 2
}
