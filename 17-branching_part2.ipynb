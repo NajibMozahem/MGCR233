{
 "cells": [
  {
   "cell_type": "markdown",
   "metadata": {},
   "source": [
    "# Multiple if statements\n",
    "\n",
    "It is possible to use multiple if statements:"
   ]
  },
  {
   "cell_type": "code",
   "execution_count": 6,
   "metadata": {},
   "outputs": [
    {
     "name": "stdout",
     "output_type": "stream",
     "text": [
      "Age is less than 25\n",
      "Age is less than 30\n"
     ]
    }
   ],
   "source": [
    "age = 21\n",
    "\n",
    "if age < 25:\n",
    "    print(\"Age is less than 25\")\n",
    "if age < 30:\n",
    "    print(\"Age is less than 30\")\n",
    "if age < 15:\n",
    "    print(\"Age is less than 15\")"
   ]
  },
  {
   "cell_type": "markdown",
   "metadata": {},
   "source": [
    "# Nested if\n",
    "\n",
    "It is also possible to have if statements that are part of other if statements:"
   ]
  },
  {
   "cell_type": "code",
   "execution_count": 7,
   "metadata": {},
   "outputs": [
    {
     "name": "stdout",
     "output_type": "stream",
     "text": [
      "Cost is 50 and product is book\n"
     ]
    }
   ],
   "source": [
    "cost = 50\n",
    "product = \"book\"\n",
    "\n",
    "if cost < 50:\n",
    "    print(\"Cost is less than 50\")\n",
    "elif cost == 50:\n",
    "    if product == \"book\":\n",
    "        print(\"Cost is 50 and product is book\")\n",
    "    else:\n",
    "        print(\"Cost is 50 but product is not book\")\n",
    "else:\n",
    "    print(\"Cost is greater than 50\")"
   ]
  }
 ],
 "metadata": {
  "kernelspec": {
   "display_name": "McGill",
   "language": "python",
   "name": "python3"
  },
  "language_info": {
   "codemirror_mode": {
    "name": "ipython",
    "version": 3
   },
   "file_extension": ".py",
   "mimetype": "text/x-python",
   "name": "python",
   "nbconvert_exporter": "python",
   "pygments_lexer": "ipython3",
   "version": "3.12.4"
  }
 },
 "nbformat": 4,
 "nbformat_minor": 2
}
