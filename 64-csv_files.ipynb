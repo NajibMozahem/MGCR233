{
 "cells": [
  {
   "cell_type": "markdown",
   "metadata": {},
   "source": [
    "# CSV files\n",
    "\n",
    "CSV files are a common format for storing data in a tabular format. They are often used for data analysis and machine learning. Data is stored with a comma as a separator between columns and a new line as a separator between rows. The extension for CSV files is `.csv`. If you double click on a CSV file, it will open in a spreadheet program like Excel or Google Sheets depending on where the file is stored.\n",
    "\n",
    "Let us read a CSV file using the `open` function:"
   ]
  },
  {
   "cell_type": "code",
   "execution_count": null,
   "metadata": {},
   "outputs": [
    {
     "name": "stdout",
     "output_type": "stream",
     "text": [
      "Name,Continent,Population\n",
      "\n",
      "Afghanistan,Asia,22720000\n",
      "\n",
      "Albania,Europe,3401200\n",
      "\n",
      "Algeria,Africa,31471000\n",
      "\n",
      "American Samoa,Oceania,68000\n",
      "\n",
      "Andorra,Europe,78000\n",
      "\n",
      "Angola,Africa,12878000\n",
      "\n",
      "Anguilla,North America,8000\n",
      "\n",
      "Antarctica,Antarctica,0\n",
      "\n",
      "Antigua and Barbuda,North America,68000\n",
      "\n",
      "Argentina,South America,37032000\n"
     ]
    }
   ],
   "source": [
    "f = open(\"country.csv\")\n",
    "contents = f.readlines()\n",
    "\n",
    "for line in contents:\n",
    "    print(line)\n",
    "\n",
    "f.close()"
   ]
  },
  {
   "cell_type": "markdown",
   "metadata": {},
   "source": [
    "We see that the `readlines()` function reads the entire file, one line at a time. In the loop, we see that each time, the variable `line` is a string that has the contents of the line. What we would like to do is to split the contents cell by cell. We can do this by using the `split()` function:"
   ]
  },
  {
   "cell_type": "code",
   "execution_count": 2,
   "metadata": {},
   "outputs": [
    {
     "name": "stdout",
     "output_type": "stream",
     "text": [
      "['Name', 'Continent', 'Population\\n']\n",
      "['Afghanistan', 'Asia', '22720000\\n']\n",
      "['Albania', 'Europe', '3401200\\n']\n",
      "['Algeria', 'Africa', '31471000\\n']\n",
      "['American Samoa', 'Oceania', '68000\\n']\n",
      "['Andorra', 'Europe', '78000\\n']\n",
      "['Angola', 'Africa', '12878000\\n']\n",
      "['Anguilla', 'North America', '8000\\n']\n",
      "['Antarctica', 'Antarctica', '0\\n']\n",
      "['Antigua and Barbuda', 'North America', '68000\\n']\n",
      "['Argentina', 'South America', '37032000']\n"
     ]
    }
   ],
   "source": [
    "f = open(\"country.csv\")\n",
    "contents = f.readlines()\n",
    "\n",
    "for line in contents:\n",
    "    print(line.split(','))\n",
    "\n",
    "f.close()"
   ]
  },
  {
   "cell_type": "markdown",
   "metadata": {},
   "source": [
    "We split on the comma because we know that in the CSV file the data is separated by commas. \n",
    "\n",
    "Instead of us having to worry about the commas, we can use the read_csv function to do this for us:"
   ]
  },
  {
   "cell_type": "code",
   "execution_count": 9,
   "metadata": {},
   "outputs": [
    {
     "name": "stdout",
     "output_type": "stream",
     "text": [
      "['Name', 'Continent', 'Population']\n",
      "['Afghanistan', 'Asia', '22720000']\n",
      "['Albania', 'Europe', '3401200']\n",
      "['Algeria', 'Africa', '31471000']\n",
      "['American Samoa', 'Oceania', '68000']\n",
      "['Andorra', 'Europe', '78000']\n",
      "['Angola', 'Africa', '12878000']\n",
      "['Anguilla', 'North America', '8000']\n",
      "['Antarctica', 'Antarctica', '0']\n",
      "['Antigua and Barbuda', 'North America', '68000']\n",
      "['Argentina', 'South America', '37032000']\n"
     ]
    }
   ],
   "source": [
    "import csv\n",
    "\n",
    "f = open(\"country.csv\")\n",
    "reader = csv.reader(f)\n",
    "for row in reader:\n",
    "    print(row)\n",
    "f.close()"
   ]
  },
  {
   "cell_type": "markdown",
   "metadata": {},
   "source": [
    "Notice that the reader handled the splitting for us. If we want to write to the file, we can also use a csv writer which will handle the formatting for us:"
   ]
  },
  {
   "cell_type": "code",
   "execution_count": null,
   "metadata": {},
   "outputs": [],
   "source": [
    "to_add = ['Canada', 'North America', '40100000']\n",
    "\n",
    "f = open(\"country.csv\", \"a\", newline='')\n",
    "writer = csv.writer(f)\n",
    "writer.writerow(to_add)\n",
    "f.close()"
   ]
  },
  {
   "cell_type": "markdown",
   "metadata": {},
   "source": [
    "Let us now read the contents of the file again to see if the row that we added is there:"
   ]
  },
  {
   "cell_type": "code",
   "execution_count": null,
   "metadata": {},
   "outputs": [
    {
     "name": "stdout",
     "output_type": "stream",
     "text": [
      "['Name', 'Continent', 'Population']\n",
      "['Afghanistan', 'Asia', '22720000']\n",
      "['Albania', 'Europe', '3401200']\n",
      "['Algeria', 'Africa', '31471000']\n",
      "['American Samoa', 'Oceania', '68000']\n",
      "['Andorra', 'Europe', '78000']\n",
      "['Angola', 'Africa', '12878000']\n",
      "['Anguilla', 'North America', '8000']\n",
      "['Antarctica', 'Antarctica', '0']\n",
      "['Antigua and Barbuda', 'North America', '68000']\n",
      "['Argentina', 'South America', '37032000']\n",
      "['Canada', 'North America', '40100000']\n"
     ]
    }
   ],
   "source": [
    "f = open(\"country.csv\")\n",
    "reader = csv.reader(f)\n",
    "for row in reader:\n",
    "    print(row)\n",
    "f.close()"
   ]
  }
 ],
 "metadata": {
  "kernelspec": {
   "display_name": "McGill",
   "language": "python",
   "name": "python3"
  },
  "language_info": {
   "codemirror_mode": {
    "name": "ipython",
    "version": 3
   },
   "file_extension": ".py",
   "mimetype": "text/x-python",
   "name": "python",
   "nbconvert_exporter": "python",
   "pygments_lexer": "ipython3",
   "version": "3.12.4"
  }
 },
 "nbformat": 4,
 "nbformat_minor": 2
}
