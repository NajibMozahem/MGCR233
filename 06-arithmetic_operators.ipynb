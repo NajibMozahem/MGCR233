{
 "cells": [
  {
   "cell_type": "markdown",
   "metadata": {},
   "source": [
    "# Arithmetic operators\n",
    "\n",
    "In python we usually perform certain operations on variables:"
   ]
  },
  {
   "cell_type": "code",
   "execution_count": 1,
   "metadata": {},
   "outputs": [
    {
     "name": "stdout",
     "output_type": "stream",
     "text": [
      "Add numbers:  5\n",
      "Subtract numbers:  -1\n",
      "Multiply numbers:  6\n",
      "Divide numbers:  0.6666666666666666\n",
      "Exponentiation:  8\n"
     ]
    }
   ],
   "source": [
    "print(\"Add numbers: \", 2 + 3)\n",
    "print(\"Subtract numbers: \", 2 - 3)\n",
    "print(\"Multiply numbers: \", 2 * 3)\n",
    "print(\"Divide numbers: \", 2 / 3)\n",
    "print(\"Exponentiation: \", 2 ** 3)"
   ]
  },
  {
   "cell_type": "markdown",
   "metadata": {},
   "source": [
    "Another operation involves changing the sign of a number, i.e., multiplying the number by -1:"
   ]
  },
  {
   "cell_type": "code",
   "execution_count": 2,
   "metadata": {},
   "outputs": [
    {
     "name": "stdout",
     "output_type": "stream",
     "text": [
      "-2\n"
     ]
    }
   ],
   "source": [
    "var1 = 2\n",
    "var2 = -var1\n",
    "print(var2)"
   ]
  },
  {
   "cell_type": "markdown",
   "metadata": {},
   "source": [
    "We can use compound operators as a shothand way to update variables:"
   ]
  },
  {
   "cell_type": "code",
   "execution_count": 6,
   "metadata": {},
   "outputs": [
    {
     "name": "stdout",
     "output_type": "stream",
     "text": [
      "Before 4\n",
      "After 6\n"
     ]
    }
   ],
   "source": [
    "var3 = 4\n",
    "print(\"Before\", var3)\n",
    "var3 += 2\n",
    "print(\"After\", var3)"
   ]
  },
  {
   "cell_type": "code",
   "execution_count": 7,
   "metadata": {},
   "outputs": [
    {
     "name": "stdout",
     "output_type": "stream",
     "text": [
      "Before 4\n",
      "After 2\n"
     ]
    }
   ],
   "source": [
    "var3 = 4\n",
    "print(\"Before\", var3)\n",
    "var3 -= 2\n",
    "print(\"After\", var3)"
   ]
  },
  {
   "cell_type": "code",
   "execution_count": 8,
   "metadata": {},
   "outputs": [
    {
     "name": "stdout",
     "output_type": "stream",
     "text": [
      "Before 4\n",
      "After 8\n"
     ]
    }
   ],
   "source": [
    "var3 = 4\n",
    "print(\"Before\", var3)\n",
    "var3 *= 2\n",
    "print(\"After\", var3)"
   ]
  },
  {
   "cell_type": "code",
   "execution_count": 9,
   "metadata": {},
   "outputs": [
    {
     "name": "stdout",
     "output_type": "stream",
     "text": [
      "Before 4\n",
      "After 2.0\n"
     ]
    }
   ],
   "source": [
    "var3 = 4\n",
    "print(\"Before\", var3)\n",
    "var3 /= 2\n",
    "print(\"After\", var3)"
   ]
  }
 ],
 "metadata": {
  "kernelspec": {
   "display_name": "McGill",
   "language": "python",
   "name": "python3"
  },
  "language_info": {
   "codemirror_mode": {
    "name": "ipython",
    "version": 3
   },
   "file_extension": ".py",
   "mimetype": "text/x-python",
   "name": "python",
   "nbconvert_exporter": "python",
   "pygments_lexer": "ipython3",
   "version": "3.12.4"
  }
 },
 "nbformat": 4,
 "nbformat_minor": 2
}
