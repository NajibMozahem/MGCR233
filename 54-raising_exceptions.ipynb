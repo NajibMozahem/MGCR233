{
 "cells": [
  {
   "cell_type": "markdown",
   "metadata": {},
   "source": [
    "# Raising Exceptions\n",
    "\n",
    "Sometimes, we want to raise an exception ourselves. For example, if the program asks the user to enter a positive number, but the user enters a negative number, we can raise an exception. This is done using the `raise` keyword:"
   ]
  },
  {
   "cell_type": "code",
   "execution_count": 2,
   "metadata": {},
   "outputs": [
    {
     "name": "stdout",
     "output_type": "stream",
     "text": [
      "Grade must be between 0 and 100\n"
     ]
    }
   ],
   "source": [
    "try:\n",
    "    grade = int(input(\"Enter a grade: \"))\n",
    "    if grade < 0 or grade > 100:\n",
    "        raise ValueError(\"Grade must be between 0 and 100\")\n",
    "    else:\n",
    "        print(\"Valid grade\")\n",
    "except ValueError as e:\n",
    "    print(e)"
   ]
  },
  {
   "cell_type": "markdown",
   "metadata": {},
   "source": [
    "If the user enters a grade that is less than 0 or more than 100, the program raises a `ValueError` exception with a message that says \"Grade must be between 0 and 100\". This error is caught in the `except` block. Notice that we use the `as e` syntax to assign the exception object to the variable `e`. This will enable us to print the specific error message that was raised."
   ]
  }
 ],
 "metadata": {
  "kernelspec": {
   "display_name": "McGill",
   "language": "python",
   "name": "python3"
  },
  "language_info": {
   "codemirror_mode": {
    "name": "ipython",
    "version": 3
   },
   "file_extension": ".py",
   "mimetype": "text/x-python",
   "name": "python",
   "nbconvert_exporter": "python",
   "pygments_lexer": "ipython3",
   "version": "3.12.4"
  }
 },
 "nbformat": 4,
 "nbformat_minor": 2
}
