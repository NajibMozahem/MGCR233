{
 "cells": [
  {
   "cell_type": "markdown",
   "metadata": {},
   "source": [
    "# Methods\n",
    "\n",
    "We can also define methods, or functions, inside a class. This will allow the user to perform actions on the objects. For example, we have previously seen that if we have a string, we can use the `upper()` method to convert it to uppercase:"
   ]
  },
  {
   "cell_type": "code",
   "execution_count": 1,
   "metadata": {},
   "outputs": [
    {
     "data": {
      "text/plain": [
       "'MCGILL'"
      ]
     },
     "execution_count": 1,
     "metadata": {},
     "output_type": "execute_result"
    }
   ],
   "source": [
    "str1 = \"McGill\"\n",
    "str1.upper()"
   ]
  },
  {
   "cell_type": "markdown",
   "metadata": {},
   "source": [
    "The string class has a method called `upper` that allows us to perform this operation.\n",
    "\n",
    "We have created a class `Person`. Let us now create a function that will allow us to print the information for a person:"
   ]
  },
  {
   "cell_type": "code",
   "execution_count": 5,
   "metadata": {},
   "outputs": [],
   "source": [
    "class Person:\n",
    "\n",
    "    def __init__(self, name1=\"\", age1=0, address1=\"\", phone1=\"\", email1=\"\"):\n",
    "        self.name = name1\n",
    "        self.age = age1\n",
    "        self.address = address1\n",
    "        self.phone = phone1\n",
    "        self.email = email1\n",
    "    \n",
    "    def print_person(self):\n",
    "        print(\"Name: \", self.name)\n",
    "        print(\"Age: \", self.age)\n",
    "        print(\"Address: \", self.address)\n",
    "        print(\"Phone: \", self.phone)\n",
    "        print(\"Email: \", self.email)"
   ]
  },
  {
   "cell_type": "markdown",
   "metadata": {},
   "source": [
    "We have added a new method to the `Person` class called `print_person`. This method receives the parameter `self`. Every method in a class receives the object itself as the first parameter. \n",
    "\n",
    "Inside the function, we print the attributes of the object."
   ]
  },
  {
   "cell_type": "code",
   "execution_count": 6,
   "metadata": {},
   "outputs": [
    {
     "name": "stdout",
     "output_type": "stream",
     "text": [
      "Name:  \n",
      "Age:  0\n",
      "Address:  \n",
      "Phone:  \n",
      "Email:  \n",
      "\n",
      "Name:  John\n",
      "Age:  30\n",
      "Address:  123 Main St\n",
      "Phone:  555-1212\n",
      "Email:  john@email.com\n"
     ]
    }
   ],
   "source": [
    "var1 = Person()\n",
    "var2 = Person(\"John\", 30, \"123 Main St\", \"555-1212\",\"john@email.com\")\n",
    "\n",
    "var1.print_person()\n",
    "print()\n",
    "var2.print_person()"
   ]
  },
  {
   "cell_type": "markdown",
   "metadata": {},
   "source": [
    "To call a method in the class, we use the dot notation. Notice that when we call the method through `var1` the method prints the attributes of `var1`, and when we call the method through `var2` the method prints the attributes of `var2`. This is because inside the method we are printing `self.name` and `self.age` which are the attributes of the object. The `self` keyword is a reference to the object itself.\n",
    "\n",
    "Let us create another method that capitalizes all letters in the name of the `Person` and saves the result in the attribute `name`:"
   ]
  },
  {
   "cell_type": "code",
   "execution_count": 7,
   "metadata": {},
   "outputs": [
    {
     "name": "stdout",
     "output_type": "stream",
     "text": [
      "\n",
      "Name:  John\n",
      "Age:  30\n",
      "Address:  123 Main St\n",
      "Phone:  555-1212\n",
      "Email:  john@email.com\n",
      "\n",
      "Name:  JOHN\n",
      "Age:  30\n",
      "Address:  123 Main St\n",
      "Phone:  555-1212\n",
      "Email:  john@email.com\n"
     ]
    }
   ],
   "source": [
    "class Person:\n",
    "\n",
    "    def __init__(self, name1=\"\", age1=0, address1=\"\", phone1=\"\", email1=\"\"):\n",
    "        self.name = name1\n",
    "        self.age = age1\n",
    "        self.address = address1\n",
    "        self.phone = phone1\n",
    "        self.email = email1\n",
    "    \n",
    "    def print_person(self):\n",
    "        print(\"Name: \", self.name)\n",
    "        print(\"Age: \", self.age)\n",
    "        print(\"Address: \", self.address)\n",
    "        print(\"Phone: \", self.phone)\n",
    "        print(\"Email: \", self.email)\n",
    "    \n",
    "    def name_upper(self):\n",
    "        self.name = self.name.upper()\n",
    "\n",
    "var1 = Person(\"John\", 30, \"123 Main St\", \"555-1212\",\"john@email.com\")\n",
    "print()\n",
    "var1.print_person()\n",
    "print()\n",
    "var1.name_upper()\n",
    "var1.print_person()\n"
   ]
  },
  {
   "cell_type": "markdown",
   "metadata": {},
   "source": [
    "In the class definition, we create a new method called `name_upper`. In this function, we replace the current name with the name in all uppercase letters.\n",
    "\n",
    "In the main code, we create a `Person` and pass the values of the attributes to the constructor. Then, we call the `name_upper` method to change the name to all uppercase letters."
   ]
  }
 ],
 "metadata": {
  "kernelspec": {
   "display_name": "McGill",
   "language": "python",
   "name": "python3"
  },
  "language_info": {
   "codemirror_mode": {
    "name": "ipython",
    "version": 3
   },
   "file_extension": ".py",
   "mimetype": "text/x-python",
   "name": "python",
   "nbconvert_exporter": "python",
   "pygments_lexer": "ipython3",
   "version": "3.12.4"
  }
 },
 "nbformat": 4,
 "nbformat_minor": 2
}
