{
 "cells": [
  {
   "cell_type": "markdown",
   "metadata": {},
   "source": [
    "# Executing a script\n",
    "\n",
    "Assume that your colleague at work had written the following script:"
   ]
  },
  {
   "cell_type": "code",
   "execution_count": 2,
   "metadata": {},
   "outputs": [
    {
     "name": "stdout",
     "output_type": "stream",
     "text": [
      "No\n"
     ]
    }
   ],
   "source": [
    "def f1(s):\n",
    "    if s == \"Canada\":\n",
    "        return True\n",
    "    else:\n",
    "        return False\n",
    "\n",
    "def f2(b):\n",
    "    if b == True:\n",
    "        return \"Yes\"\n",
    "    else:\n",
    "        return \"No\"\n",
    "\n",
    "get_input = input(\"Enter the name of the country: \")\n",
    "result1 = f1(get_input)\n",
    "print(f2(result1))"
   ]
  },
  {
   "cell_type": "markdown",
   "metadata": {},
   "source": [
    "If we execute the cell above, we see that the code executes as expected. Now assume that you see this script and you decide that the functions will be useful for your project. You there decide to import the file into your notebook in order to use it. Assume that the contents of the cell above were saved as a module called `module_import`. Let us import this module so that we can use the functions: "
   ]
  },
  {
   "cell_type": "code",
   "execution_count": 3,
   "metadata": {},
   "outputs": [
    {
     "name": "stdout",
     "output_type": "stream",
     "text": [
      "Yes\n"
     ]
    }
   ],
   "source": [
    "import module_import"
   ]
  },
  {
   "cell_type": "markdown",
   "metadata": {},
   "source": [
    "Notice that when we import the module, we code in it is executed. However, we do not really want to execute the code to ask the user to enter something. We want to import the code so that we can use the functions which are part of the script. \n",
    "\n",
    "To solve this issue, the script can be modified the following way:"
   ]
  },
  {
   "cell_type": "code",
   "execution_count": null,
   "metadata": {},
   "outputs": [],
   "source": [
    "def f1(s):\n",
    "    if s == \"Canada\":\n",
    "        return True\n",
    "    else:\n",
    "        return False\n",
    "\n",
    "def f2(b):\n",
    "    if b == True:\n",
    "        return \"Yes\"\n",
    "    else:\n",
    "        return \"No\"\n",
    "\n",
    "if __name__ == \"__main__\":\n",
    "    get_input = input(\"Enter the name of the country: \")\n",
    "    result1 = f1(get_input)\n",
    "    print(f2(result1))"
   ]
  },
  {
   "cell_type": "markdown",
   "metadata": {},
   "source": [
    "Notice that we have added an `if` statement. Note also that we are checking if the value of a variable called `__name__` is the string `__main__`.  The variable `__name__` is a variable that is automatically created in every module. The value of this variable for the script that is being executed is `__main__`. Otherwise, if the script is not being executed, if it is being imported, the value will not be `__main__`. This is why if we run the code in the cell above, the entire code is executed. now let us see if we add this code to a module, call it `module_import2`, and to import that module:"
   ]
  },
  {
   "cell_type": "code",
   "execution_count": 5,
   "metadata": {},
   "outputs": [],
   "source": [
    "import module_import2"
   ]
  },
  {
   "cell_type": "markdown",
   "metadata": {},
   "source": [
    "Notice that when we import this module, the `input()` function does not get executed. This is because the code in the script is being imported. This means that the condition in the  `if` statement will evaluate to `False` so the code inside the `if` block will not get executed. \n",
    "\n",
    "As a summary, the code that goes into the `if __name__ == \"__main__\":` block will get executed if the file that contains this block is executed, and will not get executed if the file that contains this block gets imported into another file."
   ]
  }
 ],
 "metadata": {
  "kernelspec": {
   "display_name": "McGill",
   "language": "python",
   "name": "python3"
  },
  "language_info": {
   "codemirror_mode": {
    "name": "ipython",
    "version": 3
   },
   "file_extension": ".py",
   "mimetype": "text/x-python",
   "name": "python",
   "nbconvert_exporter": "python",
   "pygments_lexer": "ipython3",
   "version": "3.12.4"
  }
 },
 "nbformat": 4,
 "nbformat_minor": 2
}
