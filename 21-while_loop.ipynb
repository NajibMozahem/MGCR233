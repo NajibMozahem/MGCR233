{
 "cells": [
  {
   "cell_type": "markdown",
   "metadata": {},
   "source": [
    "# While loops\n",
    "\n",
    "A while loop is used to execute a block of code multiple times as long as a condition is true. Each time the code is executed, the condition is checked again. If the condition is still true, the code is executed again. If the condition is false, the loop is exited and the program continues with the next line of code. Consider the following example:"
   ]
  },
  {
   "cell_type": "code",
   "execution_count": 3,
   "metadata": {},
   "outputs": [
    {
     "name": "stdout",
     "output_type": "stream",
     "text": [
      "0\n",
      "1\n",
      "2\n",
      "3\n",
      "4\n",
      "Done\n"
     ]
    }
   ],
   "source": [
    "num = 0\n",
    "while num < 5:\n",
    "    print(num)\n",
    "    num += 1\n",
    "print(\"Done\")"
   ]
  },
  {
   "cell_type": "markdown",
   "metadata": {},
   "source": [
    "We see that the value of the variable num was printed five timnes, from 0 to 4. This is because the while loop will continue to execute as long as the condition is true. In this case, the condition is num < 5, which is true as long as num is less than 5. When num becomes 5, the condition becomes false and the loop stops. After the loop stops, execution continues with the next line of code, which is the print statement. Let us look at another example, but this time one where the user is asked to input a number and the loop will continue to execute as long as the number is greater than 0:"
   ]
  },
  {
   "cell_type": "code",
   "execution_count": 4,
   "metadata": {},
   "outputs": [
    {
     "name": "stdout",
     "output_type": "stream",
     "text": [
      "10 5 2.0\n"
     ]
    }
   ],
   "source": [
    "the_sum = 0\n",
    "counter = 0\n",
    "\n",
    "the_input = int(input(\"Enter a number: \"))\n",
    "\n",
    "while the_input > 0:\n",
    "    the_sum += the_input\n",
    "    counter += 1\n",
    "    the_input = int(input(\"Enter a number: \"))\n",
    "print(the_sum, counter, the_sum/counter)"
   ]
  },
  {
   "cell_type": "markdown",
   "metadata": {},
   "source": [
    "Let us look at another example. We will ask the user to enter the name of a city in Canada. As long as the user enters a city name that is part of the list of cities, the loop will keep executing:"
   ]
  },
  {
   "cell_type": "code",
   "execution_count": 5,
   "metadata": {},
   "outputs": [
    {
     "name": "stdout",
     "output_type": "stream",
     "text": [
      "That city is not Toronto\n",
      "That city is not Toronto\n",
      "That city is not Toronto\n",
      "That city is not in the list\n"
     ]
    }
   ],
   "source": [
    "cities = [\"Tonronto\", \"Montreal\", \"Vancouver\", \"Calgary\", \"Edmonton\", \"Winnipeg\", \"Ottawa\", \"Quebec City\", \"Halifax\", \"St. John's\"]\n",
    "\n",
    "the_input = input(\"Enter a city: \")\n",
    "while the_input in cities:\n",
    "    if the_input == \"Toronto\":\n",
    "        print(\"That city is Toronto\")\n",
    "    else:\n",
    "        print(\"That city is not Toronto\")\n",
    "    the_input = input(\"Enter a city: \")\n",
    "print(\"That city is not in the list\")"
   ]
  }
 ],
 "metadata": {
  "kernelspec": {
   "display_name": "McGill",
   "language": "python",
   "name": "python3"
  },
  "language_info": {
   "codemirror_mode": {
    "name": "ipython",
    "version": 3
   },
   "file_extension": ".py",
   "mimetype": "text/x-python",
   "name": "python",
   "nbconvert_exporter": "python",
   "pygments_lexer": "ipython3",
   "version": "3.12.4"
  }
 },
 "nbformat": 4,
 "nbformat_minor": 2
}
