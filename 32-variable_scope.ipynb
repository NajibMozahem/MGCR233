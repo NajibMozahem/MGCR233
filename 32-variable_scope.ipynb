{
 "cells": [
  {
   "cell_type": "markdown",
   "metadata": {},
   "source": [
    "# Global variables\n",
    "\n",
    "A global variable is a variable that is defined outside any function. this type of variable can be accessed from anywhere in the code, including inside functions."
   ]
  },
  {
   "cell_type": "code",
   "execution_count": 1,
   "metadata": {},
   "outputs": [
    {
     "name": "stdout",
     "output_type": "stream",
     "text": [
      "The multiplier is 2\n",
      "12\n"
     ]
    }
   ],
   "source": [
    "def a_function(a, b, c):\n",
    "    print(f\"The multiplier is {multiplier}\")\n",
    "    return (a + b + c) * multiplier\n",
    "\n",
    "multiplier = 2\n",
    "\n",
    "print(a_function(1, 2, 3))"
   ]
  },
  {
   "cell_type": "markdown",
   "metadata": {},
   "source": [
    "Notice that we can use the variable `multiplier` inside the function. This is because the variable is a global variable. It has been created outside any functions.\n",
    "\n",
    "# Local variables\n",
    "\n",
    "What if a variable is created inside a function? Can it be accessed outside the function?"
   ]
  },
  {
   "cell_type": "code",
   "execution_count": 2,
   "metadata": {},
   "outputs": [
    {
     "name": "stdout",
     "output_type": "stream",
     "text": [
      "The variable inside the function is 5\n"
     ]
    },
    {
     "ename": "NameError",
     "evalue": "name 'a_var' is not defined",
     "output_type": "error",
     "traceback": [
      "\u001b[0;31m---------------------------------------------------------------------------\u001b[0m",
      "\u001b[0;31mNameError\u001b[0m                                 Traceback (most recent call last)",
      "Cell \u001b[0;32mIn[2], line 6\u001b[0m\n\u001b[1;32m      3\u001b[0m     \u001b[38;5;28mprint\u001b[39m(\u001b[38;5;124mf\u001b[39m\u001b[38;5;124m\"\u001b[39m\u001b[38;5;124mThe variable inside the function is \u001b[39m\u001b[38;5;132;01m{\u001b[39;00ma_var\u001b[38;5;132;01m}\u001b[39;00m\u001b[38;5;124m\"\u001b[39m)\n\u001b[1;32m      5\u001b[0m f1()\n\u001b[0;32m----> 6\u001b[0m \u001b[38;5;28mprint\u001b[39m(\u001b[38;5;124mf\u001b[39m\u001b[38;5;124m\"\u001b[39m\u001b[38;5;124mThe variable outside the function is \u001b[39m\u001b[38;5;132;01m{\u001b[39;00m\u001b[43ma_var\u001b[49m\u001b[38;5;132;01m}\u001b[39;00m\u001b[38;5;124m\"\u001b[39m)\n",
      "\u001b[0;31mNameError\u001b[0m: name 'a_var' is not defined"
     ]
    }
   ],
   "source": [
    "def f1():\n",
    "    a_var = 5\n",
    "    print(f\"The variable inside the function is {a_var}\")\n",
    "\n",
    "f1()\n",
    "print(f\"The variable outside the function is {a_var}\")"
   ]
  },
  {
   "cell_type": "markdown",
   "metadata": {},
   "source": [
    "If we try to run the code above we will get an error. This is because variables that are created inside a function are called `local variables`. These variables are not global. They belong to the function in which they were created and can only be accessed in the function in which it was created.\n",
    "\n",
    "# Global and local variables\n",
    "\n",
    "What if the code included a global variable and a local variable that had the same name?"
   ]
  },
  {
   "cell_type": "code",
   "execution_count": 3,
   "metadata": {},
   "outputs": [
    {
     "name": "stdout",
     "output_type": "stream",
     "text": [
      "The variable inside the function is 5\n",
      "The variable outside the function is 10\n"
     ]
    }
   ],
   "source": [
    "var1 = 10\n",
    "\n",
    "def f1():\n",
    "    var1 = 5\n",
    "    print(f\"The variable inside the function is {var1}\")\n",
    "\n",
    "f1()\n",
    "print(f\"The variable outside the function is {var1}\")"
   ]
  },
  {
   "cell_type": "markdown",
   "metadata": {},
   "source": [
    "Notice that inside the function, the print statement prints the local value, and outside the function the print statement prints the global variable. This is because inside the function, both the global and local values are visible. On such a case, the local value is used. Local values have a higher priority than global values. Outside the function, only the global value is visible, so that is what is used.\n",
    "\n",
    "# Modifying global variables\n",
    "\n",
    "Let us take the previous code again:"
   ]
  },
  {
   "cell_type": "code",
   "execution_count": 4,
   "metadata": {},
   "outputs": [
    {
     "name": "stdout",
     "output_type": "stream",
     "text": [
      "The variable inside the function is 5\n",
      "The variable outside the function is 10\n"
     ]
    }
   ],
   "source": [
    "var1 = 10\n",
    "\n",
    "def f1():\n",
    "    var1 = 5\n",
    "    print(f\"The variable inside the function is {var1}\")\n",
    "\n",
    "f1()\n",
    "print(f\"The variable outside the function is {var1}\")"
   ]
  },
  {
   "cell_type": "markdown",
   "metadata": {},
   "source": [
    "We see that inside the function, when we assign the value 5 to `var1`, this is applied on the local level only. What if we wanted to modify the value of the global variable inside the function? To do that we will need to use the `global` command:"
   ]
  },
  {
   "cell_type": "code",
   "execution_count": 5,
   "metadata": {},
   "outputs": [
    {
     "name": "stdout",
     "output_type": "stream",
     "text": [
      "The variable inside the function is 5\n",
      "The variable outside the function is 5\n"
     ]
    }
   ],
   "source": [
    "var1 = 10\n",
    "\n",
    "def f1():\n",
    "    global var1\n",
    "    var1 = 5\n",
    "    print(f\"The variable inside the function is {var1}\")\n",
    "\n",
    "f1()\n",
    "print(f\"The variable outside the function is {var1}\")"
   ]
  },
  {
   "cell_type": "markdown",
   "metadata": {},
   "source": [
    "The `global` command tells Python that `var1` inside the function should use the global variable and should not create a local variables."
   ]
  }
 ],
 "metadata": {
  "kernelspec": {
   "display_name": "McGill",
   "language": "python",
   "name": "python3"
  },
  "language_info": {
   "codemirror_mode": {
    "name": "ipython",
    "version": 3
   },
   "file_extension": ".py",
   "mimetype": "text/x-python",
   "name": "python",
   "nbconvert_exporter": "python",
   "pygments_lexer": "ipython3",
   "version": "3.12.4"
  }
 },
 "nbformat": 4,
 "nbformat_minor": 2
}
