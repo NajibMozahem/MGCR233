{
 "cells": [
  {
   "cell_type": "markdown",
   "metadata": {},
   "source": [
    "# Class cusstomization\n",
    "\n",
    "Let us go back to our `Person` class and customize it. to understand what this means, let us instantiate an instance of the class and try to print it using the `print` function:"
   ]
  },
  {
   "cell_type": "code",
   "execution_count": 1,
   "metadata": {},
   "outputs": [
    {
     "name": "stdout",
     "output_type": "stream",
     "text": [
      "<__main__.Person object at 0x1058e3d10>\n"
     ]
    }
   ],
   "source": [
    "class Person:\n",
    "\n",
    "    married_status = 'single'\n",
    "\n",
    "    def __init__(self, name1=\"\", age1=0, address1=\"\", phone1=\"\", email1=\"\"):\n",
    "        self.name = name1\n",
    "        self.age = age1\n",
    "        self.address = address1\n",
    "        self.phone = phone1\n",
    "        self.email = email1\n",
    "    \n",
    "    def print_person(self):\n",
    "        print(\"Name: \", self.name)\n",
    "        print(\"Age: \", self.age)\n",
    "        print(\"Address: \", self.address)\n",
    "        print(\"Phone: \", self.phone)\n",
    "        print(\"Email: \", self.email)\n",
    "    \n",
    "    def name_upper(self):\n",
    "        self.name = self.name.upper()\n",
    "\n",
    "var2 = Person(\"John\", 30, \"123 Main St\", \"555-1212\",\"john@email.com\")\n",
    "print(var2)"
   ]
  },
  {
   "cell_type": "markdown",
   "metadata": {},
   "source": [
    "We see that the `print` function does not really print what we would expect to be printed. This is because the class `Person` is a new class that we created. Python does not know what to do with it when we try to print it. We need to tell Python how to print the class `Person`. This is done by defining a new function called `__str__` in the class `Person`. This function is called when we try to print the class `Person`:"
   ]
  },
  {
   "cell_type": "code",
   "execution_count": 4,
   "metadata": {},
   "outputs": [
    {
     "name": "stdout",
     "output_type": "stream",
     "text": [
      "This is the __str__ function\n",
      "Name: John\n",
      "Age: 30\n",
      "Address: 123 Main St\n",
      "Phone: 555-1212\n",
      "Email: john@email.com\n"
     ]
    }
   ],
   "source": [
    "class Person:\n",
    "\n",
    "    married_status = 'single'\n",
    "\n",
    "    def __init__(self, name1=\"\", age1=0, address1=\"\", phone1=\"\", email1=\"\"):\n",
    "        self.name = name1\n",
    "        self.age = age1\n",
    "        self.address = address1\n",
    "        self.phone = phone1\n",
    "        self.email = email1\n",
    "    \n",
    "    def print_person(self):\n",
    "        print(\"Name: \", self.name)\n",
    "        print(\"Age: \", self.age)\n",
    "        print(\"Address: \", self.address)\n",
    "        print(\"Phone: \", self.phone)\n",
    "        print(\"Email: \", self.email)\n",
    "    \n",
    "    def name_upper(self):\n",
    "        self.name = self.name.upper()\n",
    "    \n",
    "    def __str__(self):\n",
    "        print(\"This is the __str__ function\")\n",
    "        return \"Name: \" + self.name + \"\\nAge: \" + str(self.age) + \"\\nAddress: \" + self.address + \"\\nPhone: \" + self.phone + \"\\nEmail: \" + self.email\n",
    "\n",
    "var2 = Person(\"John\", 30, \"123 Main St\", \"555-1212\",\"john@email.com\")\n",
    "print(var2)"
   ]
  },
  {
   "cell_type": "markdown",
   "metadata": {},
   "source": [
    "We added the method `__str__` to the class `Person`. I have included a print statement in the method to show that it is called when we print the object. The method `__str__` returns a  string that is printed when we print the object. This is why it has a `return` statement. Now, when we use the `print` function, Python will call the `__str__` method and print the string that is returned by the method. We have therefore customized the way the object is printed."
   ]
  }
 ],
 "metadata": {
  "kernelspec": {
   "display_name": "McGill",
   "language": "python",
   "name": "python3"
  },
  "language_info": {
   "codemirror_mode": {
    "name": "ipython",
    "version": 3
   },
   "file_extension": ".py",
   "mimetype": "text/x-python",
   "name": "python",
   "nbconvert_exporter": "python",
   "pygments_lexer": "ipython3",
   "version": "3.12.4"
  }
 },
 "nbformat": 4,
 "nbformat_minor": 2
}
