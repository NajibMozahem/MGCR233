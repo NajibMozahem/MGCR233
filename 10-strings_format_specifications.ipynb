{
 "cells": [
  {
   "cell_type": "markdown",
   "metadata": {},
   "source": [
    "# Format specifications\n",
    "\n",
    "We have a high level of control when it comes to how to want the output to be formatted. Let us take the constant pi from tha math module:"
   ]
  },
  {
   "cell_type": "code",
   "execution_count": 1,
   "metadata": {},
   "outputs": [
    {
     "name": "stdout",
     "output_type": "stream",
     "text": [
      "PI to two decimal values: 3.14\n",
      "PI to five decimal values: 3.14159\n"
     ]
    }
   ],
   "source": [
    "import math\n",
    "\n",
    "print(f\"PI to two decimal values: {math.pi:.2f}\")\n",
    "print(f\"PI to five decimal values: {math.pi:.5f}\")"
   ]
  },
  {
   "cell_type": "markdown",
   "metadata": {},
   "source": [
    "We can also tell the print comand to include commas in the decimal value:"
   ]
  },
  {
   "cell_type": "code",
   "execution_count": 2,
   "metadata": {},
   "outputs": [
    {
     "name": "stdout",
     "output_type": "stream",
     "text": [
      "4000000.3333\n",
      "4000000.33\n",
      "4,000,000.33\n"
     ]
    }
   ],
   "source": [
    "number = 4000000.3333\n",
    "print(f'{number}')\n",
    "print(f'{number:.2f}')\n",
    "print(f'{number:,.2f}')"
   ]
  },
  {
   "cell_type": "markdown",
   "metadata": {},
   "source": [
    "The above examples are about formatting values with decimal numbers. We can also format integer values. This is similar to formatting floating-point values but instead of using an <i>f</i> we use a <i>d</i>:"
   ]
  },
  {
   "cell_type": "code",
   "execution_count": 3,
   "metadata": {},
   "outputs": [
    {
     "name": "stdout",
     "output_type": "stream",
     "text": [
      "4,000,000\n"
     ]
    }
   ],
   "source": [
    "number = 4000000\n",
    "print(f'{number:,d}')"
   ]
  },
  {
   "cell_type": "markdown",
   "metadata": {},
   "source": [
    "We can also specify how long we want the number to be. For example, if we want the number to be 3 digits long, but the number is less than 10, then we can add two leading zeros to the number:"
   ]
  },
  {
   "cell_type": "code",
   "execution_count": 4,
   "metadata": {},
   "outputs": [
    {
     "name": "stdout",
     "output_type": "stream",
     "text": [
      "004\n",
      "040\n",
      "400\n"
     ]
    }
   ],
   "source": [
    "number1 = 4\n",
    "print(f'{number1:03d}')\n",
    "\n",
    "number2 = 40\n",
    "print(f'{number2:03d}')\n",
    "\n",
    "number3 = 400\n",
    "print(f'{number3:03d}')"
   ]
  },
  {
   "cell_type": "markdown",
   "metadata": {},
   "source": [
    "Finally, we can print the binary value of a number:"
   ]
  },
  {
   "cell_type": "code",
   "execution_count": 5,
   "metadata": {},
   "outputs": [
    {
     "name": "stdout",
     "output_type": "stream",
     "text": [
      "1000\n"
     ]
    }
   ],
   "source": [
    "number = 8\n",
    "print(f'{number:b}')"
   ]
  }
 ],
 "metadata": {
  "kernelspec": {
   "display_name": "McGill",
   "language": "python",
   "name": "python3"
  },
  "language_info": {
   "codemirror_mode": {
    "name": "ipython",
    "version": 3
   },
   "file_extension": ".py",
   "mimetype": "text/x-python",
   "name": "python",
   "nbconvert_exporter": "python",
   "pygments_lexer": "ipython3",
   "version": "3.12.4"
  }
 },
 "nbformat": 4,
 "nbformat_minor": 2
}
