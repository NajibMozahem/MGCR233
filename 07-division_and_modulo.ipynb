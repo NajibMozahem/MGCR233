{
 "cells": [
  {
   "cell_type": "markdown",
   "metadata": {},
   "source": [
    "# Division\n",
    "\n",
    "When we divide two numbers, the result is always a floating-point number:"
   ]
  },
  {
   "cell_type": "code",
   "execution_count": 4,
   "metadata": {},
   "outputs": [
    {
     "name": "stdout",
     "output_type": "stream",
     "text": [
      "The anwer is: 2.5 and it is of type: <class 'float'>\n"
     ]
    }
   ],
   "source": [
    "var1 = 5/2\n",
    "print(\"The anwer is:\", var1, \"and it is of type:\", type(var1))"
   ]
  },
  {
   "cell_type": "markdown",
   "metadata": {},
   "source": [
    "This is true even if the result is a whole number:"
   ]
  },
  {
   "cell_type": "code",
   "execution_count": 6,
   "metadata": {},
   "outputs": [
    {
     "name": "stdout",
     "output_type": "stream",
     "text": [
      "The anwer is: 2.0 and it is of type: <class 'float'>\n"
     ]
    }
   ],
   "source": [
    "var2 = 4/2\n",
    "print(\"The anwer is:\", var2, \"and it is of type:\", type(var2))"
   ]
  },
  {
   "cell_type": "markdown",
   "metadata": {},
   "source": [
    "Sometimes, we are not interested in the fraction, we just care about the whole number. For example, if it takes a students 20 minutes to solve a coding excercise, how many coding excercises can be fully solved in 50 minutes? The answer is 2, since these two excercises will take 40 minutes and the remaining 10 minutes is not enough to completely solve another excercise. We can obtain this answer using the floor division:"
   ]
  },
  {
   "cell_type": "code",
   "execution_count": 7,
   "metadata": {},
   "outputs": [
    {
     "data": {
      "text/plain": [
       "2"
      ]
     },
     "execution_count": 7,
     "metadata": {},
     "output_type": "execute_result"
    }
   ],
   "source": [
    "50 // 20"
   ]
  },
  {
   "cell_type": "markdown",
   "metadata": {},
   "source": [
    "The <i>//</i> operator is a floor division. It divides the two numbers and then rounds the answer down to the closest whole number. Let us look at some other examples:"
   ]
  },
  {
   "cell_type": "code",
   "execution_count": 8,
   "metadata": {},
   "outputs": [
    {
     "name": "stdout",
     "output_type": "stream",
     "text": [
      "2\n",
      "1\n",
      "0\n"
     ]
    }
   ],
   "source": [
    "print(50 // 20)\n",
    "print(50 // 50)\n",
    "print(50 // 51)"
   ]
  },
  {
   "cell_type": "markdown",
   "metadata": {},
   "source": [
    "There are also cases where we actually care about the fraction that is left when we divide two numbers, and not about the whole number. In such cases we can use the modulo <i>%</i> operator:"
   ]
  },
  {
   "cell_type": "code",
   "execution_count": 9,
   "metadata": {},
   "outputs": [
    {
     "name": "stdout",
     "output_type": "stream",
     "text": [
      "10\n",
      "0\n",
      "50\n"
     ]
    }
   ],
   "source": [
    "print(50 % 20)\n",
    "print(50 % 50)\n",
    "print(50 % 51)"
   ]
  },
  {
   "cell_type": "markdown",
   "metadata": {},
   "source": [
    "For example, assume that we have a class of 22 students. The class is to be divided into groups of three. How many students will be left without a group? The answer is 1, because we create 7 groups of 3 students for a total of 21 students, and 1 student is left:"
   ]
  },
  {
   "cell_type": "code",
   "execution_count": 11,
   "metadata": {},
   "outputs": [
    {
     "data": {
      "text/plain": [
       "1"
      ]
     },
     "execution_count": 11,
     "metadata": {},
     "output_type": "execute_result"
    }
   ],
   "source": [
    "22 % 3"
   ]
  },
  {
   "cell_type": "markdown",
   "metadata": {},
   "source": [
    "To put this together, let us continue with this example. We have a class of 22 students and we want to divide them into groups of three. This means that:"
   ]
  },
  {
   "cell_type": "code",
   "execution_count": 12,
   "metadata": {},
   "outputs": [
    {
     "name": "stdout",
     "output_type": "stream",
     "text": [
      "We will have a total of 7 groups\n",
      "There will be 1 student(s) left out\n"
     ]
    }
   ],
   "source": [
    "print(\"We will have a total of\", 22 // 3, \"groups\")\n",
    "print(\"There will be\", 22 % 3, \"student(s) left out\")"
   ]
  }
 ],
 "metadata": {
  "kernelspec": {
   "display_name": "McGill",
   "language": "python",
   "name": "python3"
  },
  "language_info": {
   "codemirror_mode": {
    "name": "ipython",
    "version": 3
   },
   "file_extension": ".py",
   "mimetype": "text/x-python",
   "name": "python",
   "nbconvert_exporter": "python",
   "pygments_lexer": "ipython3",
   "version": "3.12.4"
  }
 },
 "nbformat": 4,
 "nbformat_minor": 2
}
