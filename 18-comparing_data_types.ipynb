{
 "cells": [
  {
   "cell_type": "markdown",
   "metadata": {},
   "source": [
    "# Comparing equality\n",
    "\n",
    "We check for equality using ==. However, this is not recommended for floating point numbers. This is due to the way floating-point arithmetic works. Floating point numbers can have small precision errors which make direct comparison unreliable. One possible solution is to use the ```math.isclose()``` function:"
   ]
  },
  {
   "cell_type": "code",
   "execution_count": 15,
   "metadata": {},
   "outputs": [
    {
     "name": "stdout",
     "output_type": "stream",
     "text": [
      "Not recommended: True\n",
      "Recommended: True\n"
     ]
    }
   ],
   "source": [
    "import math\n",
    "\n",
    "x = 3.14\n",
    "y = 3.14\n",
    "print(\"Not recommended:\", x == y)\n",
    "print(\"Recommended:\", math.isclose(x, y))"
   ]
  },
  {
   "cell_type": "markdown",
   "metadata": {},
   "source": [
    "Notice that both ways give the same answer, but the second way is the recommended way for floating point numbers.\n",
    "\n",
    "# Comparing lists and tuples\n",
    "\n",
    "In order for two lists or two tuples to be equal, every element in each must be the same:"
   ]
  },
  {
   "cell_type": "code",
   "execution_count": 16,
   "metadata": {},
   "outputs": [
    {
     "name": "stdout",
     "output_type": "stream",
     "text": [
      "True\n"
     ]
    }
   ],
   "source": [
    "list1 = [1, 2, 3]\n",
    "list2 = [1, 2, 3]\n",
    "print(list1 == list2)"
   ]
  },
  {
   "cell_type": "code",
   "execution_count": 17,
   "metadata": {},
   "outputs": [
    {
     "name": "stdout",
     "output_type": "stream",
     "text": [
      "False\n"
     ]
    }
   ],
   "source": [
    "list1 = [1, 2, 3]\n",
    "list2 = [1, 3, 2]\n",
    "print(list1 == list2)"
   ]
  },
  {
   "cell_type": "markdown",
   "metadata": {},
   "source": [
    "We can also use the > and < operator with lists. The comparison is done element by element, starting from the first element of each list. Python compares the first elements of both lists. If they are different, the result of the comparison is determined by these elements. If they are the same, Python moves to the next pair of elements and repeats the process. For example:"
   ]
  },
  {
   "cell_type": "code",
   "execution_count": 18,
   "metadata": {},
   "outputs": [
    {
     "name": "stdout",
     "output_type": "stream",
     "text": [
      "True\n"
     ]
    }
   ],
   "source": [
    "list1 = [2, 5, 20]\n",
    "list2 = [1, 10, 10]\n",
    "print(list1 > list2)"
   ]
  },
  {
   "cell_type": "markdown",
   "metadata": {},
   "source": [
    "The above evaluates to True because Python compares the first two elements and finds that the element in list1 is greater than the first element in list2. What if the first elements in the lists are equal?"
   ]
  },
  {
   "cell_type": "code",
   "execution_count": 19,
   "metadata": {},
   "outputs": [
    {
     "name": "stdout",
     "output_type": "stream",
     "text": [
      "False\n"
     ]
    }
   ],
   "source": [
    "list1 = [2, 5, 20]\n",
    "list2 = [2, 10, 10]\n",
    "print(list1 > list2)"
   ]
  },
  {
   "cell_type": "markdown",
   "metadata": {},
   "source": [
    "The expression evaluates to False. Since the first element in the lists are equal, the evaluation moves on to the second elements. In this case, the second element in list1 is not greater than the second element in list2, so the result is False.\n",
    "\n",
    "# Dictionaries\n",
    "\n",
    "We can only use the == and != operators when comparing dictionaries. For two dictionaries to be equal they must have the same set of keys and the same corresponding values for each key:"
   ]
  },
  {
   "cell_type": "code",
   "execution_count": 20,
   "metadata": {},
   "outputs": [
    {
     "name": "stdout",
     "output_type": "stream",
     "text": [
      "True\n"
     ]
    }
   ],
   "source": [
    "dict1 = {\"a\": 1, \"b\": 2, \"c\": 3}\n",
    "dict2 = {\"a\": 1, \"c\": 3, \"b\": 2}\n",
    "print(dict1 == dict2)"
   ]
  },
  {
   "cell_type": "code",
   "execution_count": 21,
   "metadata": {},
   "outputs": [
    {
     "name": "stdout",
     "output_type": "stream",
     "text": [
      "False\n"
     ]
    }
   ],
   "source": [
    "dict1 = {\"a\": 1, \"b\": 2, \"c\": 3}\n",
    "dict2 = {\"a\": 1, \"b\": 3, \"c\": 2}\n",
    "print(dict1 == dict2)"
   ]
  }
 ],
 "metadata": {
  "kernelspec": {
   "display_name": "McGill",
   "language": "python",
   "name": "python3"
  },
  "language_info": {
   "codemirror_mode": {
    "name": "ipython",
    "version": 3
   },
   "file_extension": ".py",
   "mimetype": "text/x-python",
   "name": "python",
   "nbconvert_exporter": "python",
   "pygments_lexer": "ipython3",
   "version": "3.12.4"
  }
 },
 "nbformat": 4,
 "nbformat_minor": 2
}
