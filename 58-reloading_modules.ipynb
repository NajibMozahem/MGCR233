{
 "cells": [
  {
   "cell_type": "markdown",
   "metadata": {},
   "source": [
    "# Reloading modules\n",
    "\n",
    "If a module has been modified after we have imported it, we will need to reload it in order to get the latest version. Simply calling `import` again will not work. This is because the module is already loaded into memory. If we try to import a module that has already been imported, Python will not reload it.\n",
    "\n",
    "To reload a module, we can use the `reload` function from the `importlib` module. This function takes the name of the module as an argument. As an example, let us import the module `module1`:"
   ]
  },
  {
   "cell_type": "code",
   "execution_count": 1,
   "metadata": {},
   "outputs": [],
   "source": [
    "import module1"
   ]
  },
  {
   "cell_type": "markdown",
   "metadata": {},
   "source": [
    "Assume that after executing the above cell, the module was modified. To reload it, we execute the following:"
   ]
  },
  {
   "cell_type": "code",
   "execution_count": 2,
   "metadata": {},
   "outputs": [
    {
     "data": {
      "text/plain": [
       "<module 'module1' from '/Users/najibmozanem/Library/CloudStorage/OneDrive-McGillUniversity/Repos/MGCR233/module1.py'>"
      ]
     },
     "execution_count": 2,
     "metadata": {},
     "output_type": "execute_result"
    }
   ],
   "source": [
    "from importlib import reload\n",
    "\n",
    "reload(module1)"
   ]
  }
 ],
 "metadata": {
  "kernelspec": {
   "display_name": "McGill",
   "language": "python",
   "name": "python3"
  },
  "language_info": {
   "codemirror_mode": {
    "name": "ipython",
    "version": 3
   },
   "file_extension": ".py",
   "mimetype": "text/x-python",
   "name": "python",
   "nbconvert_exporter": "python",
   "pygments_lexer": "ipython3",
   "version": "3.12.4"
  }
 },
 "nbformat": 4,
 "nbformat_minor": 2
}
