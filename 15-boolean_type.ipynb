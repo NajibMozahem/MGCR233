{
 "cells": [
  {
   "cell_type": "markdown",
   "metadata": {},
   "source": [
    "# Boolean types\n",
    "\n",
    "In addition to the types that we have discussed so far, there is another type that is very important especially when we want to study branching. This type is the boolean type:"
   ]
  },
  {
   "cell_type": "code",
   "execution_count": 9,
   "metadata": {},
   "outputs": [
    {
     "name": "stdout",
     "output_type": "stream",
     "text": [
      "True\n",
      "False\n",
      "<class 'bool'>\n",
      "<class 'bool'>\n"
     ]
    }
   ],
   "source": [
    "my_var1 = True\n",
    "my_var2 = False\n",
    "print(my_var1)\n",
    "print(my_var2)\n",
    "print(type(my_var1))\n",
    "print(type(my_var2))"
   ]
  },
  {
   "cell_type": "markdown",
   "metadata": {},
   "source": [
    "A boolean variable can take one of two values, either True or False (first letters are capitals). We can create a boolean variable not just by explicitly specifying True or False, but we can do it through an expression:"
   ]
  },
  {
   "cell_type": "code",
   "execution_count": 12,
   "metadata": {},
   "outputs": [
    {
     "name": "stdout",
     "output_type": "stream",
     "text": [
      "True\n",
      "False\n",
      "False\n"
     ]
    }
   ],
   "source": [
    "x = 3\n",
    "y = 4\n",
    "bool_var1 = x < y\n",
    "bool_var2 = x > y\n",
    "bool_var3 = x == y\n",
    "print(bool_var1)\n",
    "print(bool_var2)\n",
    "print(bool_var3)"
   ]
  },
  {
   "cell_type": "markdown",
   "metadata": {},
   "source": [
    "# Relational operators\n",
    "Boolean values represent the evaluation of an expression. For example, in the example above, <i>bool_var1</i> is equal to the evaluation of <i>x<y</i>. The following table shows the various operators used to test for conditions:\n",
    "\n",
    "|Operator| Description|\n",
    "|----------|----------|\n",
    "|<|a < b means a is less than b|\n",
    "|>|a > b means a is greater than b|\n",
    "|<=|a <= b means a is less than or equal to b|\n",
    "|>=|a >= b means a is greater than or equal to b|\n",
    "|==| a == b means a is equal to b|"
   ]
  },
  {
   "cell_type": "markdown",
   "metadata": {},
   "source": [
    "# Logical operators\n",
    "Just like we can use arithmetic operators in mathematical expressions, we can use logical operators with boolean expressions. For example, in the following cell, the boolean expression is checking two conditions:"
   ]
  },
  {
   "cell_type": "code",
   "execution_count": 5,
   "metadata": {},
   "outputs": [
    {
     "name": "stdout",
     "output_type": "stream",
     "text": [
      "True\n"
     ]
    }
   ],
   "source": [
    "x = 7\n",
    "bool_var4 = (x > 5) and (x < 10)\n",
    "print(bool_var4)"
   ]
  },
  {
   "cell_type": "markdown",
   "metadata": {},
   "source": [
    "We used the <i>and</i> operator to check two conditions. Both conditions evaluated to true, since x is greater than 5 and it is less than 10. The following tables shows some boolean operators and how they are evaluated:\n",
    "\n",
    "The and operator:\n",
    "\n",
    "|a|b| a and b|\n",
    "|----------|----------|----------|\n",
    "|True| True| True|\n",
    "|True| False| False|\n",
    "|False| True| False|\n",
    "|False| False| False|\n",
    "\n",
    "The or operator:\n",
    "|a|b| a or b|\n",
    "|----------|----------|----------|\n",
    "|True| True| True|\n",
    "|True| False| True|\n",
    "|False| True| True|\n",
    "|False| False| False|\n",
    "\n",
    "The not operator:\n",
    "\n",
    "|a| not a|\n",
    "|----------|----------|\n",
    "|True| False|\n",
    "|False| True|"
   ]
  },
  {
   "cell_type": "markdown",
   "metadata": {},
   "source": [
    "The following are some examples:"
   ]
  },
  {
   "cell_type": "code",
   "execution_count": 19,
   "metadata": {},
   "outputs": [
    {
     "name": "stdout",
     "output_type": "stream",
     "text": [
      "True\n",
      "False\n",
      "True\n",
      "False\n",
      "True\n"
     ]
    }
   ],
   "source": [
    "x = 7\n",
    "y = 9\n",
    "var1 = (x > 5) and (y < 10)\n",
    "var2 = (x > 5) and (y > 10)\n",
    "var3 = (x < 5) or (y < 10)\n",
    "var4 = (x < 5) or (y > 10)\n",
    "var5 = not (x < 5)\n",
    "print(var1)\n",
    "print(var2)\n",
    "print(var3)\n",
    "print(var4)\n",
    "print(var5)"
   ]
  }
 ],
 "metadata": {
  "kernelspec": {
   "display_name": "McGill",
   "language": "python",
   "name": "python3"
  },
  "language_info": {
   "codemirror_mode": {
    "name": "ipython",
    "version": 3
   },
   "file_extension": ".py",
   "mimetype": "text/x-python",
   "name": "python",
   "nbconvert_exporter": "python",
   "pygments_lexer": "ipython3",
   "version": "3.12.4"
  }
 },
 "nbformat": 4,
 "nbformat_minor": 2
}
