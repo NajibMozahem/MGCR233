{
 "cells": [
  {
   "cell_type": "markdown",
   "metadata": {},
   "source": [
    "# Splitting a string\n",
    "\n",
    "In mnay cases, we want to split a string into individual components. We can do this using the `split` method:"
   ]
  },
  {
   "cell_type": "code",
   "execution_count": 1,
   "metadata": {},
   "outputs": [
    {
     "data": {
      "text/plain": [
       "['I', 'want', 'to', 'split', 'this', 'string']"
      ]
     },
     "execution_count": 1,
     "metadata": {},
     "output_type": "execute_result"
    }
   ],
   "source": [
    "str1 = \" I want to split this string\"\n",
    "\n",
    "str1.split()"
   ]
  },
  {
   "cell_type": "markdown",
   "metadata": {},
   "source": [
    "Notice that the `split` function takes a string and returns a list of strings. By default, it splits on whitespace, but you can also specify a delimiter:"
   ]
  },
  {
   "cell_type": "code",
   "execution_count": 2,
   "metadata": {},
   "outputs": [
    {
     "data": {
      "text/plain": [
       "[' I want to spl', 't th', 's str', 'ng']"
      ]
     },
     "execution_count": 2,
     "metadata": {},
     "output_type": "execute_result"
    }
   ],
   "source": [
    "str1 = \" I want to split this string\"\n",
    "\n",
    "str1.split('i')"
   ]
  },
  {
   "cell_type": "markdown",
   "metadata": {},
   "source": [
    "We can save the returned list and loop over it:"
   ]
  },
  {
   "cell_type": "code",
   "execution_count": 5,
   "metadata": {},
   "outputs": [
    {
     "name": "stdout",
     "output_type": "stream",
     "text": [
      "['I', 'want', 'to', 'split', 'this', 'string']\n",
      "Print the individual elements of the list\n",
      "I\n",
      "want\n",
      "to\n",
      "split\n",
      "this\n",
      "string\n"
     ]
    }
   ],
   "source": [
    "str1 = \" I want to split this string\"\n",
    "\n",
    "list1 = str1.split()\n",
    "print(list1)\n",
    "print(\"Print the individual elements of the list\")\n",
    "for i in list1:\n",
    "    print(i)"
   ]
  },
  {
   "cell_type": "markdown",
   "metadata": {},
   "source": [
    "# Joining elements in a list to a string\n",
    "\n",
    "While the `split` function takes a string and splits it into a list, the `join` function takes a list and joins the elements together into a string:"
   ]
  },
  {
   "cell_type": "code",
   "execution_count": 6,
   "metadata": {},
   "outputs": [
    {
     "data": {
      "text/plain": [
       "'a b c'"
      ]
     },
     "execution_count": 6,
     "metadata": {},
     "output_type": "execute_result"
    }
   ],
   "source": [
    "list1 = [\"a\", \"b\", \"c\"]\n",
    "\n",
    "\" \".join(list1)"
   ]
  },
  {
   "cell_type": "markdown",
   "metadata": {},
   "source": [
    "We used the space character to tell Python how to join the elements. Let us look at another example:"
   ]
  },
  {
   "cell_type": "code",
   "execution_count": 7,
   "metadata": {},
   "outputs": [
    {
     "data": {
      "text/plain": [
       "'I-want to-join these elements'"
      ]
     },
     "execution_count": 7,
     "metadata": {},
     "output_type": "execute_result"
    }
   ],
   "source": [
    "list1 = [\"I\", \"want to\", \"join these elements\"]\n",
    "\n",
    "join_chr = \"-\"\n",
    "\n",
    "join_chr.join(list1)"
   ]
  },
  {
   "cell_type": "markdown",
   "metadata": {},
   "source": [
    "We can see that the `join` function is the inverse of the `split` function. The `split` function takes a string and splits it into a list of substrings based on a delimiter, while the `join` function takes a list of substrings and joins them into a single string using a delimiter.\n",
    "\n",
    "# Combining the two functions\n",
    "\n",
    "We can combine the two functions to perform more complex operations on strings. For example, we can use the `split` function to extract the first and last names from a full name, and then use the `join` function to combine them into a single string with a dash between them:"
   ]
  },
  {
   "cell_type": "code",
   "execution_count": 9,
   "metadata": {},
   "outputs": [
    {
     "name": "stdout",
     "output_type": "stream",
     "text": [
      "Before the split:  Lionel Messi\n",
      "After the split:  ['Lionel', 'Messi']\n",
      "After the join:  Lionel-Messi\n"
     ]
    }
   ],
   "source": [
    "name = \"Lionel Messi\"\n",
    "\n",
    "print(\"Before the split: \", name)\n",
    "list1 = name.split()\n",
    "print(\"After the split: \", list1)\n",
    "\n",
    "str1 = \"-\".join(list1)\n",
    "print(\"After the join: \", str1)"
   ]
  }
 ],
 "metadata": {
  "kernelspec": {
   "display_name": "McGill",
   "language": "python",
   "name": "python3"
  },
  "language_info": {
   "codemirror_mode": {
    "name": "ipython",
    "version": 3
   },
   "file_extension": ".py",
   "mimetype": "text/x-python",
   "name": "python",
   "nbconvert_exporter": "python",
   "pygments_lexer": "ipython3",
   "version": "3.12.4"
  }
 },
 "nbformat": 4,
 "nbformat_minor": 2
}
