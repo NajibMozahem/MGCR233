{
 "cells": [
  {
   "cell_type": "markdown",
   "metadata": {},
   "source": [
    "# Dictionaries\n",
    "\n",
    "Another important data structure are dictionaries. Like lists, dictionaries are muutable. This means that when a function is called on a list, the list is modified. Look at the following examples: \n"
   ]
  },
  {
   "cell_type": "code",
   "execution_count": 3,
   "metadata": {},
   "outputs": [
    {
     "name": "stdout",
     "output_type": "stream",
     "text": [
      "Original dictionary: {'name': 'Leen', 'age': 30, 'city': 'Montreal', 'country': 'Canada'}\n",
      "After clear(): {}\n",
      "After update(): {'name': 'Leen', 'age': 30, 'city': 'Toronto', 'country': 'Canada', 'profession': 'Software Developer'}\n",
      "After pop: {'name': 'Leen', 'age': 30, 'country': 'Canada', 'profession': 'Software Developer'}\n"
     ]
    }
   ],
   "source": [
    "my_dict = {\n",
    "    \"name\": \"Leen\",\n",
    "    \"age\": 30,\n",
    "    \"city\": \"Montreal\",\n",
    "    \"country\": \"Canada\"\n",
    "}\n",
    "\n",
    "print(\"Original dictionary:\", my_dict)\n",
    "\n",
    "my_dict.clear()\n",
    "\n",
    "print(\"After clear():\", my_dict)\n",
    "\n",
    "my_dict = {\n",
    "    \"name\": \"Leen\",\n",
    "    \"age\": 30,\n",
    "    \"city\": \"Montreal\",\n",
    "    \"country\": \"Canada\"\n",
    "}\n",
    "\n",
    "dict2 = {\n",
    "    \"city\": \"Toronto\",\n",
    "    \"profession\": \"Software Developer\"\n",
    "}\n",
    "\n",
    "my_dict.update(dict2)\n",
    "print(\"After update():\", my_dict)\n",
    "\n",
    "my_dict.pop(\"city\")\n",
    "print(\"After pop:\", my_dict)"
   ]
  }
 ],
 "metadata": {
  "kernelspec": {
   "display_name": "McGill",
   "language": "python",
   "name": "python3"
  },
  "language_info": {
   "codemirror_mode": {
    "name": "ipython",
    "version": 3
   },
   "file_extension": ".py",
   "mimetype": "text/x-python",
   "name": "python",
   "nbconvert_exporter": "python",
   "pygments_lexer": "ipython3",
   "version": "3.12.4"
  }
 },
 "nbformat": 4,
 "nbformat_minor": 2
}
