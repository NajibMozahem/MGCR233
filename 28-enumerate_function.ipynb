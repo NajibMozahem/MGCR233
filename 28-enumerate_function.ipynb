{
 "cells": [
  {
   "cell_type": "markdown",
   "metadata": {},
   "source": [
    "# Enumerate function\n",
    "\n",
    "If we loop over a list, we can access the value of each element in the list:"
   ]
  },
  {
   "cell_type": "code",
   "execution_count": 1,
   "metadata": {},
   "outputs": [
    {
     "name": "stdout",
     "output_type": "stream",
     "text": [
      "1\n",
      "aaa\n",
      "4.5\n",
      "2\n"
     ]
    }
   ],
   "source": [
    "list1 = [1, \"aaa\", 4.5, 2]\n",
    "\n",
    "for value in list1:\n",
    "    print(value)"
   ]
  },
  {
   "cell_type": "markdown",
   "metadata": {},
   "source": [
    "A useful function is the `enumerate` function. It returns the index and value of each element:"
   ]
  },
  {
   "cell_type": "code",
   "execution_count": 2,
   "metadata": {},
   "outputs": [
    {
     "name": "stdout",
     "output_type": "stream",
     "text": [
      "(0, 1)\n",
      "(1, 'aaa')\n",
      "(2, 4.5)\n",
      "(3, 2)\n"
     ]
    }
   ],
   "source": [
    "list1 = [1, \"aaa\", 4.5, 2]\n",
    "\n",
    "for value in enumerate(list1):\n",
    "    print(value)"
   ]
  },
  {
   "cell_type": "markdown",
   "metadata": {},
   "source": [
    "Notice that the variable `value` is no longer just the value of the element, but a tuple containing the index and the value of the element. We can save each of these values in a separeate variable:"
   ]
  },
  {
   "cell_type": "code",
   "execution_count": 3,
   "metadata": {},
   "outputs": [
    {
     "name": "stdout",
     "output_type": "stream",
     "text": [
      "0 1\n",
      "1 aaa\n",
      "2 4.5\n",
      "3 2\n"
     ]
    }
   ],
   "source": [
    "list1 = [1, \"aaa\", 4.5, 2]\n",
    "\n",
    "for index, value in enumerate(list1):\n",
    "    print(index, value)"
   ]
  },
  {
   "cell_type": "markdown",
   "metadata": {},
   "source": [
    "Notice that we go over the list, and each time the `enumerate` function gives us the index of the element, and the element itself."
   ]
  }
 ],
 "metadata": {
  "kernelspec": {
   "display_name": "McGill",
   "language": "python",
   "name": "python3"
  },
  "language_info": {
   "codemirror_mode": {
    "name": "ipython",
    "version": 3
   },
   "file_extension": ".py",
   "mimetype": "text/x-python",
   "name": "python",
   "nbconvert_exporter": "python",
   "pygments_lexer": "ipython3",
   "version": "3.12.4"
  }
 },
 "nbformat": 4,
 "nbformat_minor": 2
}
