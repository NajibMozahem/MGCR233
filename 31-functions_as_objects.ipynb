{
 "cells": [
  {
   "cell_type": "markdown",
   "metadata": {},
   "source": [
    "# Functions are objects\n",
    "\n",
    "One of the characteristics of functions is that they are similar to variables in that they are objects. This means that we can use the assign operator to assign a new variable to a function:"
   ]
  },
  {
   "cell_type": "code",
   "execution_count": 1,
   "metadata": {},
   "outputs": [
    {
     "name": "stdout",
     "output_type": "stream",
     "text": [
      "<class 'int'>\n",
      "<class 'int'>\n"
     ]
    }
   ],
   "source": [
    "print(type(1))\n",
    "\n",
    "my_type = type\n",
    "\n",
    "print(my_type(1))"
   ]
  },
  {
   "cell_type": "markdown",
   "metadata": {},
   "source": [
    "Notice that when we create the variable `my_type` and make it equal to the name of the function `type` the variable `my_type` starts behaving like the function. Let us look at another example:"
   ]
  },
  {
   "cell_type": "code",
   "execution_count": 2,
   "metadata": {},
   "outputs": [
    {
     "name": "stdout",
     "output_type": "stream",
     "text": [
      "11\n",
      "11\n"
     ]
    }
   ],
   "source": [
    "def my_function(a, b):\n",
    "    return a + b\n",
    "\n",
    "i = 5\n",
    "j = 6\n",
    "\n",
    "print(my_function(i, j))\n",
    "\n",
    "another_variable = my_function\n",
    "\n",
    "print(another_variable(i, j))"
   ]
  },
  {
   "cell_type": "markdown",
   "metadata": {},
   "source": [
    "In the code above, we define a function called `my_function`. The function takes two parameters. We then call the function to see how it operates. We note that the function returns the sum of the two numbers that we use as parameters. We next create a new variable called `another_variable` and we make this variable equal to the name of the function that we have just created. We can now use the new variable to call the function. This is because the variable `another_variable` is equal to the function `my_function` and therefore behaves like it."
   ]
  }
 ],
 "metadata": {
  "kernelspec": {
   "display_name": "McGill",
   "language": "python",
   "name": "python3"
  },
  "language_info": {
   "codemirror_mode": {
    "name": "ipython",
    "version": 3
   },
   "file_extension": ".py",
   "mimetype": "text/x-python",
   "name": "python",
   "nbconvert_exporter": "python",
   "pygments_lexer": "ipython3",
   "version": "3.12.4"
  }
 },
 "nbformat": 4,
 "nbformat_minor": 2
}
