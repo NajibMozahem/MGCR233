{
 "cells": [
  {
   "cell_type": "markdown",
   "metadata": {},
   "source": [
    "# Sets\n",
    "\n",
    "A set is a collection that has the following two properties:\n",
    "\n",
    "* Elements are unordered\n",
    "* No duplicate elements\n",
    "\n",
    "You can create a set using one of the following two ways:"
   ]
  },
  {
   "cell_type": "code",
   "execution_count": 10,
   "metadata": {},
   "outputs": [
    {
     "name": "stdout",
     "output_type": "stream",
     "text": [
      "{1, 2, 3, 4, 5}\n",
      "{1, 2, 3, 4, 5}\n",
      "<class 'set'>\n",
      "<class 'set'>\n",
      "5\n",
      "5\n",
      "True\n"
     ]
    }
   ],
   "source": [
    "set1 = set([1, 2, 3, 4, 5])\n",
    "set2 = {1, 2, 3, 4, 5}\n",
    "print(set1)\n",
    "print(set2)\n",
    "print(type(set1))\n",
    "print(type(set2))\n",
    "print(len(set1))\n",
    "print(len(set2))\n",
    "print(set1 == set2)"
   ]
  },
  {
   "cell_type": "markdown",
   "metadata": {},
   "source": [
    "Unlike lists, it is not possible to use an index to access individual elements of a set. This is because a set is unordered. Just because we created a set using the command ```{1, 2, 3, 4, 5}``` does not mean that the elements are in this order.\n",
    "\n",
    "One of the most common uses of a set is to reduce a list to a collection of unique values:"
   ]
  },
  {
   "cell_type": "code",
   "execution_count": 11,
   "metadata": {},
   "outputs": [
    {
     "name": "stdout",
     "output_type": "stream",
     "text": [
      "{'The Matrix', 'The Godfather', 'Green Book', 'Her'}\n"
     ]
    }
   ],
   "source": [
    "movies_watched = [\"The Matrix\", \"Green Book\", \"Her\", \"The Godfather\", \"The Matrix\"]\n",
    "movies_set = set(movies_watched)\n",
    "print(movies_set)"
   ]
  },
  {
   "cell_type": "markdown",
   "metadata": {},
   "source": [
    "While elements in a set cannot be accessed using an index like the case of a list, some of the functions used with lists can also be used with sets:"
   ]
  },
  {
   "cell_type": "code",
   "execution_count": 12,
   "metadata": {},
   "outputs": [
    {
     "name": "stdout",
     "output_type": "stream",
     "text": [
      "{72, 60, 70, 79}\n",
      "{70, 72, 79, 85, 60}\n",
      "{70, 72, 79, 85}\n",
      "{72, 79, 85}\n"
     ]
    }
   ],
   "source": [
    "my_grades = {70, 72, 79, 60}\n",
    "print(my_grades)\n",
    "# add the element 85 to the set\n",
    "my_grades.add(85)\n",
    "print(my_grades)\n",
    "# remove the element 60 from the set\n",
    "my_grades.remove(60)\n",
    "print(my_grades)\n",
    "# remove a random element from the set\n",
    "my_grades.pop()\n",
    "print(my_grades)"
   ]
  },
  {
   "cell_type": "markdown",
   "metadata": {},
   "source": [
    "## Set theory\n",
    "\n",
    "There are some useful methods that allow us to perform operations on multiple sets:"
   ]
  },
  {
   "cell_type": "code",
   "execution_count": 13,
   "metadata": {},
   "outputs": [
    {
     "name": "stdout",
     "output_type": "stream",
     "text": [
      "Union:  {1, 2, 3, 4, 5, 6, 7}\n",
      "Intersection of 2 sets:  {3, 4, 5}\n",
      "Difference of 2 sets:  {1, 2}\n",
      "Intersection of 3 sets:  set()\n",
      "Difference of 3 sets:  {1, 2}\n",
      "Symmetric difference:  {1, 2, 6, 7}\n"
     ]
    }
   ],
   "source": [
    "set1 = {1, 2, 3, 4, 5}\n",
    "set2 = {3, 4, 5, 6, 7}\n",
    "set3 = {6, 7, 8, 9, 10}\n",
    "# union\n",
    "print(\"Union: \", set1.union(set2))\n",
    "# intersection of 2 sets\n",
    "print(\"Intersection of 2 sets: \", set1.intersection(set2))\n",
    "# difference of 2 sets\n",
    "print(\"Difference of 2 sets: \", set1.difference(set2))\n",
    "# intersection of 3 sets\n",
    "print(\"Intersection of 3 sets: \", set1.intersection(set2, set3))\n",
    "# difference of 3 sets\n",
    "print(\"Difference of 3 sets: \", set1.difference(set2, set3))\n",
    "# symmetric difference\n",
    "print(\"Symmetric difference: \", set1.symmetric_difference(set2))"
   ]
  },
  {
   "cell_type": "markdown",
   "metadata": {},
   "source": [
    "The last two functions that we will cover here are the update and clear functions. The update function is used to add elements that are in one set to another set:"
   ]
  },
  {
   "cell_type": "code",
   "execution_count": 15,
   "metadata": {},
   "outputs": [
    {
     "name": "stdout",
     "output_type": "stream",
     "text": [
      "{1, 2, 3, 4, 5, 6, 7}\n"
     ]
    }
   ],
   "source": [
    "set1 = {1, 2, 3, 4, 5}\n",
    "set2 = {3, 4, 5, 6, 7}\n",
    "set1.update(set2)\n",
    "print(set1)"
   ]
  },
  {
   "cell_type": "markdown",
   "metadata": {},
   "source": [
    "And finally, the clear() function clears the set:"
   ]
  },
  {
   "cell_type": "code",
   "execution_count": 16,
   "metadata": {},
   "outputs": [
    {
     "name": "stdout",
     "output_type": "stream",
     "text": [
      "set()\n"
     ]
    }
   ],
   "source": [
    "set1 = {1, 2, 3, 4, 5}\n",
    "set1.clear()\n",
    "print(set1)"
   ]
  }
 ],
 "metadata": {
  "kernelspec": {
   "display_name": "McGill",
   "language": "python",
   "name": "python3"
  },
  "language_info": {
   "codemirror_mode": {
    "name": "ipython",
    "version": 3
   },
   "file_extension": ".py",
   "mimetype": "text/x-python",
   "name": "python",
   "nbconvert_exporter": "python",
   "pygments_lexer": "ipython3",
   "version": "3.12.4"
  }
 },
 "nbformat": 4,
 "nbformat_minor": 2
}
