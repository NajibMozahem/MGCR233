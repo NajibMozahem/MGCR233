{
 "cells": [
  {
   "cell_type": "markdown",
   "metadata": {},
   "source": [
    "# Printing\n",
    "\n",
    "In python we use the print() function to display something on the screen: "
   ]
  },
  {
   "cell_type": "code",
   "execution_count": 1,
   "metadata": {},
   "outputs": [
    {
     "name": "stdout",
     "output_type": "stream",
     "text": [
      "MGCR233\n"
     ]
    }
   ],
   "source": [
    "print(\"MGCR233\")"
   ]
  },
  {
   "cell_type": "markdown",
   "metadata": {},
   "source": [
    "Notice that the term MGCR233 was placed withing quotations. This is how we tell the print() function that we want to print text, which we call a string. The string (text) can contain any character, not just letters. \n",
    "\n",
    "What would happen if we did not include the quotations? Let us try:"
   ]
  },
  {
   "cell_type": "code",
   "execution_count": 2,
   "metadata": {},
   "outputs": [
    {
     "ename": "NameError",
     "evalue": "name 'MGCR233' is not defined",
     "output_type": "error",
     "traceback": [
      "\u001b[0;31m---------------------------------------------------------------------------\u001b[0m",
      "\u001b[0;31mNameError\u001b[0m                                 Traceback (most recent call last)",
      "Cell \u001b[0;32mIn[2], line 1\u001b[0m\n\u001b[0;32m----> 1\u001b[0m \u001b[38;5;28mprint\u001b[39m(\u001b[43mMGCR233\u001b[49m)\n",
      "\u001b[0;31mNameError\u001b[0m: name 'MGCR233' is not defined"
     ]
    }
   ],
   "source": [
    "print(MGCR233)"
   ]
  },
  {
   "cell_type": "markdown",
   "metadata": {},
   "source": [
    "We get an error. The error message tells us that what we entered inside the print() function is not known.\n",
    "\n",
    "We can also print numbers. In this case, there is no need to use quotations:"
   ]
  },
  {
   "cell_type": "code",
   "execution_count": 3,
   "metadata": {},
   "outputs": [
    {
     "name": "stdout",
     "output_type": "stream",
     "text": [
      "65\n"
     ]
    }
   ],
   "source": [
    "print(65)"
   ]
  },
  {
   "cell_type": "markdown",
   "metadata": {},
   "source": [
    "We can also print more than one thing at once:"
   ]
  },
  {
   "cell_type": "code",
   "execution_count": 4,
   "metadata": {},
   "outputs": [
    {
     "name": "stdout",
     "output_type": "stream",
     "text": [
      "MGCR233 65\n"
     ]
    }
   ],
   "source": [
    "print(\"MGCR233\", 65)"
   ]
  },
  {
   "cell_type": "markdown",
   "metadata": {},
   "source": [
    "Notice that there is a space between the two objects we printed. This is the default behavior. We can change this behavior:"
   ]
  },
  {
   "cell_type": "code",
   "execution_count": 5,
   "metadata": {},
   "outputs": [
    {
     "name": "stdout",
     "output_type": "stream",
     "text": [
      "MGCR23365\n"
     ]
    }
   ],
   "source": [
    "print(\"MGCR233\", 65, sep=\"\")"
   ]
  },
  {
   "cell_type": "markdown",
   "metadata": {},
   "source": [
    "We used the <i>sep</i> parameter to tell python that we want the separator to be empty.\n",
    "\n",
    "We can also print variables that store the information that we want:"
   ]
  },
  {
   "cell_type": "code",
   "execution_count": 6,
   "metadata": {},
   "outputs": [
    {
     "name": "stdout",
     "output_type": "stream",
     "text": [
      "MGCR233 65\n"
     ]
    }
   ],
   "source": [
    "course = \"MGCR233\"\n",
    "students = 65\n",
    "print(course, students)"
   ]
  },
  {
   "cell_type": "markdown",
   "metadata": {},
   "source": [
    "In the above code, we store the name of the course and the number of students in variables that we call <i>course</i> and <i>students</i> respectively. We then use these variables to print. When the code is executed, python knows what the value of each variable is because each of these variables have been defined. \n",
    "\n",
    "We can make the output look better:"
   ]
  },
  {
   "cell_type": "code",
   "execution_count": 7,
   "metadata": {},
   "outputs": [
    {
     "name": "stdout",
     "output_type": "stream",
     "text": [
      "Course name: MGCR233 Number of students: 65\n"
     ]
    }
   ],
   "source": [
    "course = \"MGCR233\"\n",
    "students = 65\n",
    "print(\"Course name:\",course, \"Number of students:\",students)"
   ]
  },
  {
   "cell_type": "markdown",
   "metadata": {},
   "source": [
    "What if we wanted to print each on a different line? We can simply use two different print statements since each statement starts on a new line:"
   ]
  },
  {
   "cell_type": "code",
   "execution_count": 8,
   "metadata": {},
   "outputs": [
    {
     "name": "stdout",
     "output_type": "stream",
     "text": [
      "Course name: MGCR233\n",
      "Number of students: 65\n"
     ]
    }
   ],
   "source": [
    "course = \"MGCR233\"\n",
    "students = 65\n",
    "print(\"Course name:\",course) \n",
    "print(\"Number of students:\",students)"
   ]
  },
  {
   "cell_type": "markdown",
   "metadata": {},
   "source": [
    "Another way to do this is to use a special character:"
   ]
  },
  {
   "cell_type": "code",
   "execution_count": 9,
   "metadata": {},
   "outputs": [
    {
     "name": "stdout",
     "output_type": "stream",
     "text": [
      "Course name: MGCR233 \n",
      "Number of students: 65\n"
     ]
    }
   ],
   "source": [
    "course = \"MGCR233\"\n",
    "students = 65\n",
    "print(\"Course name:\",course, \"\\nNumber of students:\",students)"
   ]
  },
  {
   "cell_type": "markdown",
   "metadata": {},
   "source": [
    "The ```\"\\n\"``` character is an example of an escape sequence. This character tells python to go to the next line. \n",
    "\n",
    "This is another example of an escape sequence:"
   ]
  },
  {
   "cell_type": "code",
   "execution_count": 10,
   "metadata": {},
   "outputs": [
    {
     "name": "stdout",
     "output_type": "stream",
     "text": [
      "Course name: MGCR233 \tNumber of students: 65\n"
     ]
    }
   ],
   "source": [
    "course = \"MGCR233\"\n",
    "students = 65\n",
    "print(\"Course name:\",course, \"\\tNumber of students:\",students)"
   ]
  },
  {
   "cell_type": "markdown",
   "metadata": {},
   "source": [
    "Notice that the output is on the same line. This is because we replaced ```\"\\n\"``` by ```\"\\t\"```, which means \"tab\". This is like pressing the tab key on your keyboard.\n",
    "\n",
    "What if we wanted to print the actual ```\"\\\"``` character? This is how is it done:"
   ]
  },
  {
   "cell_type": "code",
   "execution_count": 11,
   "metadata": {},
   "outputs": [
    {
     "name": "stdout",
     "output_type": "stream",
     "text": [
      "MGCR233 \\ 65\n"
     ]
    }
   ],
   "source": [
    "print(\"MGCR233 \\\\ 65\")"
   ]
  },
  {
   "cell_type": "markdown",
   "metadata": {},
   "source": [
    "We had to enter the \"\\\" character twice. What happens if we entered it once?"
   ]
  },
  {
   "cell_type": "code",
   "execution_count": 12,
   "metadata": {},
   "outputs": [
    {
     "name": "stdout",
     "output_type": "stream",
     "text": [
      "MGCR233 \\ 65\n"
     ]
    },
    {
     "name": "stderr",
     "output_type": "stream",
     "text": [
      "<>:1: SyntaxWarning: invalid escape sequence '\\ '\n",
      "<>:1: SyntaxWarning: invalid escape sequence '\\ '\n",
      "/var/folders/tv/hv6h055n4vb1jfthrkxpkh3m0000gn/T/ipykernel_52034/108483995.py:1: SyntaxWarning: invalid escape sequence '\\ '\n",
      "  print(\"MGCR233 \\ 65\")\n"
     ]
    }
   ],
   "source": [
    "print(\"MGCR233 \\ 65\")"
   ]
  },
  {
   "cell_type": "markdown",
   "metadata": {},
   "source": [
    "As you can see, we get an error. This is because the ```\"\\\"``` tells python that a special sequence is coming up. The character after ```\"\\\"``` is a space, but there is no special sequence which is ```\"\\ \"```."
   ]
  },
  {
   "cell_type": "markdown",
   "metadata": {},
   "source": []
  }
 ],
 "metadata": {
  "kernelspec": {
   "display_name": "McGill",
   "language": "python",
   "name": "python3"
  },
  "language_info": {
   "codemirror_mode": {
    "name": "ipython",
    "version": 3
   },
   "file_extension": ".py",
   "mimetype": "text/x-python",
   "name": "python",
   "nbconvert_exporter": "python",
   "pygments_lexer": "ipython3",
   "version": "3.12.4"
  }
 },
 "nbformat": 4,
 "nbformat_minor": 2
}
