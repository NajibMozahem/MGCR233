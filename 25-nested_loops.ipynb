{
 "cells": [
  {
   "cell_type": "markdown",
   "metadata": {},
   "source": [
    "#  Nested loops\n",
    "\n",
    "One loop can be embedded inside another loop:"
   ]
  },
  {
   "cell_type": "code",
   "execution_count": 2,
   "metadata": {},
   "outputs": [
    {
     "name": "stdout",
     "output_type": "stream",
     "text": [
      "0 0\n",
      "0 1\n",
      "1 0\n",
      "1 1\n",
      "2 0\n",
      "2 1\n"
     ]
    }
   ],
   "source": [
    "for r in range(3): # 0, 1, 2\n",
    "    for c in range(2): # 0, 1\n",
    "        print(r, c)"
   ]
  },
  {
   "cell_type": "markdown",
   "metadata": {},
   "source": [
    "Notice what happens. For each iteration of the outer loop, the inner loop runs completely. In the above code, when r is 0, the inner loop runs from 0 to 1. When r is 1, the inner loop runs from 0 to 1. When r is 2, the inner loop runs from 0 to 1.\n",
    "\n",
    "The loops do not have to be both for loops:"
   ]
  },
  {
   "cell_type": "code",
   "execution_count": 5,
   "metadata": {},
   "outputs": [
    {
     "name": "stdout",
     "output_type": "stream",
     "text": [
      "0 0\n",
      "0 1\n",
      "This is in the outer loop\n",
      "1 0\n",
      "1 1\n",
      "This is in the outer loop\n",
      "2 0\n",
      "2 1\n",
      "This is in the outer loop\n",
      "This is outside the loop\n"
     ]
    }
   ],
   "source": [
    "for r in range(3): # 0, 1, 2\n",
    "    count = 0\n",
    "    while count < 2:\n",
    "        print(r, count)\n",
    "        count += 1\n",
    "    print(\"This is in the outer loop\")\n",
    "print(\"This is outside the loop\")"
   ]
  }
 ],
 "metadata": {
  "kernelspec": {
   "display_name": "McGill",
   "language": "python",
   "name": "python3"
  },
  "language_info": {
   "codemirror_mode": {
    "name": "ipython",
    "version": 3
   },
   "file_extension": ".py",
   "mimetype": "text/x-python",
   "name": "python",
   "nbconvert_exporter": "python",
   "pygments_lexer": "ipython3",
   "version": "3.12.4"
  }
 },
 "nbformat": 4,
 "nbformat_minor": 2
}
